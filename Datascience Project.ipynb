{
 "cells": [
  {
   "cell_type": "markdown",
   "id": "0e2c673d-f948-4888-a890-4474511365e6",
   "metadata": {},
   "source": [
    "# Importing Required Modules"
   ]
  },
  {
   "cell_type": "code",
   "execution_count": 43,
   "id": "7c2cd2be-1f07-4b43-8dcb-547c3fbf87da",
   "metadata": {},
   "outputs": [],
   "source": [
    "import numpy as np\n",
    "import pandas as pd\n",
    "import matplotlib.pyplot as plt\n",
    "import seaborn as sns\n",
    "import plotly.express as px\n",
    "#import warnings\n",
    "#warnings.filterwarnings('ignore')"
   ]
  },
  {
   "cell_type": "markdown",
   "id": "c774a7ac-cf0d-4fb1-80b3-639a2b33bc9e",
   "metadata": {},
   "source": [
    "# Reading Dataset"
   ]
  },
  {
   "cell_type": "code",
   "execution_count": 44,
   "id": "46b4c785-dee5-4b1a-aa17-5a6048dfdbf1",
   "metadata": {
    "scrolled": true
   },
   "outputs": [
    {
     "data": {
      "text/html": [
       "<div>\n",
       "<style scoped>\n",
       "    .dataframe tbody tr th:only-of-type {\n",
       "        vertical-align: middle;\n",
       "    }\n",
       "\n",
       "    .dataframe tbody tr th {\n",
       "        vertical-align: top;\n",
       "    }\n",
       "\n",
       "    .dataframe thead th {\n",
       "        text-align: right;\n",
       "    }\n",
       "</style>\n",
       "<table border=\"1\" class=\"dataframe\">\n",
       "  <thead>\n",
       "    <tr style=\"text-align: right;\">\n",
       "      <th></th>\n",
       "      <th>Pregnancies</th>\n",
       "      <th>Glucose</th>\n",
       "      <th>BloodPressure</th>\n",
       "      <th>SkinThickness</th>\n",
       "      <th>Insulin</th>\n",
       "      <th>BMI</th>\n",
       "      <th>DiabetesPedigreeFunction</th>\n",
       "      <th>Age</th>\n",
       "      <th>Outcome</th>\n",
       "    </tr>\n",
       "  </thead>\n",
       "  <tbody>\n",
       "    <tr>\n",
       "      <th>0</th>\n",
       "      <td>6</td>\n",
       "      <td>148</td>\n",
       "      <td>72</td>\n",
       "      <td>35</td>\n",
       "      <td>0</td>\n",
       "      <td>33.6</td>\n",
       "      <td>0.627</td>\n",
       "      <td>50</td>\n",
       "      <td>1</td>\n",
       "    </tr>\n",
       "    <tr>\n",
       "      <th>1</th>\n",
       "      <td>1</td>\n",
       "      <td>85</td>\n",
       "      <td>66</td>\n",
       "      <td>29</td>\n",
       "      <td>0</td>\n",
       "      <td>26.6</td>\n",
       "      <td>0.351</td>\n",
       "      <td>31</td>\n",
       "      <td>0</td>\n",
       "    </tr>\n",
       "    <tr>\n",
       "      <th>2</th>\n",
       "      <td>8</td>\n",
       "      <td>183</td>\n",
       "      <td>64</td>\n",
       "      <td>0</td>\n",
       "      <td>0</td>\n",
       "      <td>23.3</td>\n",
       "      <td>0.672</td>\n",
       "      <td>32</td>\n",
       "      <td>1</td>\n",
       "    </tr>\n",
       "    <tr>\n",
       "      <th>3</th>\n",
       "      <td>1</td>\n",
       "      <td>89</td>\n",
       "      <td>66</td>\n",
       "      <td>23</td>\n",
       "      <td>94</td>\n",
       "      <td>28.1</td>\n",
       "      <td>0.167</td>\n",
       "      <td>21</td>\n",
       "      <td>0</td>\n",
       "    </tr>\n",
       "    <tr>\n",
       "      <th>4</th>\n",
       "      <td>0</td>\n",
       "      <td>137</td>\n",
       "      <td>40</td>\n",
       "      <td>35</td>\n",
       "      <td>168</td>\n",
       "      <td>43.1</td>\n",
       "      <td>2.288</td>\n",
       "      <td>33</td>\n",
       "      <td>1</td>\n",
       "    </tr>\n",
       "  </tbody>\n",
       "</table>\n",
       "</div>"
      ],
      "text/plain": [
       "   Pregnancies  Glucose  BloodPressure  SkinThickness  Insulin   BMI  \\\n",
       "0            6      148             72             35        0  33.6   \n",
       "1            1       85             66             29        0  26.6   \n",
       "2            8      183             64              0        0  23.3   \n",
       "3            1       89             66             23       94  28.1   \n",
       "4            0      137             40             35      168  43.1   \n",
       "\n",
       "   DiabetesPedigreeFunction  Age  Outcome  \n",
       "0                     0.627   50        1  \n",
       "1                     0.351   31        0  \n",
       "2                     0.672   32        1  \n",
       "3                     0.167   21        0  \n",
       "4                     2.288   33        1  "
      ]
     },
     "execution_count": 44,
     "metadata": {},
     "output_type": "execute_result"
    }
   ],
   "source": [
    "df=pd.read_csv('C:/Users/91973/JupyterProjects/diabetes.csv')\n",
    "df.head()"
   ]
  },
  {
   "cell_type": "markdown",
   "id": "756a9ccf-f02b-46fb-ae12-505ac916af9a",
   "metadata": {},
   "source": [
    "# Infomation about Features in Dataset"
   ]
  },
  {
   "cell_type": "code",
   "execution_count": 45,
   "id": "0f76c9d0-5ca9-41ab-8bbe-5f7eb1c8e76f",
   "metadata": {},
   "outputs": [
    {
     "name": "stdout",
     "output_type": "stream",
     "text": [
      "<class 'pandas.core.frame.DataFrame'>\n",
      "RangeIndex: 768 entries, 0 to 767\n",
      "Data columns (total 9 columns):\n",
      " #   Column                    Non-Null Count  Dtype  \n",
      "---  ------                    --------------  -----  \n",
      " 0   Pregnancies               768 non-null    int64  \n",
      " 1   Glucose                   768 non-null    int64  \n",
      " 2   BloodPressure             768 non-null    int64  \n",
      " 3   SkinThickness             768 non-null    int64  \n",
      " 4   Insulin                   768 non-null    int64  \n",
      " 5   BMI                       768 non-null    float64\n",
      " 6   DiabetesPedigreeFunction  768 non-null    float64\n",
      " 7   Age                       768 non-null    int64  \n",
      " 8   Outcome                   768 non-null    int64  \n",
      "dtypes: float64(2), int64(7)\n",
      "memory usage: 54.1 KB\n"
     ]
    }
   ],
   "source": [
    "df.info()"
   ]
  },
  {
   "cell_type": "markdown",
   "id": "38768dcd-5cec-4c48-8cd5-146dbd9b2656",
   "metadata": {},
   "source": [
    "# Descriptive Statistic of Dataset"
   ]
  },
  {
   "cell_type": "code",
   "execution_count": 46,
   "id": "dcd213eb-0af4-4477-84aa-4ba4ba98330b",
   "metadata": {},
   "outputs": [
    {
     "data": {
      "text/html": [
       "<div>\n",
       "<style scoped>\n",
       "    .dataframe tbody tr th:only-of-type {\n",
       "        vertical-align: middle;\n",
       "    }\n",
       "\n",
       "    .dataframe tbody tr th {\n",
       "        vertical-align: top;\n",
       "    }\n",
       "\n",
       "    .dataframe thead th {\n",
       "        text-align: right;\n",
       "    }\n",
       "</style>\n",
       "<table border=\"1\" class=\"dataframe\">\n",
       "  <thead>\n",
       "    <tr style=\"text-align: right;\">\n",
       "      <th></th>\n",
       "      <th>Pregnancies</th>\n",
       "      <th>Glucose</th>\n",
       "      <th>BloodPressure</th>\n",
       "      <th>SkinThickness</th>\n",
       "      <th>Insulin</th>\n",
       "      <th>BMI</th>\n",
       "      <th>DiabetesPedigreeFunction</th>\n",
       "      <th>Age</th>\n",
       "      <th>Outcome</th>\n",
       "    </tr>\n",
       "  </thead>\n",
       "  <tbody>\n",
       "    <tr>\n",
       "      <th>count</th>\n",
       "      <td>768.000000</td>\n",
       "      <td>768.000000</td>\n",
       "      <td>768.000000</td>\n",
       "      <td>768.000000</td>\n",
       "      <td>768.000000</td>\n",
       "      <td>768.000000</td>\n",
       "      <td>768.000000</td>\n",
       "      <td>768.000000</td>\n",
       "      <td>768.000000</td>\n",
       "    </tr>\n",
       "    <tr>\n",
       "      <th>mean</th>\n",
       "      <td>3.845052</td>\n",
       "      <td>120.894531</td>\n",
       "      <td>69.105469</td>\n",
       "      <td>20.536458</td>\n",
       "      <td>79.799479</td>\n",
       "      <td>31.992578</td>\n",
       "      <td>0.471876</td>\n",
       "      <td>33.240885</td>\n",
       "      <td>0.348958</td>\n",
       "    </tr>\n",
       "    <tr>\n",
       "      <th>std</th>\n",
       "      <td>3.369578</td>\n",
       "      <td>31.972618</td>\n",
       "      <td>19.355807</td>\n",
       "      <td>15.952218</td>\n",
       "      <td>115.244002</td>\n",
       "      <td>7.884160</td>\n",
       "      <td>0.331329</td>\n",
       "      <td>11.760232</td>\n",
       "      <td>0.476951</td>\n",
       "    </tr>\n",
       "    <tr>\n",
       "      <th>min</th>\n",
       "      <td>0.000000</td>\n",
       "      <td>0.000000</td>\n",
       "      <td>0.000000</td>\n",
       "      <td>0.000000</td>\n",
       "      <td>0.000000</td>\n",
       "      <td>0.000000</td>\n",
       "      <td>0.078000</td>\n",
       "      <td>21.000000</td>\n",
       "      <td>0.000000</td>\n",
       "    </tr>\n",
       "    <tr>\n",
       "      <th>25%</th>\n",
       "      <td>1.000000</td>\n",
       "      <td>99.000000</td>\n",
       "      <td>62.000000</td>\n",
       "      <td>0.000000</td>\n",
       "      <td>0.000000</td>\n",
       "      <td>27.300000</td>\n",
       "      <td>0.243750</td>\n",
       "      <td>24.000000</td>\n",
       "      <td>0.000000</td>\n",
       "    </tr>\n",
       "    <tr>\n",
       "      <th>50%</th>\n",
       "      <td>3.000000</td>\n",
       "      <td>117.000000</td>\n",
       "      <td>72.000000</td>\n",
       "      <td>23.000000</td>\n",
       "      <td>30.500000</td>\n",
       "      <td>32.000000</td>\n",
       "      <td>0.372500</td>\n",
       "      <td>29.000000</td>\n",
       "      <td>0.000000</td>\n",
       "    </tr>\n",
       "    <tr>\n",
       "      <th>75%</th>\n",
       "      <td>6.000000</td>\n",
       "      <td>140.250000</td>\n",
       "      <td>80.000000</td>\n",
       "      <td>32.000000</td>\n",
       "      <td>127.250000</td>\n",
       "      <td>36.600000</td>\n",
       "      <td>0.626250</td>\n",
       "      <td>41.000000</td>\n",
       "      <td>1.000000</td>\n",
       "    </tr>\n",
       "    <tr>\n",
       "      <th>max</th>\n",
       "      <td>17.000000</td>\n",
       "      <td>199.000000</td>\n",
       "      <td>122.000000</td>\n",
       "      <td>99.000000</td>\n",
       "      <td>846.000000</td>\n",
       "      <td>67.100000</td>\n",
       "      <td>2.420000</td>\n",
       "      <td>81.000000</td>\n",
       "      <td>1.000000</td>\n",
       "    </tr>\n",
       "  </tbody>\n",
       "</table>\n",
       "</div>"
      ],
      "text/plain": [
       "       Pregnancies     Glucose  BloodPressure  SkinThickness     Insulin  \\\n",
       "count   768.000000  768.000000     768.000000     768.000000  768.000000   \n",
       "mean      3.845052  120.894531      69.105469      20.536458   79.799479   \n",
       "std       3.369578   31.972618      19.355807      15.952218  115.244002   \n",
       "min       0.000000    0.000000       0.000000       0.000000    0.000000   \n",
       "25%       1.000000   99.000000      62.000000       0.000000    0.000000   \n",
       "50%       3.000000  117.000000      72.000000      23.000000   30.500000   \n",
       "75%       6.000000  140.250000      80.000000      32.000000  127.250000   \n",
       "max      17.000000  199.000000     122.000000      99.000000  846.000000   \n",
       "\n",
       "              BMI  DiabetesPedigreeFunction         Age     Outcome  \n",
       "count  768.000000                768.000000  768.000000  768.000000  \n",
       "mean    31.992578                  0.471876   33.240885    0.348958  \n",
       "std      7.884160                  0.331329   11.760232    0.476951  \n",
       "min      0.000000                  0.078000   21.000000    0.000000  \n",
       "25%     27.300000                  0.243750   24.000000    0.000000  \n",
       "50%     32.000000                  0.372500   29.000000    0.000000  \n",
       "75%     36.600000                  0.626250   41.000000    1.000000  \n",
       "max     67.100000                  2.420000   81.000000    1.000000  "
      ]
     },
     "execution_count": 46,
     "metadata": {},
     "output_type": "execute_result"
    }
   ],
   "source": [
    "df.describe()"
   ]
  },
  {
   "cell_type": "code",
   "execution_count": 47,
   "id": "5be551bc-46a1-497b-9bc6-e138d3e8ef37",
   "metadata": {},
   "outputs": [
    {
     "name": "stdout",
     "output_type": "stream",
     "text": [
      "Total patients diagnosed as diabetic  268\n",
      "Total patients diagnosed as not diabetic  500\n"
     ]
    }
   ],
   "source": [
    "diagnosed = df[df['Outcome'] == 1].shape[0]\n",
    "n_diagnosed = df[df['Outcome'] == 0].shape[0]\n",
    "\n",
    "print('Total patients diagnosed as diabetic ',diagnosed)\n",
    "print('Total patients diagnosed as not diabetic ',n_diagnosed)"
   ]
  },
  {
   "cell_type": "code",
   "execution_count": 48,
   "id": "6b1595e7-65d7-43c6-82a1-ea7be89c5a36",
   "metadata": {},
   "outputs": [
    {
     "data": {
      "text/plain": [
       "<Axes: >"
      ]
     },
     "execution_count": 48,
     "metadata": {},
     "output_type": "execute_result"
    },
    {
     "data": {
      "image/png": "[encoded data removed]",
      "text/plain": [
       "<Figure size 1200x1000 with 1 Axes>"
      ]
     },
     "metadata": {},
     "output_type": "display_data"
    }
   ],
   "source": [
    "plt.figure(figsize=(12,10))\n",
    "sns.boxplot(df)"
   ]
  },
  {
   "cell_type": "markdown",
   "id": "c7828d87-0696-45ce-8558-5dffe2eeee87",
   "metadata": {},
   "source": [
    "# Skewness"
   ]
  },
  {
   "cell_type": "code",
   "execution_count": 49,
   "id": "52c22b1c-1a7f-47a8-a399-33f5b359589a",
   "metadata": {},
   "outputs": [],
   "source": [
    "from scipy.stats import skew"
   ]
  },
  {
   "cell_type": "code",
   "execution_count": 50,
   "id": "ed29d474-5e06-4f52-a98c-d4ea1c889d5f",
   "metadata": {},
   "outputs": [
    {
     "name": "stdout",
     "output_type": "stream",
     "text": [
      "Skewness Coefficient: 0.17341395519987735\n"
     ]
    },
    {
     "data": {
      "image/png": "[encoded data removed]",
      "text/plain": [
       "<Figure size 640x480 with 1 Axes>"
      ]
     },
     "metadata": {},
     "output_type": "display_data"
    }
   ],
   "source": [
    "sns.histplot(df['Glucose'],kde=True)\n",
    "data = df['Glucose']\n",
    "skewness_coefficient = skew(data)\n",
    "print(\"Skewness Coefficient:\", skewness_coefficient)"
   ]
  },
  {
   "cell_type": "code",
   "execution_count": 51,
   "id": "42d96376-1ada-4364-b705-80b92bfa2c57",
   "metadata": {},
   "outputs": [
    {
     "name": "stdout",
     "output_type": "stream",
     "text": [
      "Skewness Coefficient: 2.2678104585131753\n"
     ]
    },
    {
     "data": {
      "image/png": "[encoded data removed]",
      "text/plain": [
       "<Figure size 640x480 with 1 Axes>"
      ]
     },
     "metadata": {},
     "output_type": "display_data"
    }
   ],
   "source": [
    "sns.histplot(df['Insulin'],kde=True)\n",
    "data = df['Insulin']\n",
    "skewness_coefficient = skew(data)\n",
    "print(\"Skewness Coefficient:\", skewness_coefficient)"
   ]
  },
  {
   "cell_type": "code",
   "execution_count": 52,
   "id": "91d84b69-0520-4be4-8493-01d132ab9ff1",
   "metadata": {},
   "outputs": [
    {
     "name": "stdout",
     "output_type": "stream",
     "text": [
      "Skewness Coefficient: -0.42814327880861786\n"
     ]
    },
    {
     "data": {
      "image/png": "[encoded data removed]",
      "text/plain": [
       "<Figure size 640x480 with 1 Axes>"
      ]
     },
     "metadata": {},
     "output_type": "display_data"
    }
   ],
   "source": [
    "sns.histplot(df['BMI'],kde=True)\n",
    "data = df['BMI']\n",
    "skewness_coefficient = skew(data)\n",
    "print(\"Skewness Coefficient:\", skewness_coefficient)"
   ]
  },
  {
   "cell_type": "code",
   "execution_count": 53,
   "id": "058cfc6e-579f-45c8-8752-5ecbf2aec348",
   "metadata": {},
   "outputs": [
    {
     "name": "stdout",
     "output_type": "stream",
     "text": [
      "Skewness Coefficient: 1.9161592037386292\n"
     ]
    },
    {
     "data": {
      "image/png": "[encoded data removed]",
      "text/plain": [
       "<Figure size 640x480 with 1 Axes>"
      ]
     },
     "metadata": {},
     "output_type": "display_data"
    }
   ],
   "source": [
    "sns.histplot(df['DiabetesPedigreeFunction'],kde=True)\n",
    "data = df['DiabetesPedigreeFunction']\n",
    "skewness_coefficient = skew(data)\n",
    "print(\"Skewness Coefficient:\", skewness_coefficient)"
   ]
  },
  {
   "cell_type": "code",
   "execution_count": 54,
   "id": "a3ea63e2-70c7-458d-a7e3-dd6e7ff05afc",
   "metadata": {},
   "outputs": [
    {
     "name": "stdout",
     "output_type": "stream",
     "text": [
      "Skewness Coefficient: 1.127389259531697\n"
     ]
    },
    {
     "data": {
      "image/png": "[encoded data removed]",
      "text/plain": [
       "<Figure size 640x480 with 1 Axes>"
      ]
     },
     "metadata": {},
     "output_type": "display_data"
    }
   ],
   "source": [
    "sns.histplot(df['Age'],kde=True)\n",
    "data = df['Age']\n",
    "skewness_coefficient = skew(data)\n",
    "print(\"Skewness Coefficient:\", skewness_coefficient)"
   ]
  },
  {
   "cell_type": "markdown",
   "id": "66729d51-e926-45fa-a545-f63801371bd6",
   "metadata": {},
   "source": [
    "# Identifying Missing Values"
   ]
  },
  {
   "cell_type": "code",
   "execution_count": 55,
   "id": "fda0be80-318c-4813-a54a-be2995bb95ac",
   "metadata": {},
   "outputs": [
    {
     "data": {
      "text/plain": [
       "Pregnancies                 0\n",
       "Glucose                     0\n",
       "BloodPressure               0\n",
       "SkinThickness               0\n",
       "Insulin                     0\n",
       "BMI                         0\n",
       "DiabetesPedigreeFunction    0\n",
       "Age                         0\n",
       "Outcome                     0\n",
       "dtype: int64"
      ]
     },
     "execution_count": 55,
     "metadata": {},
     "output_type": "execute_result"
    }
   ],
   "source": [
    "df.isnull().sum()"
   ]
  },
  {
   "cell_type": "code",
   "execution_count": 56,
   "id": "467e6bb4-9fc5-4fc8-8073-f1605304c1f2",
   "metadata": {},
   "outputs": [
    {
     "data": {
      "text/plain": [
       "Pregnancies                 111\n",
       "Glucose                       5\n",
       "BloodPressure                35\n",
       "SkinThickness               227\n",
       "Insulin                     374\n",
       "BMI                          11\n",
       "DiabetesPedigreeFunction      0\n",
       "Age                           0\n",
       "Outcome                       0\n",
       "dtype: int64"
      ]
     },
     "execution_count": 56,
     "metadata": {},
     "output_type": "execute_result"
    }
   ],
   "source": [
    "df[ ['Pregnancies', 'Glucose', 'BloodPressure', 'SkinThickness', 'Insulin',\n",
    "       'BMI', 'DiabetesPedigreeFunction', 'Age']]=df[ ['Pregnancies', 'Glucose', 'BloodPressure', 'SkinThickness', 'Insulin',\n",
    "       'BMI', 'DiabetesPedigreeFunction', 'Age']].replace(0,np.NaN)\n",
    "df.isnull().sum()"
   ]
  },
  {
   "cell_type": "code",
   "execution_count": 57,
   "id": "37b05873-4be3-4573-9af9-d3cca9dcdf72",
   "metadata": {},
   "outputs": [
    {
     "data": {
      "text/html": [
       "<div>\n",
       "<style scoped>\n",
       "    .dataframe tbody tr th:only-of-type {\n",
       "        vertical-align: middle;\n",
       "    }\n",
       "\n",
       "    .dataframe tbody tr th {\n",
       "        vertical-align: top;\n",
       "    }\n",
       "\n",
       "    .dataframe thead th {\n",
       "        text-align: right;\n",
       "    }\n",
       "</style>\n",
       "<table border=\"1\" class=\"dataframe\">\n",
       "  <thead>\n",
       "    <tr style=\"text-align: right;\">\n",
       "      <th></th>\n",
       "      <th>Pregnancies</th>\n",
       "      <th>Glucose</th>\n",
       "      <th>BloodPressure</th>\n",
       "      <th>SkinThickness</th>\n",
       "      <th>Insulin</th>\n",
       "      <th>BMI</th>\n",
       "      <th>DiabetesPedigreeFunction</th>\n",
       "      <th>Age</th>\n",
       "      <th>Outcome</th>\n",
       "    </tr>\n",
       "  </thead>\n",
       "  <tbody>\n",
       "    <tr>\n",
       "      <th>0</th>\n",
       "      <td>6.0</td>\n",
       "      <td>148.0</td>\n",
       "      <td>72.0</td>\n",
       "      <td>35.0</td>\n",
       "      <td>NaN</td>\n",
       "      <td>33.6</td>\n",
       "      <td>0.627</td>\n",
       "      <td>50</td>\n",
       "      <td>1</td>\n",
       "    </tr>\n",
       "    <tr>\n",
       "      <th>1</th>\n",
       "      <td>1.0</td>\n",
       "      <td>85.0</td>\n",
       "      <td>66.0</td>\n",
       "      <td>29.0</td>\n",
       "      <td>NaN</td>\n",
       "      <td>26.6</td>\n",
       "      <td>0.351</td>\n",
       "      <td>31</td>\n",
       "      <td>0</td>\n",
       "    </tr>\n",
       "    <tr>\n",
       "      <th>2</th>\n",
       "      <td>8.0</td>\n",
       "      <td>183.0</td>\n",
       "      <td>64.0</td>\n",
       "      <td>NaN</td>\n",
       "      <td>NaN</td>\n",
       "      <td>23.3</td>\n",
       "      <td>0.672</td>\n",
       "      <td>32</td>\n",
       "      <td>1</td>\n",
       "    </tr>\n",
       "    <tr>\n",
       "      <th>3</th>\n",
       "      <td>1.0</td>\n",
       "      <td>89.0</td>\n",
       "      <td>66.0</td>\n",
       "      <td>23.0</td>\n",
       "      <td>94.0</td>\n",
       "      <td>28.1</td>\n",
       "      <td>0.167</td>\n",
       "      <td>21</td>\n",
       "      <td>0</td>\n",
       "    </tr>\n",
       "    <tr>\n",
       "      <th>4</th>\n",
       "      <td>NaN</td>\n",
       "      <td>137.0</td>\n",
       "      <td>40.0</td>\n",
       "      <td>35.0</td>\n",
       "      <td>168.0</td>\n",
       "      <td>43.1</td>\n",
       "      <td>2.288</td>\n",
       "      <td>33</td>\n",
       "      <td>1</td>\n",
       "    </tr>\n",
       "  </tbody>\n",
       "</table>\n",
       "</div>"
      ],
      "text/plain": [
       "   Pregnancies  Glucose  BloodPressure  SkinThickness  Insulin   BMI  \\\n",
       "0          6.0    148.0           72.0           35.0      NaN  33.6   \n",
       "1          1.0     85.0           66.0           29.0      NaN  26.6   \n",
       "2          8.0    183.0           64.0            NaN      NaN  23.3   \n",
       "3          1.0     89.0           66.0           23.0     94.0  28.1   \n",
       "4          NaN    137.0           40.0           35.0    168.0  43.1   \n",
       "\n",
       "   DiabetesPedigreeFunction  Age  Outcome  \n",
       "0                     0.627   50        1  \n",
       "1                     0.351   31        0  \n",
       "2                     0.672   32        1  \n",
       "3                     0.167   21        0  \n",
       "4                     2.288   33        1  "
      ]
     },
     "execution_count": 57,
     "metadata": {},
     "output_type": "execute_result"
    }
   ],
   "source": [
    "df.head()"
   ]
  },
  {
   "cell_type": "markdown",
   "id": "b5d7a9ff-a4f8-4dac-9d7a-c896e041cc90",
   "metadata": {},
   "source": [
    "# Median Impute Null Values"
   ]
  },
  {
   "cell_type": "code",
   "execution_count": 58,
   "id": "58d0738d-6711-4e2d-9ab8-4382312888b5",
   "metadata": {},
   "outputs": [
    {
     "data": {
      "text/html": [
       "<div>\n",
       "<style scoped>\n",
       "    .dataframe tbody tr th:only-of-type {\n",
       "        vertical-align: middle;\n",
       "    }\n",
       "\n",
       "    .dataframe tbody tr th {\n",
       "        vertical-align: top;\n",
       "    }\n",
       "\n",
       "    .dataframe thead th {\n",
       "        text-align: right;\n",
       "    }\n",
       "</style>\n",
       "<table border=\"1\" class=\"dataframe\">\n",
       "  <thead>\n",
       "    <tr style=\"text-align: right;\">\n",
       "      <th></th>\n",
       "      <th>Pregnancies</th>\n",
       "      <th>Glucose</th>\n",
       "      <th>BloodPressure</th>\n",
       "      <th>SkinThickness</th>\n",
       "      <th>Insulin</th>\n",
       "      <th>BMI</th>\n",
       "      <th>DiabetesPedigreeFunction</th>\n",
       "      <th>Age</th>\n",
       "      <th>Outcome</th>\n",
       "    </tr>\n",
       "  </thead>\n",
       "  <tbody>\n",
       "    <tr>\n",
       "      <th>0</th>\n",
       "      <td>6.0</td>\n",
       "      <td>148.0</td>\n",
       "      <td>72.0</td>\n",
       "      <td>35.0</td>\n",
       "      <td>169.5</td>\n",
       "      <td>33.6</td>\n",
       "      <td>0.627</td>\n",
       "      <td>50</td>\n",
       "      <td>1</td>\n",
       "    </tr>\n",
       "    <tr>\n",
       "      <th>1</th>\n",
       "      <td>1.0</td>\n",
       "      <td>85.0</td>\n",
       "      <td>66.0</td>\n",
       "      <td>29.0</td>\n",
       "      <td>102.5</td>\n",
       "      <td>26.6</td>\n",
       "      <td>0.351</td>\n",
       "      <td>31</td>\n",
       "      <td>0</td>\n",
       "    </tr>\n",
       "    <tr>\n",
       "      <th>2</th>\n",
       "      <td>8.0</td>\n",
       "      <td>183.0</td>\n",
       "      <td>64.0</td>\n",
       "      <td>32.0</td>\n",
       "      <td>169.5</td>\n",
       "      <td>23.3</td>\n",
       "      <td>0.672</td>\n",
       "      <td>32</td>\n",
       "      <td>1</td>\n",
       "    </tr>\n",
       "    <tr>\n",
       "      <th>3</th>\n",
       "      <td>1.0</td>\n",
       "      <td>89.0</td>\n",
       "      <td>66.0</td>\n",
       "      <td>23.0</td>\n",
       "      <td>94.0</td>\n",
       "      <td>28.1</td>\n",
       "      <td>0.167</td>\n",
       "      <td>21</td>\n",
       "      <td>0</td>\n",
       "    </tr>\n",
       "    <tr>\n",
       "      <th>4</th>\n",
       "      <td>5.0</td>\n",
       "      <td>137.0</td>\n",
       "      <td>40.0</td>\n",
       "      <td>35.0</td>\n",
       "      <td>168.0</td>\n",
       "      <td>43.1</td>\n",
       "      <td>2.288</td>\n",
       "      <td>33</td>\n",
       "      <td>1</td>\n",
       "    </tr>\n",
       "  </tbody>\n",
       "</table>\n",
       "</div>"
      ],
      "text/plain": [
       "   Pregnancies  Glucose  BloodPressure  SkinThickness  Insulin   BMI  \\\n",
       "0          6.0    148.0           72.0           35.0    169.5  33.6   \n",
       "1          1.0     85.0           66.0           29.0    102.5  26.6   \n",
       "2          8.0    183.0           64.0           32.0    169.5  23.3   \n",
       "3          1.0     89.0           66.0           23.0     94.0  28.1   \n",
       "4          5.0    137.0           40.0           35.0    168.0  43.1   \n",
       "\n",
       "   DiabetesPedigreeFunction  Age  Outcome  \n",
       "0                     0.627   50        1  \n",
       "1                     0.351   31        0  \n",
       "2                     0.672   32        1  \n",
       "3                     0.167   21        0  \n",
       "4                     2.288   33        1  "
      ]
     },
     "execution_count": 58,
     "metadata": {},
     "output_type": "execute_result"
    }
   ],
   "source": [
    "medians = df.groupby('Outcome').transform('median')\n",
    "df = df.fillna(medians)\n",
    "df.head()"
   ]
  },
  {
   "cell_type": "markdown",
   "id": "d6b07760-583c-45b6-aaec-b7be841f97c4",
   "metadata": {},
   "source": [
    "# Outlier Detection "
   ]
  },
  {
   "cell_type": "code",
   "execution_count": 59,
   "id": "de578f0c-9bbb-4fc2-b7d4-ba9fb6c81502",
   "metadata": {},
   "outputs": [
    {
     "name": "stdout",
     "output_type": "stream",
     "text": [
      "Pregnancies yes\n",
      "Glucose no\n",
      "BloodPressure yes\n",
      "SkinThickness yes\n",
      "Insulin yes\n",
      "BMI yes\n",
      "DiabetesPedigreeFunction yes\n",
      "Age yes\n",
      "Outcome no\n"
     ]
    }
   ],
   "source": [
    "out_col=[]\n",
    "for feature in df:\n",
    "    Q1 = df[feature].quantile(0.25)\n",
    "    Q3 = df[feature].quantile(0.75)\n",
    "    IQR = Q3-Q1\n",
    "    lower = Q1-1.5*IQR\n",
    "    upper = Q3+1.5*IQR\n",
    "    if df[(df[feature]>upper)].any(axis=None):\n",
    "        out_col.append(feature)\n",
    "        print(feature, \"yes\")\n",
    "    else:\n",
    "        print(feature, \"no\")"
   ]
  },
  {
   "cell_type": "code",
   "execution_count": 60,
   "id": "41163516-8328-4596-8b61-ea6cd3b596f8",
   "metadata": {},
   "outputs": [
    {
     "data": {
      "text/plain": [
       "<Axes: >"
      ]
     },
     "execution_count": 60,
     "metadata": {},
     "output_type": "execute_result"
    },
    {
     "data": {
      "image/png": "[encoded data removed]",
      "text/plain": [
       "<Figure size 1200x1000 with 1 Axes>"
      ]
     },
     "metadata": {},
     "output_type": "display_data"
    }
   ],
   "source": [
    "plt.figure(figsize=(12,10))\n",
    "sns.boxplot(df)"
   ]
  },
  {
   "cell_type": "markdown",
   "id": "6a512b08-dceb-44e5-8723-8c3d82a76a27",
   "metadata": {},
   "source": [
    "# Outlier Handling Using IQR"
   ]
  },
  {
   "cell_type": "code",
   "execution_count": 61,
   "id": "d533e368-e00b-4f74-9a38-0d507ed4981b",
   "metadata": {},
   "outputs": [
    {
     "name": "stderr",
     "output_type": "stream",
     "text": [
      "C:\\Users\\91973\\AppData\\Local\\Temp\\ipykernel_21920\\1691538925.py:7: FutureWarning:\n",
      "\n",
      "Setting an item of incompatible dtype is deprecated and will raise an error in a future version of pandas. Value '66.5' has dtype incompatible with int64, please explicitly cast to a compatible dtype first.\n",
      "\n"
     ]
    }
   ],
   "source": [
    "for col in out_col:\n",
    "    Q1=df[col].quantile(0.25)\n",
    "    Q3=df[col].quantile(0.75)\n",
    "    IQR = Q3-Q1\n",
    "    lower = Q1-1.5*IQR\n",
    "    upper = Q3+1.5*IQR\n",
    "    df.loc[df[col] > upper, col] = upper\n",
    "    df.loc[df[col] < lower, col] = lower"
   ]
  },
  {
   "cell_type": "code",
   "execution_count": 62,
   "id": "276eb308-25e4-4606-8a0b-d62dae4518ca",
   "metadata": {},
   "outputs": [
    {
     "data": {
      "text/plain": [
       "<Axes: >"
      ]
     },
     "execution_count": 62,
     "metadata": {},
     "output_type": "execute_result"
    },
    {
     "data": {
      "image/png": "[encoded data removed]",
      "text/plain": [
       "<Figure size 1200x1000 with 1 Axes>"
      ]
     },
     "metadata": {},
     "output_type": "display_data"
    }
   ],
   "source": [
    "plt.figure(figsize=(12,10))\n",
    "sns.boxplot(df)"
   ]
  },
  {
   "cell_type": "code",
   "execution_count": 63,
   "id": "49d14fa9-dea3-4c9f-8479-2112ecec5519",
   "metadata": {},
   "outputs": [
    {
     "data": {
      "text/html": [
       "<div>\n",
       "<style scoped>\n",
       "    .dataframe tbody tr th:only-of-type {\n",
       "        vertical-align: middle;\n",
       "    }\n",
       "\n",
       "    .dataframe tbody tr th {\n",
       "        vertical-align: top;\n",
       "    }\n",
       "\n",
       "    .dataframe thead th {\n",
       "        text-align: right;\n",
       "    }\n",
       "</style>\n",
       "<table border=\"1\" class=\"dataframe\">\n",
       "  <thead>\n",
       "    <tr style=\"text-align: right;\">\n",
       "      <th></th>\n",
       "      <th>Pregnancies</th>\n",
       "      <th>Glucose</th>\n",
       "      <th>BloodPressure</th>\n",
       "      <th>SkinThickness</th>\n",
       "      <th>Insulin</th>\n",
       "      <th>BMI</th>\n",
       "      <th>DiabetesPedigreeFunction</th>\n",
       "      <th>Age</th>\n",
       "      <th>Outcome</th>\n",
       "    </tr>\n",
       "  </thead>\n",
       "  <tbody>\n",
       "    <tr>\n",
       "      <th>0</th>\n",
       "      <td>6.0</td>\n",
       "      <td>148.0</td>\n",
       "      <td>72.0</td>\n",
       "      <td>35.0</td>\n",
       "      <td>169.5</td>\n",
       "      <td>33.6</td>\n",
       "      <td>0.627</td>\n",
       "      <td>50.0</td>\n",
       "      <td>1</td>\n",
       "    </tr>\n",
       "    <tr>\n",
       "      <th>1</th>\n",
       "      <td>1.0</td>\n",
       "      <td>85.0</td>\n",
       "      <td>66.0</td>\n",
       "      <td>29.0</td>\n",
       "      <td>102.5</td>\n",
       "      <td>26.6</td>\n",
       "      <td>0.351</td>\n",
       "      <td>31.0</td>\n",
       "      <td>0</td>\n",
       "    </tr>\n",
       "    <tr>\n",
       "      <th>2</th>\n",
       "      <td>8.0</td>\n",
       "      <td>183.0</td>\n",
       "      <td>64.0</td>\n",
       "      <td>32.0</td>\n",
       "      <td>169.5</td>\n",
       "      <td>23.3</td>\n",
       "      <td>0.672</td>\n",
       "      <td>32.0</td>\n",
       "      <td>1</td>\n",
       "    </tr>\n",
       "    <tr>\n",
       "      <th>3</th>\n",
       "      <td>1.0</td>\n",
       "      <td>89.0</td>\n",
       "      <td>66.0</td>\n",
       "      <td>23.0</td>\n",
       "      <td>94.0</td>\n",
       "      <td>28.1</td>\n",
       "      <td>0.167</td>\n",
       "      <td>21.0</td>\n",
       "      <td>0</td>\n",
       "    </tr>\n",
       "    <tr>\n",
       "      <th>4</th>\n",
       "      <td>5.0</td>\n",
       "      <td>137.0</td>\n",
       "      <td>40.0</td>\n",
       "      <td>35.0</td>\n",
       "      <td>168.0</td>\n",
       "      <td>43.1</td>\n",
       "      <td>1.200</td>\n",
       "      <td>33.0</td>\n",
       "      <td>1</td>\n",
       "    </tr>\n",
       "  </tbody>\n",
       "</table>\n",
       "</div>"
      ],
      "text/plain": [
       "   Pregnancies  Glucose  BloodPressure  SkinThickness  Insulin   BMI  \\\n",
       "0          6.0    148.0           72.0           35.0    169.5  33.6   \n",
       "1          1.0     85.0           66.0           29.0    102.5  26.6   \n",
       "2          8.0    183.0           64.0           32.0    169.5  23.3   \n",
       "3          1.0     89.0           66.0           23.0     94.0  28.1   \n",
       "4          5.0    137.0           40.0           35.0    168.0  43.1   \n",
       "\n",
       "   DiabetesPedigreeFunction   Age  Outcome  \n",
       "0                     0.627  50.0        1  \n",
       "1                     0.351  31.0        0  \n",
       "2                     0.672  32.0        1  \n",
       "3                     0.167  21.0        0  \n",
       "4                     1.200  33.0        1  "
      ]
     },
     "execution_count": 63,
     "metadata": {},
     "output_type": "execute_result"
    }
   ],
   "source": [
    "df.head()"
   ]
  },
  {
   "cell_type": "markdown",
   "id": "0de44108-52a6-4dbc-9aa4-ba9989ff033f",
   "metadata": {},
   "source": [
    "# Correlation Heatmap And Feature Selection"
   ]
  },
  {
   "cell_type": "code",
   "execution_count": 64,
   "id": "6bf1b71e-3b2c-4483-b081-690a8f2458fd",
   "metadata": {},
   "outputs": [
    {
     "data": {
      "text/plain": [
       "<Axes: >"
      ]
     },
     "execution_count": 64,
     "metadata": {},
     "output_type": "execute_result"
    },
    {
     "data": {
      "image/png": "[encoded data removed]",
      "text/plain": [
       "<Figure size 640x480 with 2 Axes>"
      ]
     },
     "metadata": {},
     "output_type": "display_data"
    }
   ],
   "source": [
    "sns.heatmap(df.corr(),annot=True)"
   ]
  },
  {
   "cell_type": "markdown",
   "id": "a7afec5d-6b58-4cce-8392-2d11cf07fdb7",
   "metadata": {},
   "source": [
    "BMI and SkinThickness have a strong positive correlation (0.59), suggesting that people with higher BMI may also have greater skin thickness.\n",
    "\n",
    "Age and Pregnancies have a positive correlation (0.54), likely because older individuals tend to have more pregnancies.\n",
    "\n",
    "Glucose and Insulin also have a positive correlation (0.54), which may indicate that these two variables are related in this dataset\n",
    "\n",
    "**Glucose, Insulin, BMI, DiabetesPedigreeFunction, Age** are important features while **Pregnancies, SkinThickness** can be dropped as they have high correlation with other features"
   ]
  },
  {
   "cell_type": "markdown",
   "id": "e99bf27f-62de-4eb3-a32b-2e389c3ab2a3",
   "metadata": {},
   "source": [
    "# Distribution Of Glucose Level Using Histogram"
   ]
  },
  {
   "cell_type": "code",
   "execution_count": 65,
   "id": "1e091273-9c08-4a9f-9e43-ecabd09084af",
   "metadata": {},
   "outputs": [
    {
     "data": {
      "application/vnd.plotly.v1+json": {
       "config": {
        "plotlyServerURL": "https://plot.ly"
       },
       "data": [
        {
         "alignmentgroup": "True",
         "bingroup": "x",
         "hovertemplate": "Outcome=1<br>Glucose=%{x}<br>count=%{y}<extra></extra>",
         "legendgroup": "1",
         "marker": {
          "color": "#636efa",
          "pattern": {
           "shape": ""
          }
         },
         "name": "1",
         "offsetgroup": "1",
         "orientation": "v",
         "showlegend": true,
         "type": "histogram",
         "x": [
          148,
          183,
          137,
          78,
          197,
          125,
          168,
          189,
          166,
          100,
          118,
          107,
          115,
          196,
          119,
          143,
          125,
          147,
          158,
          102,
          90,
          111,
          171,
          180,
          103,
          176,
          187,
          133,
          114,
          109,
          100,
          126,
          131,
          137,
          136,
          134,
          122,
          163,
          95,
          171,
          155,
          160,
          146,
          124,
          162,
          113,
          88,
          117,
          105,
          173,
          122,
          170,
          108,
          156,
          188,
          152,
          163,
          131,
          104,
          102,
          134,
          179,
          129,
          130,
          194,
          181,
          128,
          109,
          139,
          159,
          135,
          158,
          107,
          109,
          148,
          196,
          162,
          184,
          140,
          112,
          151,
          109,
          85,
          112,
          177,
          158,
          162,
          142,
          134,
          171,
          181,
          179,
          164,
          139,
          119,
          184,
          92,
          113,
          155,
          141,
          123,
          138,
          146,
          101,
          106,
          146,
          161,
          108,
          119,
          107,
          128,
          128,
          146,
          100,
          167,
          144,
          115,
          161,
          128,
          124,
          155,
          109,
          182,
          194,
          112,
          124,
          152,
          122,
          102,
          180,
          115,
          152,
          178,
          140,
          165,
          125,
          129,
          196,
          189,
          146,
          124,
          133,
          173,
          140,
          156,
          116,
          105,
          144,
          166,
          158,
          131,
          193,
          95,
          136,
          168,
          115,
          197,
          172,
          138,
          173,
          144,
          129,
          151,
          184,
          181,
          95,
          141,
          189,
          108,
          117,
          180,
          104,
          134,
          175,
          148,
          120,
          105,
          158,
          145,
          135,
          125,
          195,
          140,
          180,
          84,
          163,
          145,
          130,
          132,
          129,
          100,
          128,
          90,
          186,
          187,
          125,
          198,
          121,
          118,
          197,
          151,
          124,
          143,
          176,
          111,
          132,
          188,
          173,
          150,
          183,
          181,
          174,
          168,
          138,
          112,
          119,
          114,
          104,
          97,
          147,
          167,
          179,
          136,
          155,
          80,
          199,
          167,
          145,
          115,
          145,
          111,
          195,
          156,
          121,
          162,
          125,
          144,
          158,
          129,
          142,
          169,
          125,
          168,
          115,
          164,
          93,
          129,
          187,
          173,
          97,
          149,
          130,
          120,
          174,
          102,
          120,
          140,
          147,
          187,
          162,
          136,
          181,
          154,
          128,
          123,
          190,
          170,
          126
         ],
         "xaxis": "x",
         "yaxis": "y"
        },
        {
         "alignmentgroup": "True",
         "bingroup": "x",
         "hovertemplate": "Outcome=0<br>Glucose=%{x}<br>count=%{y}<extra></extra>",
         "legendgroup": "0",
         "marker": {
          "color": "#EF553B",
          "pattern": {
           "shape": ""
          }
         },
         "name": "0",
         "offsetgroup": "0",
         "orientation": "v",
         "showlegend": true,
         "type": "histogram",
         "x": [
          85,
          89,
          116,
          115,
          110,
          139,
          103,
          126,
          99,
          97,
          145,
          117,
          109,
          88,
          92,
          122,
          103,
          138,
          180,
          133,
          106,
          159,
          146,
          71,
          105,
          103,
          101,
          88,
          150,
          73,
          100,
          146,
          105,
          84,
          44,
          141,
          99,
          109,
          95,
          146,
          139,
          129,
          79,
          107,
          62,
          95,
          112,
          113,
          74,
          83,
          101,
          110,
          106,
          100,
          107,
          80,
          123,
          81,
          142,
          144,
          92,
          71,
          93,
          151,
          125,
          81,
          85,
          126,
          96,
          144,
          83,
          89,
          76,
          78,
          97,
          99,
          111,
          107,
          132,
          120,
          118,
          84,
          96,
          125,
          100,
          93,
          129,
          105,
          128,
          106,
          108,
          154,
          102,
          57,
          106,
          147,
          90,
          136,
          114,
          153,
          99,
          109,
          88,
          151,
          102,
          114,
          100,
          148,
          120,
          110,
          111,
          87,
          79,
          75,
          85,
          143,
          87,
          119,
          107,
          73,
          141,
          111,
          123,
          85,
          105,
          113,
          138,
          108,
          99,
          103,
          111,
          96,
          81,
          147,
          179,
          125,
          119,
          142,
          100,
          87,
          101,
          197,
          117,
          79,
          122,
          74,
          104,
          91,
          91,
          146,
          122,
          165,
          124,
          111,
          106,
          129,
          90,
          86,
          111,
          114,
          193,
          191,
          95,
          142,
          96,
          128,
          102,
          108,
          122,
          71,
          106,
          100,
          104,
          114,
          108,
          129,
          133,
          136,
          155,
          96,
          108,
          78,
          161,
          151,
          126,
          112,
          77,
          150,
          120,
          137,
          80,
          106,
          113,
          112,
          99,
          115,
          129,
          112,
          157,
          179,
          105,
          118,
          87,
          106,
          95,
          165,
          117,
          130,
          95,
          107,
          122,
          95,
          126,
          139,
          116,
          99,
          92,
          137,
          61,
          90,
          90,
          88,
          158,
          103,
          147,
          99,
          101,
          81,
          118,
          84,
          105,
          122,
          98,
          87,
          93,
          107,
          105,
          109,
          90,
          125,
          119,
          100,
          100,
          131,
          116,
          127,
          96,
          82,
          137,
          72,
          123,
          101,
          102,
          112,
          143,
          143,
          97,
          83,
          119,
          94,
          102,
          115,
          94,
          135,
          99,
          89,
          80,
          139,
          90,
          140,
          147,
          97,
          107,
          83,
          117,
          100,
          95,
          120,
          82,
          91,
          119,
          100,
          135,
          86,
          134,
          120,
          71,
          74,
          88,
          115,
          124,
          74,
          97,
          154,
          144,
          137,
          119,
          136,
          114,
          137,
          114,
          126,
          132,
          123,
          85,
          84,
          139,
          173,
          99,
          194,
          83,
          89,
          99,
          80,
          166,
          110,
          81,
          154,
          117,
          84,
          94,
          96,
          75,
          130,
          84,
          120,
          139,
          91,
          91,
          99,
          125,
          76,
          129,
          68,
          124,
          114,
          125,
          87,
          97,
          116,
          117,
          111,
          122,
          107,
          86,
          91,
          77,
          105,
          57,
          127,
          84,
          88,
          131,
          164,
          189,
          116,
          84,
          114,
          88,
          84,
          124,
          97,
          110,
          103,
          85,
          87,
          99,
          91,
          95,
          99,
          92,
          154,
          78,
          130,
          111,
          98,
          143,
          119,
          108,
          133,
          109,
          121,
          100,
          93,
          103,
          73,
          112,
          82,
          123,
          67,
          89,
          109,
          108,
          96,
          124,
          124,
          92,
          152,
          111,
          106,
          105,
          106,
          117,
          68,
          112,
          92,
          183,
          94,
          108,
          90,
          125,
          132,
          128,
          94,
          102,
          111,
          128,
          92,
          104,
          94,
          100,
          102,
          128,
          90,
          103,
          157,
          107,
          91,
          117,
          123,
          120,
          106,
          101,
          120,
          127,
          162,
          112,
          98,
          154,
          165,
          99,
          68,
          123,
          91,
          93,
          101,
          56,
          95,
          136,
          129,
          130,
          107,
          140,
          107,
          121,
          90,
          99,
          127,
          118,
          122,
          129,
          110,
          80,
          127,
          158,
          126,
          134,
          102,
          94,
          108,
          83,
          114,
          117,
          111,
          112,
          116,
          141,
          175,
          92,
          106,
          105,
          95,
          126,
          65,
          99,
          102,
          109,
          153,
          100,
          81,
          121,
          108,
          137,
          106,
          88,
          89,
          101,
          122,
          121,
          93
         ],
         "xaxis": "x",
         "yaxis": "y"
        }
       ],
       "layout": {
        "autosize": true,
        "barmode": "relative",
        "legend": {
         "title": {
          "text": "Outcome"
         },
         "tracegroupgap": 0
        },
        "template": {
         "data": {
          "bar": [
           {
            "error_x": {
             "color": "#2a3f5f"
            },
            "error_y": {
             "color": "#2a3f5f"
            },
            "marker": {
             "line": {
              "color": "#E5ECF6",
              "width": 0.5
             },
             "pattern": {
              "fillmode": "overlay",
              "size": 10,
              "solidity": 0.2
             }
            },
            "type": "bar"
           }
          ],
          "barpolar": [
           {
            "marker": {
             "line": {
              "color": "#E5ECF6",
              "width": 0.5
             },
             "pattern": {
              "fillmode": "overlay",
              "size": 10,
              "solidity": 0.2
             }
            },
            "type": "barpolar"
           }
          ],
          "carpet": [
           {
            "aaxis": {
             "endlinecolor": "#2a3f5f",
             "gridcolor": "white",
             "linecolor": "white",
             "minorgridcolor": "white",
             "startlinecolor": "#2a3f5f"
            },
            "baxis": {
             "endlinecolor": "#2a3f5f",
             "gridcolor": "white",
             "linecolor": "white",
             "minorgridcolor": "white",
             "startlinecolor": "#2a3f5f"
            },
            "type": "carpet"
           }
          ],
          "choropleth": [
           {
            "colorbar": {
             "outlinewidth": 0,
             "ticks": ""
            },
            "type": "choropleth"
           }
          ],
          "contour": [
           {
            "colorbar": {
             "outlinewidth": 0,
             "ticks": ""
            },
            "colorscale": [
             [
              0,
              "#0d0887"
             ],
             [
              0.1111111111111111,
              "#46039f"
             ],
             [
              0.2222222222222222,
              "#7201a8"
             ],
             [
              0.3333333333333333,
              "#9c179e"
             ],
             [
              0.4444444444444444,
              "#bd3786"
             ],
             [
              0.5555555555555556,
              "#d8576b"
             ],
             [
              0.6666666666666666,
              "#ed7953"
             ],
             [
              0.7777777777777778,
              "#fb9f3a"
             ],
             [
              0.8888888888888888,
              "#fdca26"
             ],
             [
              1,
              "#f0f921"
             ]
            ],
            "type": "contour"
           }
          ],
          "contourcarpet": [
           {
            "colorbar": {
             "outlinewidth": 0,
             "ticks": ""
            },
            "type": "contourcarpet"
           }
          ],
          "heatmap": [
           {
            "colorbar": {
             "outlinewidth": 0,
             "ticks": ""
            },
            "colorscale": [
             [
              0,
              "#0d0887"
             ],
             [
              0.1111111111111111,
              "#46039f"
             ],
             [
              0.2222222222222222,
              "#7201a8"
             ],
             [
              0.3333333333333333,
              "#9c179e"
             ],
             [
              0.4444444444444444,
              "#bd3786"
             ],
             [
              0.5555555555555556,
              "#d8576b"
             ],
             [
              0.6666666666666666,
              "#ed7953"
             ],
             [
              0.7777777777777778,
              "#fb9f3a"
             ],
             [
              0.8888888888888888,
              "#fdca26"
             ],
             [
              1,
              "#f0f921"
             ]
            ],
            "type": "heatmap"
           }
          ],
          "heatmapgl": [
           {
            "colorbar": {
             "outlinewidth": 0,
             "ticks": ""
            },
            "colorscale": [
             [
              0,
              "#0d0887"
             ],
             [
              0.1111111111111111,
              "#46039f"
             ],
             [
              0.2222222222222222,
              "#7201a8"
             ],
             [
              0.3333333333333333,
              "#9c179e"
             ],
             [
              0.4444444444444444,
              "#bd3786"
             ],
             [
              0.5555555555555556,
              "#d8576b"
             ],
             [
              0.6666666666666666,
              "#ed7953"
             ],
             [
              0.7777777777777778,
              "#fb9f3a"
             ],
             [
              0.8888888888888888,
              "#fdca26"
             ],
             [
              1,
              "#f0f921"
             ]
            ],
            "type": "heatmapgl"
           }
          ],
          "histogram": [
           {
            "marker": {
             "pattern": {
              "fillmode": "overlay",
              "size": 10,
              "solidity": 0.2
             }
            },
            "type": "histogram"
           }
          ],
          "histogram2d": [
           {
            "colorbar": {
             "outlinewidth": 0,
             "ticks": ""
            },
            "colorscale": [
             [
              0,
              "#0d0887"
             ],
             [
              0.1111111111111111,
              "#46039f"
             ],
             [
              0.2222222222222222,
              "#7201a8"
             ],
             [
              0.3333333333333333,
              "#9c179e"
             ],
             [
              0.4444444444444444,
              "#bd3786"
             ],
             [
              0.5555555555555556,
              "#d8576b"
             ],
             [
              0.6666666666666666,
              "#ed7953"
             ],
             [
              0.7777777777777778,
              "#fb9f3a"
             ],
             [
              0.8888888888888888,
              "#fdca26"
             ],
             [
              1,
              "#f0f921"
             ]
            ],
            "type": "histogram2d"
           }
          ],
          "histogram2dcontour": [
           {
            "colorbar": {
             "outlinewidth": 0,
             "ticks": ""
            },
            "colorscale": [
             [
              0,
              "#0d0887"
             ],
             [
              0.1111111111111111,
              "#46039f"
             ],
             [
              0.2222222222222222,
              "#7201a8"
             ],
             [
              0.3333333333333333,
              "#9c179e"
             ],
             [
              0.4444444444444444,
              "#bd3786"
             ],
             [
              0.5555555555555556,
              "#d8576b"
             ],
             [
              0.6666666666666666,
              "#ed7953"
             ],
             [
              0.7777777777777778,
              "#fb9f3a"
             ],
             [
              0.8888888888888888,
              "#fdca26"
             ],
             [
              1,
              "#f0f921"
             ]
            ],
            "type": "histogram2dcontour"
           }
          ],
          "mesh3d": [
           {
            "colorbar": {
             "outlinewidth": 0,
             "ticks": ""
            },
            "type": "mesh3d"
           }
          ],
          "parcoords": [
           {
            "line": {
             "colorbar": {
              "outlinewidth": 0,
              "ticks": ""
             }
            },
            "type": "parcoords"
           }
          ],
          "pie": [
           {
            "automargin": true,
            "type": "pie"
           }
          ],
          "scatter": [
           {
            "fillpattern": {
             "fillmode": "overlay",
             "size": 10,
             "solidity": 0.2
            },
            "type": "scatter"
           }
          ],
          "scatter3d": [
           {
            "line": {
             "colorbar": {
              "outlinewidth": 0,
              "ticks": ""
             }
            },
            "marker": {
             "colorbar": {
              "outlinewidth": 0,
              "ticks": ""
             }
            },
            "type": "scatter3d"
           }
          ],
          "scattercarpet": [
           {
            "marker": {
             "colorbar": {
              "outlinewidth": 0,
              "ticks": ""
             }
            },
            "type": "scattercarpet"
           }
          ],
          "scattergeo": [
           {
            "marker": {
             "colorbar": {
              "outlinewidth": 0,
              "ticks": ""
             }
            },
            "type": "scattergeo"
           }
          ],
          "scattergl": [
           {
            "marker": {
             "colorbar": {
              "outlinewidth": 0,
              "ticks": ""
             }
            },
            "type": "scattergl"
           }
          ],
          "scattermapbox": [
           {
            "marker": {
             "colorbar": {
              "outlinewidth": 0,
              "ticks": ""
             }
            },
            "type": "scattermapbox"
           }
          ],
          "scatterpolar": [
           {
            "marker": {
             "colorbar": {
              "outlinewidth": 0,
              "ticks": ""
             }
            },
            "type": "scatterpolar"
           }
          ],
          "scatterpolargl": [
           {
            "marker": {
             "colorbar": {
              "outlinewidth": 0,
              "ticks": ""
             }
            },
            "type": "scatterpolargl"
           }
          ],
          "scatterternary": [
           {
            "marker": {
             "colorbar": {
              "outlinewidth": 0,
              "ticks": ""
             }
            },
            "type": "scatterternary"
           }
          ],
          "surface": [
           {
            "colorbar": {
             "outlinewidth": 0,
             "ticks": ""
            },
            "colorscale": [
             [
              0,
              "#0d0887"
             ],
             [
              0.1111111111111111,
              "#46039f"
             ],
             [
              0.2222222222222222,
              "#7201a8"
             ],
             [
              0.3333333333333333,
              "#9c179e"
             ],
             [
              0.4444444444444444,
              "#bd3786"
             ],
             [
              0.5555555555555556,
              "#d8576b"
             ],
             [
              0.6666666666666666,
              "#ed7953"
             ],
             [
              0.7777777777777778,
              "#fb9f3a"
             ],
             [
              0.8888888888888888,
              "#fdca26"
             ],
             [
              1,
              "#f0f921"
             ]
            ],
            "type": "surface"
           }
          ],
          "table": [
           {
            "cells": {
             "fill": {
              "color": "#EBF0F8"
             },
             "line": {
              "color": "white"
             }
            },
            "header": {
             "fill": {
              "color": "#C8D4E3"
             },
             "line": {
              "color": "white"
             }
            },
            "type": "table"
           }
          ]
         },
         "layout": {
          "annotationdefaults": {
           "arrowcolor": "#2a3f5f",
           "arrowhead": 0,
           "arrowwidth": 1
          },
          "autotypenumbers": "strict",
          "coloraxis": {
           "colorbar": {
            "outlinewidth": 0,
            "ticks": ""
           }
          },
          "colorscale": {
           "diverging": [
            [
             0,
             "#8e0152"
            ],
            [
             0.1,
             "#c51b7d"
            ],
            [
             0.2,
             "#de77ae"
            ],
            [
             0.3,
             "#f1b6da"
            ],
            [
             0.4,
             "#fde0ef"
            ],
            [
             0.5,
             "#f7f7f7"
            ],
            [
             0.6,
             "#e6f5d0"
            ],
            [
             0.7,
             "#b8e186"
            ],
            [
             0.8,
             "#7fbc41"
            ],
            [
             0.9,
             "#4d9221"
            ],
            [
             1,
             "#276419"
            ]
           ],
           "sequential": [
            [
             0,
             "#0d0887"
            ],
            [
             0.1111111111111111,
             "#46039f"
            ],
            [
             0.2222222222222222,
             "#7201a8"
            ],
            [
             0.3333333333333333,
             "#9c179e"
            ],
            [
             0.4444444444444444,
             "#bd3786"
            ],
            [
             0.5555555555555556,
             "#d8576b"
            ],
            [
             0.6666666666666666,
             "#ed7953"
            ],
            [
             0.7777777777777778,
             "#fb9f3a"
            ],
            [
             0.8888888888888888,
             "#fdca26"
            ],
            [
             1,
             "#f0f921"
            ]
           ],
           "sequentialminus": [
            [
             0,
             "#0d0887"
            ],
            [
             0.1111111111111111,
             "#46039f"
            ],
            [
             0.2222222222222222,
             "#7201a8"
            ],
            [
             0.3333333333333333,
             "#9c179e"
            ],
            [
             0.4444444444444444,
             "#bd3786"
            ],
            [
             0.5555555555555556,
             "#d8576b"
            ],
            [
             0.6666666666666666,
             "#ed7953"
            ],
            [
             0.7777777777777778,
             "#fb9f3a"
            ],
            [
             0.8888888888888888,
             "#fdca26"
            ],
            [
             1,
             "#f0f921"
            ]
           ]
          },
          "colorway": [
           "#636efa",
           "#EF553B",
           "#00cc96",
           "#ab63fa",
           "#FFA15A",
           "#19d3f3",
           "#FF6692",
           "#B6E880",
           "#FF97FF",
           "#FECB52"
          ],
          "font": {
           "color": "#2a3f5f"
          },
          "geo": {
           "bgcolor": "white",
           "lakecolor": "white",
           "landcolor": "#E5ECF6",
           "showlakes": true,
           "showland": true,
           "subunitcolor": "white"
          },
          "hoverlabel": {
           "align": "left"
          },
          "hovermode": "closest",
          "mapbox": {
           "style": "light"
          },
          "paper_bgcolor": "white",
          "plot_bgcolor": "#E5ECF6",
          "polar": {
           "angularaxis": {
            "gridcolor": "white",
            "linecolor": "white",
            "ticks": ""
           },
           "bgcolor": "#E5ECF6",
           "radialaxis": {
            "gridcolor": "white",
            "linecolor": "white",
            "ticks": ""
           }
          },
          "scene": {
           "xaxis": {
            "backgroundcolor": "#E5ECF6",
            "gridcolor": "white",
            "gridwidth": 2,
            "linecolor": "white",
            "showbackground": true,
            "ticks": "",
            "zerolinecolor": "white"
           },
           "yaxis": {
            "backgroundcolor": "#E5ECF6",
            "gridcolor": "white",
            "gridwidth": 2,
            "linecolor": "white",
            "showbackground": true,
            "ticks": "",
            "zerolinecolor": "white"
           },
           "zaxis": {
            "backgroundcolor": "#E5ECF6",
            "gridcolor": "white",
            "gridwidth": 2,
            "linecolor": "white",
            "showbackground": true,
            "ticks": "",
            "zerolinecolor": "white"
           }
          },
          "shapedefaults": {
           "line": {
            "color": "#2a3f5f"
           }
          },
          "ternary": {
           "aaxis": {
            "gridcolor": "white",
            "linecolor": "white",
            "ticks": ""
           },
           "baxis": {
            "gridcolor": "white",
            "linecolor": "white",
            "ticks": ""
           },
           "bgcolor": "#E5ECF6",
           "caxis": {
            "gridcolor": "white",
            "linecolor": "white",
            "ticks": ""
           }
          },
          "title": {
           "x": 0.05
          },
          "xaxis": {
           "automargin": true,
           "gridcolor": "white",
           "linecolor": "white",
           "ticks": "",
           "title": {
            "standoff": 15
           },
           "zerolinecolor": "white",
           "zerolinewidth": 2
          },
          "yaxis": {
           "automargin": true,
           "gridcolor": "white",
           "linecolor": "white",
           "ticks": "",
           "title": {
            "standoff": 15
           },
           "zerolinecolor": "white",
           "zerolinewidth": 2
          }
         }
        },
        "title": {
         "text": "Distribution of Glucose Levels"
        },
        "xaxis": {
         "anchor": "y",
         "autorange": true,
         "domain": [
          0,
          1
         ],
         "range": [
          39.5,
          199.5
         ],
         "title": {
          "text": "Glucose"
         },
         "type": "linear"
        },
        "yaxis": {
         "anchor": "x",
         "autorange": true,
         "domain": [
          0,
          1
         ],
         "range": [
          0,
          69.47368421052632
         ],
         "title": {
          "text": "count"
         }
        }
       }
      },
      "text/html": [
       "<div>                            <div id=\"12dc8c3a-0e51-4e93-a9bd-9afb0acefd24\" class=\"plotly-graph-div\" style=\"height:525px; width:100%;\"></div>            <script type=\"text/javascript\">                require([\"plotly\"], function(Plotly) {                    window.PLOTLYENV=window.PLOTLYENV || {};                                    if (document.getElementById(\"12dc8c3a-0e51-4e93-a9bd-9afb0acefd24\")) {                    Plotly.newPlot(                        \"12dc8c3a-0e51-4e93-a9bd-9afb0acefd24\",                        [{\"alignmentgroup\":\"True\",\"bingroup\":\"x\",\"hovertemplate\":\"Outcome=1\\u003cbr\\u003eGlucose=%{x}\\u003cbr\\u003ecount=%{y}\\u003cextra\\u003e\\u003c\\u002fextra\\u003e\",\"legendgroup\":\"1\",\"marker\":{\"color\":\"#636efa\",\"pattern\":{\"shape\":\"\"}},\"name\":\"1\",\"offsetgroup\":\"1\",\"orientation\":\"v\",\"showlegend\":true,\"x\":[148.0,183.0,137.0,78.0,197.0,125.0,168.0,189.0,166.0,100.0,118.0,107.0,115.0,196.0,119.0,143.0,125.0,147.0,158.0,102.0,90.0,111.0,171.0,180.0,103.0,176.0,187.0,133.0,114.0,109.0,100.0,126.0,131.0,137.0,136.0,134.0,122.0,163.0,95.0,171.0,155.0,160.0,146.0,124.0,162.0,113.0,88.0,117.0,105.0,173.0,122.0,170.0,108.0,156.0,188.0,152.0,163.0,131.0,104.0,102.0,134.0,179.0,129.0,130.0,194.0,181.0,128.0,109.0,139.0,159.0,135.0,158.0,107.0,109.0,148.0,196.0,162.0,184.0,140.0,112.0,151.0,109.0,85.0,112.0,177.0,158.0,162.0,142.0,134.0,171.0,181.0,179.0,164.0,139.0,119.0,184.0,92.0,113.0,155.0,141.0,123.0,138.0,146.0,101.0,106.0,146.0,161.0,108.0,119.0,107.0,128.0,128.0,146.0,100.0,167.0,144.0,115.0,161.0,128.0,124.0,155.0,109.0,182.0,194.0,112.0,124.0,152.0,122.0,102.0,180.0,115.0,152.0,178.0,140.0,165.0,125.0,129.0,196.0,189.0,146.0,124.0,133.0,173.0,140.0,156.0,116.0,105.0,144.0,166.0,158.0,131.0,193.0,95.0,136.0,168.0,115.0,197.0,172.0,138.0,173.0,144.0,129.0,151.0,184.0,181.0,95.0,141.0,189.0,108.0,117.0,180.0,104.0,134.0,175.0,148.0,120.0,105.0,158.0,145.0,135.0,125.0,195.0,140.0,180.0,84.0,163.0,145.0,130.0,132.0,129.0,100.0,128.0,90.0,186.0,187.0,125.0,198.0,121.0,118.0,197.0,151.0,124.0,143.0,176.0,111.0,132.0,188.0,173.0,150.0,183.0,181.0,174.0,168.0,138.0,112.0,119.0,114.0,104.0,97.0,147.0,167.0,179.0,136.0,155.0,80.0,199.0,167.0,145.0,115.0,145.0,111.0,195.0,156.0,121.0,162.0,125.0,144.0,158.0,129.0,142.0,169.0,125.0,168.0,115.0,164.0,93.0,129.0,187.0,173.0,97.0,149.0,130.0,120.0,174.0,102.0,120.0,140.0,147.0,187.0,162.0,136.0,181.0,154.0,128.0,123.0,190.0,170.0,126.0],\"xaxis\":\"x\",\"yaxis\":\"y\",\"type\":\"histogram\"},{\"alignmentgroup\":\"True\",\"bingroup\":\"x\",\"hovertemplate\":\"Outcome=0\\u003cbr\\u003eGlucose=%{x}\\u003cbr\\u003ecount=%{y}\\u003cextra\\u003e\\u003c\\u002fextra\\u003e\",\"legendgroup\":\"0\",\"marker\":{\"color\":\"#EF553B\",\"pattern\":{\"shape\":\"\"}},\"name\":\"0\",\"offsetgroup\":\"0\",\"orientation\":\"v\",\"showlegend\":true,\"x\":[85.0,89.0,116.0,115.0,110.0,139.0,103.0,126.0,99.0,97.0,145.0,117.0,109.0,88.0,92.0,122.0,103.0,138.0,180.0,133.0,106.0,159.0,146.0,71.0,105.0,103.0,101.0,88.0,150.0,73.0,100.0,146.0,105.0,84.0,44.0,141.0,99.0,109.0,95.0,146.0,139.0,129.0,79.0,107.0,62.0,95.0,112.0,113.0,74.0,83.0,101.0,110.0,106.0,100.0,107.0,80.0,123.0,81.0,142.0,144.0,92.0,71.0,93.0,151.0,125.0,81.0,85.0,126.0,96.0,144.0,83.0,89.0,76.0,78.0,97.0,99.0,111.0,107.0,132.0,120.0,118.0,84.0,96.0,125.0,100.0,93.0,129.0,105.0,128.0,106.0,108.0,154.0,102.0,57.0,106.0,147.0,90.0,136.0,114.0,153.0,99.0,109.0,88.0,151.0,102.0,114.0,100.0,148.0,120.0,110.0,111.0,87.0,79.0,75.0,85.0,143.0,87.0,119.0,107.0,73.0,141.0,111.0,123.0,85.0,105.0,113.0,138.0,108.0,99.0,103.0,111.0,96.0,81.0,147.0,179.0,125.0,119.0,142.0,100.0,87.0,101.0,197.0,117.0,79.0,122.0,74.0,104.0,91.0,91.0,146.0,122.0,165.0,124.0,111.0,106.0,129.0,90.0,86.0,111.0,114.0,193.0,191.0,95.0,142.0,96.0,128.0,102.0,108.0,122.0,71.0,106.0,100.0,104.0,114.0,108.0,129.0,133.0,136.0,155.0,96.0,108.0,78.0,161.0,151.0,126.0,112.0,77.0,150.0,120.0,137.0,80.0,106.0,113.0,112.0,99.0,115.0,129.0,112.0,157.0,179.0,105.0,118.0,87.0,106.0,95.0,165.0,117.0,130.0,95.0,107.0,122.0,95.0,126.0,139.0,116.0,99.0,92.0,137.0,61.0,90.0,90.0,88.0,158.0,103.0,147.0,99.0,101.0,81.0,118.0,84.0,105.0,122.0,98.0,87.0,93.0,107.0,105.0,109.0,90.0,125.0,119.0,100.0,100.0,131.0,116.0,127.0,96.0,82.0,137.0,72.0,123.0,101.0,102.0,112.0,143.0,143.0,97.0,83.0,119.0,94.0,102.0,115.0,94.0,135.0,99.0,89.0,80.0,139.0,90.0,140.0,147.0,97.0,107.0,83.0,117.0,100.0,95.0,120.0,82.0,91.0,119.0,100.0,135.0,86.0,134.0,120.0,71.0,74.0,88.0,115.0,124.0,74.0,97.0,154.0,144.0,137.0,119.0,136.0,114.0,137.0,114.0,126.0,132.0,123.0,85.0,84.0,139.0,173.0,99.0,194.0,83.0,89.0,99.0,80.0,166.0,110.0,81.0,154.0,117.0,84.0,94.0,96.0,75.0,130.0,84.0,120.0,139.0,91.0,91.0,99.0,125.0,76.0,129.0,68.0,124.0,114.0,125.0,87.0,97.0,116.0,117.0,111.0,122.0,107.0,86.0,91.0,77.0,105.0,57.0,127.0,84.0,88.0,131.0,164.0,189.0,116.0,84.0,114.0,88.0,84.0,124.0,97.0,110.0,103.0,85.0,87.0,99.0,91.0,95.0,99.0,92.0,154.0,78.0,130.0,111.0,98.0,143.0,119.0,108.0,133.0,109.0,121.0,100.0,93.0,103.0,73.0,112.0,82.0,123.0,67.0,89.0,109.0,108.0,96.0,124.0,124.0,92.0,152.0,111.0,106.0,105.0,106.0,117.0,68.0,112.0,92.0,183.0,94.0,108.0,90.0,125.0,132.0,128.0,94.0,102.0,111.0,128.0,92.0,104.0,94.0,100.0,102.0,128.0,90.0,103.0,157.0,107.0,91.0,117.0,123.0,120.0,106.0,101.0,120.0,127.0,162.0,112.0,98.0,154.0,165.0,99.0,68.0,123.0,91.0,93.0,101.0,56.0,95.0,136.0,129.0,130.0,107.0,140.0,107.0,121.0,90.0,99.0,127.0,118.0,122.0,129.0,110.0,80.0,127.0,158.0,126.0,134.0,102.0,94.0,108.0,83.0,114.0,117.0,111.0,112.0,116.0,141.0,175.0,92.0,106.0,105.0,95.0,126.0,65.0,99.0,102.0,109.0,153.0,100.0,81.0,121.0,108.0,137.0,106.0,88.0,89.0,101.0,122.0,121.0,93.0],\"xaxis\":\"x\",\"yaxis\":\"y\",\"type\":\"histogram\"}],                        {\"template\":{\"data\":{\"histogram2dcontour\":[{\"type\":\"histogram2dcontour\",\"colorbar\":{\"outlinewidth\":0,\"ticks\":\"\"},\"colorscale\":[[0.0,\"#0d0887\"],[0.1111111111111111,\"#46039f\"],[0.2222222222222222,\"#7201a8\"],[0.3333333333333333,\"#9c179e\"],[0.4444444444444444,\"#bd3786\"],[0.5555555555555556,\"#d8576b\"],[0.6666666666666666,\"#ed7953\"],[0.7777777777777778,\"#fb9f3a\"],[0.8888888888888888,\"#fdca26\"],[1.0,\"#f0f921\"]]}],\"choropleth\":[{\"type\":\"choropleth\",\"colorbar\":{\"outlinewidth\":0,\"ticks\":\"\"}}],\"histogram2d\":[{\"type\":\"histogram2d\",\"colorbar\":{\"outlinewidth\":0,\"ticks\":\"\"},\"colorscale\":[[0.0,\"#0d0887\"],[0.1111111111111111,\"#46039f\"],[0.2222222222222222,\"#7201a8\"],[0.3333333333333333,\"#9c179e\"],[0.4444444444444444,\"#bd3786\"],[0.5555555555555556,\"#d8576b\"],[0.6666666666666666,\"#ed7953\"],[0.7777777777777778,\"#fb9f3a\"],[0.8888888888888888,\"#fdca26\"],[1.0,\"#f0f921\"]]}],\"heatmap\":[{\"type\":\"heatmap\",\"colorbar\":{\"outlinewidth\":0,\"ticks\":\"\"},\"colorscale\":[[0.0,\"#0d0887\"],[0.1111111111111111,\"#46039f\"],[0.2222222222222222,\"#7201a8\"],[0.3333333333333333,\"#9c179e\"],[0.4444444444444444,\"#bd3786\"],[0.5555555555555556,\"#d8576b\"],[0.6666666666666666,\"#ed7953\"],[0.7777777777777778,\"#fb9f3a\"],[0.8888888888888888,\"#fdca26\"],[1.0,\"#f0f921\"]]}],\"heatmapgl\":[{\"type\":\"heatmapgl\",\"colorbar\":{\"outlinewidth\":0,\"ticks\":\"\"},\"colorscale\":[[0.0,\"#0d0887\"],[0.1111111111111111,\"#46039f\"],[0.2222222222222222,\"#7201a8\"],[0.3333333333333333,\"#9c179e\"],[0.4444444444444444,\"#bd3786\"],[0.5555555555555556,\"#d8576b\"],[0.6666666666666666,\"#ed7953\"],[0.7777777777777778,\"#fb9f3a\"],[0.8888888888888888,\"#fdca26\"],[1.0,\"#f0f921\"]]}],\"contourcarpet\":[{\"type\":\"contourcarpet\",\"colorbar\":{\"outlinewidth\":0,\"ticks\":\"\"}}],\"contour\":[{\"type\":\"contour\",\"colorbar\":{\"outlinewidth\":0,\"ticks\":\"\"},\"colorscale\":[[0.0,\"#0d0887\"],[0.1111111111111111,\"#46039f\"],[0.2222222222222222,\"#7201a8\"],[0.3333333333333333,\"#9c179e\"],[0.4444444444444444,\"#bd3786\"],[0.5555555555555556,\"#d8576b\"],[0.6666666666666666,\"#ed7953\"],[0.7777777777777778,\"#fb9f3a\"],[0.8888888888888888,\"#fdca26\"],[1.0,\"#f0f921\"]]}],\"surface\":[{\"type\":\"surface\",\"colorbar\":{\"outlinewidth\":0,\"ticks\":\"\"},\"colorscale\":[[0.0,\"#0d0887\"],[0.1111111111111111,\"#46039f\"],[0.2222222222222222,\"#7201a8\"],[0.3333333333333333,\"#9c179e\"],[0.4444444444444444,\"#bd3786\"],[0.5555555555555556,\"#d8576b\"],[0.6666666666666666,\"#ed7953\"],[0.7777777777777778,\"#fb9f3a\"],[0.8888888888888888,\"#fdca26\"],[1.0,\"#f0f921\"]]}],\"mesh3d\":[{\"type\":\"mesh3d\",\"colorbar\":{\"outlinewidth\":0,\"ticks\":\"\"}}],\"scatter\":[{\"fillpattern\":{\"fillmode\":\"overlay\",\"size\":10,\"solidity\":0.2},\"type\":\"scatter\"}],\"parcoords\":[{\"type\":\"parcoords\",\"line\":{\"colorbar\":{\"outlinewidth\":0,\"ticks\":\"\"}}}],\"scatterpolargl\":[{\"type\":\"scatterpolargl\",\"marker\":{\"colorbar\":{\"outlinewidth\":0,\"ticks\":\"\"}}}],\"bar\":[{\"error_x\":{\"color\":\"#2a3f5f\"},\"error_y\":{\"color\":\"#2a3f5f\"},\"marker\":{\"line\":{\"color\":\"#E5ECF6\",\"width\":0.5},\"pattern\":{\"fillmode\":\"overlay\",\"size\":10,\"solidity\":0.2}},\"type\":\"bar\"}],\"scattergeo\":[{\"type\":\"scattergeo\",\"marker\":{\"colorbar\":{\"outlinewidth\":0,\"ticks\":\"\"}}}],\"scatterpolar\":[{\"type\":\"scatterpolar\",\"marker\":{\"colorbar\":{\"outlinewidth\":0,\"ticks\":\"\"}}}],\"histogram\":[{\"marker\":{\"pattern\":{\"fillmode\":\"overlay\",\"size\":10,\"solidity\":0.2}},\"type\":\"histogram\"}],\"scattergl\":[{\"type\":\"scattergl\",\"marker\":{\"colorbar\":{\"outlinewidth\":0,\"ticks\":\"\"}}}],\"scatter3d\":[{\"type\":\"scatter3d\",\"line\":{\"colorbar\":{\"outlinewidth\":0,\"ticks\":\"\"}},\"marker\":{\"colorbar\":{\"outlinewidth\":0,\"ticks\":\"\"}}}],\"scattermapbox\":[{\"type\":\"scattermapbox\",\"marker\":{\"colorbar\":{\"outlinewidth\":0,\"ticks\":\"\"}}}],\"scatterternary\":[{\"type\":\"scatterternary\",\"marker\":{\"colorbar\":{\"outlinewidth\":0,\"ticks\":\"\"}}}],\"scattercarpet\":[{\"type\":\"scattercarpet\",\"marker\":{\"colorbar\":{\"outlinewidth\":0,\"ticks\":\"\"}}}],\"carpet\":[{\"aaxis\":{\"endlinecolor\":\"#2a3f5f\",\"gridcolor\":\"white\",\"linecolor\":\"white\",\"minorgridcolor\":\"white\",\"startlinecolor\":\"#2a3f5f\"},\"baxis\":{\"endlinecolor\":\"#2a3f5f\",\"gridcolor\":\"white\",\"linecolor\":\"white\",\"minorgridcolor\":\"white\",\"startlinecolor\":\"#2a3f5f\"},\"type\":\"carpet\"}],\"table\":[{\"cells\":{\"fill\":{\"color\":\"#EBF0F8\"},\"line\":{\"color\":\"white\"}},\"header\":{\"fill\":{\"color\":\"#C8D4E3\"},\"line\":{\"color\":\"white\"}},\"type\":\"table\"}],\"barpolar\":[{\"marker\":{\"line\":{\"color\":\"#E5ECF6\",\"width\":0.5},\"pattern\":{\"fillmode\":\"overlay\",\"size\":10,\"solidity\":0.2}},\"type\":\"barpolar\"}],\"pie\":[{\"automargin\":true,\"type\":\"pie\"}]},\"layout\":{\"autotypenumbers\":\"strict\",\"colorway\":[\"#636efa\",\"#EF553B\",\"#00cc96\",\"#ab63fa\",\"#FFA15A\",\"#19d3f3\",\"#FF6692\",\"#B6E880\",\"#FF97FF\",\"#FECB52\"],\"font\":{\"color\":\"#2a3f5f\"},\"hovermode\":\"closest\",\"hoverlabel\":{\"align\":\"left\"},\"paper_bgcolor\":\"white\",\"plot_bgcolor\":\"#E5ECF6\",\"polar\":{\"bgcolor\":\"#E5ECF6\",\"angularaxis\":{\"gridcolor\":\"white\",\"linecolor\":\"white\",\"ticks\":\"\"},\"radialaxis\":{\"gridcolor\":\"white\",\"linecolor\":\"white\",\"ticks\":\"\"}},\"ternary\":{\"bgcolor\":\"#E5ECF6\",\"aaxis\":{\"gridcolor\":\"white\",\"linecolor\":\"white\",\"ticks\":\"\"},\"baxis\":{\"gridcolor\":\"white\",\"linecolor\":\"white\",\"ticks\":\"\"},\"caxis\":{\"gridcolor\":\"white\",\"linecolor\":\"white\",\"ticks\":\"\"}},\"coloraxis\":{\"colorbar\":{\"outlinewidth\":0,\"ticks\":\"\"}},\"colorscale\":{\"sequential\":[[0.0,\"#0d0887\"],[0.1111111111111111,\"#46039f\"],[0.2222222222222222,\"#7201a8\"],[0.3333333333333333,\"#9c179e\"],[0.4444444444444444,\"#bd3786\"],[0.5555555555555556,\"#d8576b\"],[0.6666666666666666,\"#ed7953\"],[0.7777777777777778,\"#fb9f3a\"],[0.8888888888888888,\"#fdca26\"],[1.0,\"#f0f921\"]],\"sequentialminus\":[[0.0,\"#0d0887\"],[0.1111111111111111,\"#46039f\"],[0.2222222222222222,\"#7201a8\"],[0.3333333333333333,\"#9c179e\"],[0.4444444444444444,\"#bd3786\"],[0.5555555555555556,\"#d8576b\"],[0.6666666666666666,\"#ed7953\"],[0.7777777777777778,\"#fb9f3a\"],[0.8888888888888888,\"#fdca26\"],[1.0,\"#f0f921\"]],\"diverging\":[[0,\"#8e0152\"],[0.1,\"#c51b7d\"],[0.2,\"#de77ae\"],[0.3,\"#f1b6da\"],[0.4,\"#fde0ef\"],[0.5,\"#f7f7f7\"],[0.6,\"#e6f5d0\"],[0.7,\"#b8e186\"],[0.8,\"#7fbc41\"],[0.9,\"#4d9221\"],[1,\"#276419\"]]},\"xaxis\":{\"gridcolor\":\"white\",\"linecolor\":\"white\",\"ticks\":\"\",\"title\":{\"standoff\":15},\"zerolinecolor\":\"white\",\"automargin\":true,\"zerolinewidth\":2},\"yaxis\":{\"gridcolor\":\"white\",\"linecolor\":\"white\",\"ticks\":\"\",\"title\":{\"standoff\":15},\"zerolinecolor\":\"white\",\"automargin\":true,\"zerolinewidth\":2},\"scene\":{\"xaxis\":{\"backgroundcolor\":\"#E5ECF6\",\"gridcolor\":\"white\",\"linecolor\":\"white\",\"showbackground\":true,\"ticks\":\"\",\"zerolinecolor\":\"white\",\"gridwidth\":2},\"yaxis\":{\"backgroundcolor\":\"#E5ECF6\",\"gridcolor\":\"white\",\"linecolor\":\"white\",\"showbackground\":true,\"ticks\":\"\",\"zerolinecolor\":\"white\",\"gridwidth\":2},\"zaxis\":{\"backgroundcolor\":\"#E5ECF6\",\"gridcolor\":\"white\",\"linecolor\":\"white\",\"showbackground\":true,\"ticks\":\"\",\"zerolinecolor\":\"white\",\"gridwidth\":2}},\"shapedefaults\":{\"line\":{\"color\":\"#2a3f5f\"}},\"annotationdefaults\":{\"arrowcolor\":\"#2a3f5f\",\"arrowhead\":0,\"arrowwidth\":1},\"geo\":{\"bgcolor\":\"white\",\"landcolor\":\"#E5ECF6\",\"subunitcolor\":\"white\",\"showland\":true,\"showlakes\":true,\"lakecolor\":\"white\"},\"title\":{\"x\":0.05},\"mapbox\":{\"style\":\"light\"}}},\"xaxis\":{\"anchor\":\"y\",\"domain\":[0.0,1.0],\"title\":{\"text\":\"Glucose\"}},\"yaxis\":{\"anchor\":\"x\",\"domain\":[0.0,1.0],\"title\":{\"text\":\"count\"}},\"legend\":{\"title\":{\"text\":\"Outcome\"},\"tracegroupgap\":0},\"title\":{\"text\":\"Distribution of Glucose Levels\"},\"barmode\":\"relative\"},                        {\"responsive\": true}                    ).then(function(){\n",
       "                            \n",
       "var gd = document.getElementById('12dc8c3a-0e51-4e93-a9bd-9afb0acefd24');\n",
       "var x = new MutationObserver(function (mutations, observer) {{\n",
       "        var display = window.getComputedStyle(gd).display;\n",
       "        if (!display || display === 'none') {{\n",
       "            console.log([gd, 'removed!']);\n",
       "            Plotly.purge(gd);\n",
       "            observer.disconnect();\n",
       "        }}\n",
       "}});\n",
       "\n",
       "// Listen for the removal of the full notebook cells\n",
       "var notebookContainer = gd.closest('#notebook-container');\n",
       "if (notebookContainer) {{\n",
       "    x.observe(notebookContainer, {childList: true});\n",
       "}}\n",
       "\n",
       "// Listen for the clearing of the current output cell\n",
       "var outputEl = gd.closest('.output');\n",
       "if (outputEl) {{\n",
       "    x.observe(outputEl, {childList: true});\n",
       "}}\n",
       "\n",
       "                        })                };                });            </script>        </div>"
      ]
     },
     "metadata": {},
     "output_type": "display_data"
    }
   ],
   "source": [
    "fig1 = px.histogram(df, x='Glucose',color='Outcome', title='Distribution of Glucose Levels')\n",
    "fig1.show()"
   ]
  },
  {
   "cell_type": "markdown",
   "id": "ef13af4b-a706-4ad1-822c-41d8acc7ffea",
   "metadata": {},
   "source": [
    "For lower glucose levels (below approximately 100), individuals are more likely to fall in the 0 outcome group (non-diagnosed group).\n",
    "\n",
    "As glucose levels increase, particularly around 125 and higher, the blue bars start to appear more frequently, indicating a higher proportion of individuals in the 1 outcome group"
   ]
  },
  {
   "cell_type": "markdown",
   "id": "b4ef06cd-ac0e-4eba-8b91-a649fe7f0c6f",
   "metadata": {},
   "source": [
    "# Relation Between BMI vs Age Using Scatterplot"
   ]
  },
  {
   "cell_type": "code",
   "execution_count": 66,
   "id": "5809e9d8-33f1-40a0-a1c1-90e0e62b6340",
   "metadata": {},
   "outputs": [
    {
     "data": {
      "application/vnd.plotly.v1+json": {
       "config": {
        "plotlyServerURL": "https://plot.ly"
       },
       "data": [
        {
         "hovertemplate": "Age=%{x}<br>BMI=%{y}<br>Outcome=%{marker.color}<extra></extra>",
         "legendgroup": "",
         "marker": {
          "color": [
           1,
           0,
           1,
           0,
           1,
           0,
           1,
           0,
           1,
           1,
           0,
           1,
           0,
           1,
           1,
           1,
           1,
           1,
           0,
           1,
           0,
           0,
           1,
           1,
           1,
           1,
           1,
           0,
           0,
           0,
           0,
           1,
           0,
           0,
           0,
           0,
           0,
           1,
           1,
           1,
           0,
           0,
           0,
           1,
           0,
           1,
           0,
           0,
           1,
           0,
           0,
           0,
           0,
           1,
           0,
           0,
           1,
           0,
           0,
           0,
           0,
           1,
           0,
           0,
           1,
           0,
           1,
           0,
           0,
           0,
           1,
           0,
           1,
           0,
           0,
           0,
           0,
           0,
           1,
           0,
           0,
           0,
           0,
           0,
           1,
           0,
           0,
           0,
           1,
           0,
           0,
           0,
           0,
           1,
           0,
           0,
           0,
           0,
           0,
           1,
           1,
           0,
           0,
           0,
           0,
           0,
           0,
           0,
           0,
           1,
           1,
           1,
           0,
           0,
           1,
           1,
           1,
           0,
           0,
           0,
           1,
           0,
           0,
           0,
           1,
           1,
           0,
           0,
           1,
           1,
           1,
           1,
           1,
           0,
           0,
           0,
           0,
           0,
           0,
           0,
           0,
           0,
           0,
           1,
           0,
           0,
           0,
           0,
           0,
           0,
           0,
           0,
           1,
           0,
           1,
           1,
           0,
           0,
           0,
           1,
           0,
           0,
           0,
           0,
           1,
           1,
           0,
           0,
           0,
           0,
           1,
           1,
           0,
           0,
           0,
           1,
           0,
           1,
           0,
           1,
           0,
           0,
           0,
           0,
           0,
           1,
           1,
           1,
           1,
           1,
           0,
           0,
           1,
           1,
           0,
           1,
           0,
           1,
           1,
           1,
           0,
           0,
           0,
           0,
           0,
           0,
           1,
           1,
           0,
           1,
           0,
           0,
           0,
           1,
           1,
           1,
           1,
           0,
           1,
           1,
           1,
           1,
           0,
           0,
           0,
           0,
           0,
           1,
           0,
           0,
           1,
           1,
           0,
           0,
           0,
           1,
           1,
           1,
           1,
           0,
           0,
           0,
           1,
           1,
           0,
           1,
           0,
           0,
           0,
           0,
           0,
           0,
           0,
           0,
           1,
           1,
           0,
           0,
           0,
           1,
           0,
           1,
           0,
           0,
           1,
           0,
           1,
           0,
           0,
           1,
           1,
           0,
           0,
           0,
           0,
           0,
           1,
           0,
           0,
           0,
           1,
           0,
           0,
           1,
           1,
           0,
           0,
           1,
           0,
           0,
           0,
           1,
           1,
           1,
           0,
           0,
           1,
           0,
           1,
           0,
           1,
           1,
           0,
           1,
           0,
           0,
           1,
           0,
           1,
           1,
           0,
           0,
           1,
           0,
           1,
           0,
           0,
           1,
           0,
           1,
           0,
           1,
           1,
           1,
           0,
           0,
           1,
           0,
           1,
           0,
           0,
           0,
           1,
           0,
           0,
           0,
           0,
           1,
           1,
           1,
           0,
           0,
           0,
           0,
           0,
           0,
           0,
           0,
           0,
           1,
           0,
           0,
           0,
           0,
           0,
           1,
           1,
           1,
           0,
           1,
           1,
           0,
           0,
           1,
           0,
           0,
           1,
           0,
           0,
           1,
           1,
           0,
           0,
           0,
           0,
           1,
           0,
           0,
           1,
           0,
           0,
           0,
           0,
           0,
           0,
           0,
           1,
           1,
           1,
           0,
           0,
           1,
           0,
           0,
           1,
           0,
           0,
           1,
           0,
           1,
           1,
           0,
           1,
           0,
           1,
           0,
           1,
           0,
           1,
           1,
           0,
           0,
           0,
           0,
           1,
           1,
           0,
           1,
           0,
           1,
           0,
           0,
           0,
           0,
           1,
           1,
           0,
           1,
           0,
           1,
           0,
           0,
           0,
           0,
           0,
           1,
           0,
           0,
           0,
           0,
           1,
           0,
           0,
           1,
           1,
           1,
           0,
           0,
           1,
           0,
           0,
           1,
           0,
           0,
           0,
           1,
           0,
           0,
           1,
           0,
           0,
           0,
           0,
           0,
           0,
           0,
           0,
           0,
           1,
           0,
           0,
           0,
           0,
           0,
           0,
           0,
           1,
           0,
           0,
           0,
           1,
           0,
           0,
           0,
           1,
           1,
           0,
           0,
           0,
           0,
           0,
           0,
           0,
           1,
           0,
           0,
           0,
           0,
           1,
           0,
           0,
           0,
           1,
           0,
           0,
           0,
           1,
           0,
           0,
           0,
           1,
           0,
           0,
           0,
           0,
           1,
           1,
           0,
           0,
           0,
           0,
           0,
           0,
           1,
           0,
           0,
           0,
           0,
           0,
           0,
           0,
           0,
           0,
           0,
           0,
           1,
           0,
           0,
           0,
           1,
           1,
           1,
           1,
           0,
           0,
           1,
           1,
           0,
           0,
           0,
           0,
           0,
           0,
           0,
           0,
           0,
           0,
           0,
           0,
           0,
           1,
           1,
           0,
           0,
           0,
           0,
           0,
           0,
           0,
           1,
           0,
           0,
           0,
           0,
           0,
           0,
           0,
           1,
           0,
           1,
           1,
           0,
           0,
           0,
           1,
           0,
           1,
           0,
           1,
           0,
           1,
           0,
           1,
           0,
           0,
           1,
           0,
           0,
           1,
           0,
           0,
           0,
           0,
           1,
           1,
           0,
           1,
           0,
           0,
           0,
           0,
           1,
           1,
           0,
           1,
           0,
           0,
           0,
           1,
           1,
           0,
           0,
           0,
           0,
           0,
           0,
           0,
           0,
           0,
           0,
           1,
           0,
           0,
           0,
           0,
           1,
           0,
           0,
           1,
           0,
           0,
           0,
           1,
           0,
           0,
           0,
           1,
           1,
           1,
           0,
           0,
           0,
           0,
           0,
           0,
           1,
           0,
           0,
           0,
           1,
           0,
           1,
           1,
           1,
           1,
           0,
           1,
           1,
           0,
           0,
           0,
           0,
           0,
           0,
           0,
           1,
           1,
           0,
           1,
           0,
           0,
           1,
           0,
           1,
           0,
           0,
           0,
           0,
           0,
           1,
           0,
           1,
           0,
           1,
           0,
           1,
           1,
           0,
           0,
           0,
           0,
           1,
           1,
           0,
           0,
           0,
           1,
           0,
           1,
           1,
           0,
           0,
           1,
           0,
           0,
           1,
           1,
           0,
           0,
           1,
           0,
           0,
           1,
           0,
           0,
           0,
           0,
           0,
           0,
           0,
           1,
           1,
           1,
           0,
           0,
           0,
           0,
           0,
           0,
           1,
           1,
           0,
           0,
           1,
           0,
           0,
           1,
           0,
           1,
           1,
           1,
           0,
           0,
           1,
           1,
           1,
           0,
           1,
           0,
           1,
           0,
           1,
           0,
           0,
           0,
           0,
           1,
           0
          ],
          "coloraxis": "coloraxis",
          "symbol": "circle"
         },
         "mode": "markers",
         "name": "",
         "orientation": "v",
         "showlegend": false,
         "type": "scatter",
         "x": [
          50,
          31,
          32,
          21,
          33,
          30,
          26,
          29,
          53,
          54,
          30,
          34,
          57,
          59,
          51,
          32,
          31,
          31,
          33,
          32,
          27,
          50,
          41,
          29,
          51,
          41,
          43,
          22,
          57,
          38,
          60,
          28,
          22,
          28,
          45,
          33,
          35,
          46,
          27,
          56,
          26,
          37,
          48,
          54,
          40,
          25,
          29,
          22,
          31,
          24,
          22,
          26,
          30,
          58,
          42,
          21,
          41,
          31,
          44,
          22,
          21,
          39,
          36,
          24,
          42,
          32,
          38,
          54,
          25,
          27,
          28,
          26,
          42,
          23,
          22,
          22,
          41,
          27,
          26,
          24,
          22,
          22,
          36,
          22,
          37,
          27,
          45,
          26,
          43,
          24,
          21,
          34,
          42,
          60,
          21,
          40,
          24,
          22,
          23,
          31,
          33,
          22,
          21,
          24,
          27,
          21,
          27,
          37,
          25,
          24,
          24,
          46,
          23,
          25,
          39,
          61,
          38,
          25,
          22,
          21,
          25,
          24,
          23,
          66.5,
          23,
          26,
          30,
          23,
          40,
          62,
          33,
          33,
          30,
          39,
          26,
          31,
          21,
          22,
          29,
          28,
          55,
          38,
          22,
          42,
          23,
          21,
          41,
          34,
          65,
          22,
          24,
          37,
          42,
          23,
          43,
          36,
          21,
          23,
          22,
          47,
          36,
          45,
          27,
          21,
          32,
          41,
          22,
          34,
          29,
          29,
          36,
          29,
          25,
          23,
          33,
          36,
          42,
          26,
          47,
          37,
          32,
          23,
          21,
          27,
          40,
          41,
          60,
          33,
          31,
          25,
          21,
          40,
          36,
          40,
          42,
          29,
          21,
          23,
          26,
          29,
          21,
          28,
          32,
          27,
          55,
          27,
          57,
          52,
          21,
          41,
          25,
          24,
          60,
          24,
          36,
          38,
          25,
          32,
          32,
          41,
          21,
          66,
          37,
          61,
          26,
          22,
          26,
          24,
          31,
          24,
          22,
          46,
          22,
          29,
          23,
          26,
          51,
          23,
          32,
          27,
          21,
          22,
          22,
          33,
          29,
          49,
          41,
          23,
          34,
          23,
          42,
          27,
          24,
          25,
          44,
          21,
          30,
          25,
          24,
          51,
          34,
          27,
          24,
          63,
          35,
          43,
          25,
          24,
          21,
          28,
          38,
          21,
          40,
          21,
          52,
          25,
          29,
          23,
          57,
          22,
          28,
          39,
          37,
          47,
          52,
          51,
          34,
          29,
          26,
          33,
          21,
          25,
          31,
          24,
          65,
          28,
          29,
          24,
          46,
          58,
          30,
          25,
          35,
          28,
          37,
          29,
          47,
          21,
          25,
          30,
          41,
          22,
          27,
          25,
          43,
          26,
          30,
          29,
          28,
          59,
          31,
          25,
          36,
          43,
          21,
          24,
          30,
          37,
          23,
          37,
          46,
          25,
          41,
          44,
          22,
          26,
          44,
          44,
          33,
          41,
          22,
          36,
          22,
          33,
          57,
          49,
          22,
          23,
          26,
          37,
          29,
          30,
          46,
          24,
          21,
          49,
          28,
          44,
          48,
          29,
          29,
          63,
          65,
          66.5,
          30,
          30,
          29,
          21,
          22,
          45,
          25,
          21,
          21,
          25,
          28,
          58,
          22,
          22,
          32,
          35,
          24,
          22,
          21,
          25,
          25,
          24,
          35,
          45,
          58,
          28,
          42,
          27,
          21,
          37,
          31,
          25,
          39,
          22,
          25,
          25,
          31,
          55,
          35,
          38,
          41,
          26,
          46,
          25,
          39,
          28,
          28,
          25,
          22,
          21,
          21,
          22,
          22,
          37,
          27,
          28,
          26,
          21,
          21,
          21,
          36,
          31,
          25,
          38,
          26,
          43,
          23,
          38,
          22,
          29,
          36,
          29,
          41,
          28,
          21,
          31,
          41,
          22,
          24,
          33,
          30,
          25,
          28,
          26,
          22,
          26,
          23,
          23,
          25,
          66.5,
          24,
          38,
          62,
          24,
          51,
          66.5,
          48,
          26,
          39,
          37,
          34,
          21,
          22,
          25,
          38,
          27,
          28,
          22,
          22,
          50,
          24,
          59,
          29,
          31,
          39,
          63,
          35,
          29,
          28,
          23,
          31,
          24,
          21,
          58,
          28,
          66.5,
          24,
          42,
          33,
          45,
          22,
          66,
          30,
          25,
          55,
          39,
          21,
          28,
          41,
          41,
          40,
          38,
          35,
          21,
          21,
          64,
          46,
          21,
          58,
          22,
          24,
          28,
          53,
          51,
          41,
          60,
          25,
          26,
          26,
          45,
          24,
          21,
          21,
          24,
          22,
          31,
          22,
          24,
          29,
          31,
          24,
          23,
          46,
          66.5,
          23,
          32,
          43,
          27,
          56,
          25,
          29,
          37,
          53,
          28,
          50,
          37,
          21,
          25,
          66,
          23,
          28,
          37,
          30,
          58,
          42,
          35,
          54,
          28,
          24,
          32,
          27,
          22,
          21,
          46,
          37,
          33,
          39,
          21,
          22,
          22,
          23,
          25,
          35,
          21,
          36,
          62,
          21,
          27,
          62,
          42,
          52,
          22,
          41,
          29,
          52,
          25,
          45,
          24,
          44,
          25,
          34,
          22,
          46,
          21,
          38,
          26,
          24,
          28,
          30,
          54,
          36,
          21,
          22,
          25,
          27,
          23,
          24,
          36,
          40,
          26,
          50,
          27,
          30,
          23,
          50,
          24,
          28,
          28,
          45,
          21,
          21,
          29,
          21,
          21,
          45,
          21,
          34,
          24,
          23,
          22,
          31,
          38,
          48,
          23,
          32,
          28,
          27,
          24,
          50,
          31,
          27,
          30,
          33,
          22,
          42,
          23,
          23,
          27,
          28,
          27,
          22,
          25,
          22,
          41,
          51,
          27,
          54,
          22,
          43,
          40,
          40,
          24,
          66.5,
          40,
          43,
          45,
          49,
          21,
          47,
          22,
          66.5,
          31,
          53,
          25,
          25,
          23,
          22,
          26,
          22,
          27,
          66.5,
          25,
          22,
          29,
          23,
          46,
          34,
          44,
          23,
          43,
          25,
          43,
          31,
          22,
          28,
          26,
          26,
          49,
          52,
          41,
          27,
          28,
          30,
          22,
          45,
          23,
          24,
          40,
          38,
          21,
          32,
          34,
          31,
          56,
          24,
          52,
          34,
          21,
          42,
          42,
          45,
          38,
          25,
          22,
          22,
          22,
          34,
          22,
          24,
          22,
          53,
          28,
          21,
          42,
          21,
          42,
          48,
          26,
          22,
          45,
          39,
          46,
          27,
          32,
          36,
          50,
          22,
          28,
          25,
          26,
          45,
          37,
          39,
          52,
          26,
          66,
          22,
          43,
          33,
          63,
          27,
          30,
          47,
          23
         ],
         "xaxis": "x",
         "y": [
          33.6,
          26.6,
          23.3,
          28.1,
          43.1,
          25.6,
          31,
          35.3,
          30.5,
          34.3,
          37.6,
          38,
          27.1,
          30.1,
          25.8,
          30,
          45.8,
          29.6,
          43.3,
          34.6,
          39.3,
          35.4,
          39.8,
          29,
          36.6,
          31.1,
          39.4,
          23.2,
          22.2,
          34.1,
          36,
          31.6,
          24.8,
          19.9,
          27.6,
          24,
          33.2,
          32.9,
          38.2,
          37.1,
          34,
          40.2,
          22.7,
          45.4,
          27.4,
          42,
          29.7,
          28,
          39.1,
          30.1,
          19.4,
          24.2,
          24.4,
          33.7,
          34.7,
          23,
          37.7,
          46.8,
          40.5,
          41.5,
          30.1,
          32.9,
          25,
          25.4,
          32.8,
          29,
          32.5,
          42.7,
          19.6,
          28.9,
          32.9,
          28.6,
          43.4,
          35.1,
          32,
          24.7,
          32.6,
          37.7,
          43.2,
          25,
          22.4,
          30.1,
          29.3,
          24.6,
          48.8,
          32.4,
          36.6,
          38.5,
          37.1,
          26.5,
          19.1,
          32,
          46.7,
          23.8,
          24.7,
          33.9,
          31.6,
          20.4,
          28.7,
          49.7,
          39,
          26.1,
          22.5,
          26.6,
          39.6,
          28.7,
          22.4,
          29.5,
          34.3,
          37.4,
          33.3,
          34,
          31.2,
          34,
          30.5,
          31.2,
          34,
          33.7,
          28.2,
          23.2,
          50.25,
          34.2,
          33.6,
          26.8,
          33.3,
          50.25,
          42.9,
          33.3,
          34.5,
          27.9,
          29.7,
          33.3,
          34.5,
          38.3,
          21.1,
          33.8,
          30.8,
          28.7,
          31.2,
          36.9,
          21.1,
          39.5,
          32.5,
          32.4,
          32.8,
          30.1,
          32.8,
          30.5,
          33.7,
          27.3,
          37.4,
          21.9,
          34.3,
          40.6,
          47.9,
          50,
          24.6,
          25.2,
          29,
          40.9,
          29.7,
          37.2,
          44.2,
          29.7,
          31.6,
          29.9,
          32.5,
          29.6,
          31.9,
          28.4,
          30.8,
          35.4,
          28.9,
          43.5,
          29.7,
          32.7,
          31.2,
          50.25,
          45,
          39.1,
          23.2,
          34.9,
          27.7,
          26.8,
          27.6,
          35.9,
          30.1,
          32,
          27.9,
          31.6,
          22.6,
          33.1,
          30.4,
          50.25,
          24.4,
          39.4,
          24.3,
          22.9,
          34.8,
          30.9,
          31,
          40.1,
          27.3,
          20.4,
          37.7,
          23.9,
          37.5,
          37.7,
          33.2,
          35.5,
          27.7,
          42.8,
          34.2,
          42.6,
          34.2,
          41.8,
          35.8,
          30,
          29,
          37.8,
          34.6,
          31.6,
          25.2,
          28.8,
          23.6,
          34.6,
          35.7,
          37.2,
          36.7,
          45.2,
          44,
          46.2,
          25.4,
          35,
          29.7,
          43.6,
          35.9,
          44.1,
          30.8,
          18.4,
          29.2,
          33.1,
          25.6,
          27.1,
          38.2,
          30,
          31.2,
          50.25,
          35.4,
          30.1,
          31.2,
          28,
          24.4,
          35.8,
          27.6,
          33.6,
          30.1,
          28.7,
          25.9,
          33.3,
          30.9,
          30,
          32.1,
          32.4,
          32,
          33.6,
          36.3,
          40,
          25.1,
          27.5,
          45.6,
          25.2,
          23,
          33.2,
          34.2,
          40.5,
          26.5,
          27.8,
          24.9,
          25.3,
          37.9,
          35.9,
          32.4,
          30.4,
          27,
          26,
          38.7,
          45.6,
          20.8,
          36.1,
          36.9,
          36.6,
          43.3,
          40.5,
          21.9,
          35.5,
          28,
          30.7,
          36.6,
          23.6,
          32.3,
          31.6,
          35.8,
          50.25,
          21,
          39.7,
          25.5,
          24.8,
          30.5,
          32.9,
          26.2,
          39.4,
          26.6,
          29.5,
          35.9,
          34.1,
          19.3,
          30.5,
          38.1,
          23.5,
          27.5,
          31.6,
          27.4,
          26.8,
          35.7,
          25.6,
          35.1,
          35.1,
          45.5,
          30.8,
          23.1,
          32.7,
          43.3,
          23.6,
          23.9,
          47.9,
          33.8,
          31.2,
          34.2,
          39.9,
          25.9,
          25.9,
          32,
          34.7,
          36.8,
          38.5,
          28.7,
          23.5,
          21.8,
          41,
          42.2,
          31.2,
          34.4,
          27.2,
          42.7,
          30.4,
          33.3,
          39.9,
          35.3,
          36.5,
          31.2,
          29.8,
          39.2,
          38.5,
          34.9,
          34,
          27.6,
          21,
          27.5,
          32.8,
          38.4,
          30.1,
          35.8,
          34.9,
          36.2,
          39.2,
          25.2,
          37.2,
          48.3,
          43.4,
          30.8,
          20,
          25.4,
          25.1,
          24.3,
          22.3,
          32.3,
          43.3,
          32,
          31.6,
          32,
          45.7,
          23.7,
          22.1,
          32.9,
          27.7,
          24.7,
          34.3,
          21.1,
          34.9,
          32,
          24.2,
          35,
          31.6,
          32.9,
          42.1,
          28.9,
          21.9,
          25.9,
          42.4,
          35.7,
          34.4,
          42.4,
          26.2,
          34.6,
          35.7,
          27.2,
          38.5,
          18.2,
          26.4,
          45.3,
          26,
          40.6,
          30.8,
          42.9,
          37,
          30.1,
          34.1,
          40.6,
          35,
          22.2,
          30.4,
          30,
          25.6,
          24.5,
          42.4,
          37.4,
          29.9,
          18.2,
          36.8,
          34.3,
          32.2,
          33.2,
          30.5,
          29.7,
          50.25,
          25.3,
          36.5,
          33.6,
          30.5,
          21.2,
          28.9,
          39.9,
          19.6,
          37.8,
          33.6,
          26.7,
          30.2,
          37.6,
          25.9,
          20.8,
          21.8,
          35.3,
          27.6,
          24,
          21.8,
          27.8,
          36.8,
          30,
          46.1,
          41.3,
          33.2,
          38.8,
          29.9,
          28.9,
          27.3,
          33.7,
          23.8,
          25.9,
          28,
          35.5,
          35.2,
          27.8,
          38.2,
          44.2,
          42.3,
          40.7,
          46.5,
          25.6,
          26.1,
          36.8,
          33.5,
          32.8,
          28.9,
          30.1,
          26.6,
          26,
          30.1,
          25.1,
          29.3,
          25.2,
          37.2,
          39,
          33.3,
          37.3,
          33.3,
          36.5,
          28.6,
          30.4,
          25,
          29.7,
          22.1,
          24.2,
          27.3,
          25.6,
          31.6,
          30.3,
          37.6,
          32.8,
          19.6,
          25,
          33.2,
          30.1,
          34.2,
          31.6,
          21.8,
          18.2,
          26.3,
          30.8,
          24.6,
          29.8,
          45.3,
          41.3,
          29.8,
          33.3,
          32.9,
          29.6,
          21.7,
          36.3,
          36.4,
          39.4,
          32.4,
          34.9,
          39.5,
          32,
          34.5,
          43.6,
          33.1,
          32.8,
          28.5,
          27.4,
          31.9,
          27.8,
          29.9,
          36.9,
          25.5,
          38.1,
          27.8,
          46.2,
          30.1,
          33.8,
          41.3,
          37.6,
          26.9,
          32.4,
          26.1,
          38.6,
          32,
          31.3,
          34.3,
          32.5,
          22.6,
          29.5,
          34.7,
          30.1,
          35.5,
          24,
          42.9,
          27,
          34.7,
          42.1,
          25,
          26.5,
          38.7,
          28.7,
          22.5,
          34.9,
          24.3,
          33.3,
          21.1,
          46.8,
          39.4,
          34.4,
          28.5,
          33.6,
          32,
          45.3,
          27.8,
          36.8,
          23.1,
          27.1,
          23.7,
          27.8,
          35.2,
          28.4,
          35.8,
          40,
          19.5,
          41.5,
          24,
          30.9,
          32.9,
          38.2,
          32.5,
          36.1,
          25.8,
          28.7,
          20.1,
          28.2,
          32.4,
          38.4,
          24.2,
          40.8,
          43.5,
          30.8,
          37.7,
          24.7,
          32.4,
          34.6,
          24.7,
          27.4,
          34.5,
          26.2,
          27.5,
          25.9,
          31.2,
          28.8,
          31.6,
          40.9,
          19.5,
          29.3,
          34.3,
          29.5,
          28,
          27.6,
          39.4,
          23.4,
          37.8,
          28.3,
          26.4,
          25.2,
          33.8,
          34.1,
          26.8,
          34.2,
          38.7,
          21.8,
          38.9,
          39,
          34.2,
          27.7,
          42.9,
          37.6,
          37.9,
          33.7,
          34.8,
          32.5,
          27.5,
          34,
          30.9,
          33.6,
          25.4,
          35.5,
          50.25,
          35.6,
          30.9,
          24.8,
          35.3,
          36,
          24.2,
          24.2,
          49.6,
          44.6,
          32.3,
          30.1,
          33.2,
          23.1,
          28.3,
          24.1,
          46.1,
          24.6,
          42.3,
          39.1,
          38.5,
          23.5,
          30.4,
          29.9,
          25,
          34.5,
          44.5,
          35.9,
          27.6,
          35,
          38.5,
          28.4,
          39.8,
          34.3,
          34.4,
          32.8,
          38,
          31.2,
          29.6,
          41.2,
          26.4,
          29.5,
          33.9,
          33.8,
          23.1,
          35.5,
          35.6,
          29.3,
          38.1,
          29.3,
          39.1,
          32.8,
          39.4,
          36.1,
          32.4,
          22.9,
          30.1,
          28.4,
          28.4,
          44.5,
          29,
          23.3,
          35.4,
          27.4,
          32,
          36.6,
          39.5,
          42.3,
          30.8,
          28.5,
          32.7,
          40.6,
          30,
          49.3,
          46.3,
          36.4,
          24.3,
          31.2,
          39,
          26,
          43.3,
          32.4,
          36.5,
          32,
          36.3,
          37.5,
          35.5,
          28.4,
          44,
          22.5,
          32.9,
          36.8,
          26.2,
          30.1,
          30.4
         ],
         "yaxis": "y"
        }
       ],
       "layout": {
        "autosize": true,
        "coloraxis": {
         "colorbar": {
          "title": {
           "text": "Outcome"
          }
         },
         "colorscale": [
          [
           0,
           "#0d0887"
          ],
          [
           0.1111111111111111,
           "#46039f"
          ],
          [
           0.2222222222222222,
           "#7201a8"
          ],
          [
           0.3333333333333333,
           "#9c179e"
          ],
          [
           0.4444444444444444,
           "#bd3786"
          ],
          [
           0.5555555555555556,
           "#d8576b"
          ],
          [
           0.6666666666666666,
           "#ed7953"
          ],
          [
           0.7777777777777778,
           "#fb9f3a"
          ],
          [
           0.8888888888888888,
           "#fdca26"
          ],
          [
           1,
           "#f0f921"
          ]
         ]
        },
        "legend": {
         "tracegroupgap": 0
        },
        "template": {
         "data": {
          "bar": [
           {
            "error_x": {
             "color": "#2a3f5f"
            },
            "error_y": {
             "color": "#2a3f5f"
            },
            "marker": {
             "line": {
              "color": "#E5ECF6",
              "width": 0.5
             },
             "pattern": {
              "fillmode": "overlay",
              "size": 10,
              "solidity": 0.2
             }
            },
            "type": "bar"
           }
          ],
          "barpolar": [
           {
            "marker": {
             "line": {
              "color": "#E5ECF6",
              "width": 0.5
             },
             "pattern": {
              "fillmode": "overlay",
              "size": 10,
              "solidity": 0.2
             }
            },
            "type": "barpolar"
           }
          ],
          "carpet": [
           {
            "aaxis": {
             "endlinecolor": "#2a3f5f",
             "gridcolor": "white",
             "linecolor": "white",
             "minorgridcolor": "white",
             "startlinecolor": "#2a3f5f"
            },
            "baxis": {
             "endlinecolor": "#2a3f5f",
             "gridcolor": "white",
             "linecolor": "white",
             "minorgridcolor": "white",
             "startlinecolor": "#2a3f5f"
            },
            "type": "carpet"
           }
          ],
          "choropleth": [
           {
            "colorbar": {
             "outlinewidth": 0,
             "ticks": ""
            },
            "type": "choropleth"
           }
          ],
          "contour": [
           {
            "colorbar": {
             "outlinewidth": 0,
             "ticks": ""
            },
            "colorscale": [
             [
              0,
              "#0d0887"
             ],
             [
              0.1111111111111111,
              "#46039f"
             ],
             [
              0.2222222222222222,
              "#7201a8"
             ],
             [
              0.3333333333333333,
              "#9c179e"
             ],
             [
              0.4444444444444444,
              "#bd3786"
             ],
             [
              0.5555555555555556,
              "#d8576b"
             ],
             [
              0.6666666666666666,
              "#ed7953"
             ],
             [
              0.7777777777777778,
              "#fb9f3a"
             ],
             [
              0.8888888888888888,
              "#fdca26"
             ],
             [
              1,
              "#f0f921"
             ]
            ],
            "type": "contour"
           }
          ],
          "contourcarpet": [
           {
            "colorbar": {
             "outlinewidth": 0,
             "ticks": ""
            },
            "type": "contourcarpet"
           }
          ],
          "heatmap": [
           {
            "colorbar": {
             "outlinewidth": 0,
             "ticks": ""
            },
            "colorscale": [
             [
              0,
              "#0d0887"
             ],
             [
              0.1111111111111111,
              "#46039f"
             ],
             [
              0.2222222222222222,
              "#7201a8"
             ],
             [
              0.3333333333333333,
              "#9c179e"
             ],
             [
              0.4444444444444444,
              "#bd3786"
             ],
             [
              0.5555555555555556,
              "#d8576b"
             ],
             [
              0.6666666666666666,
              "#ed7953"
             ],
             [
              0.7777777777777778,
              "#fb9f3a"
             ],
             [
              0.8888888888888888,
              "#fdca26"
             ],
             [
              1,
              "#f0f921"
             ]
            ],
            "type": "heatmap"
           }
          ],
          "heatmapgl": [
           {
            "colorbar": {
             "outlinewidth": 0,
             "ticks": ""
            },
            "colorscale": [
             [
              0,
              "#0d0887"
             ],
             [
              0.1111111111111111,
              "#46039f"
             ],
             [
              0.2222222222222222,
              "#7201a8"
             ],
             [
              0.3333333333333333,
              "#9c179e"
             ],
             [
              0.4444444444444444,
              "#bd3786"
             ],
             [
              0.5555555555555556,
              "#d8576b"
             ],
             [
              0.6666666666666666,
              "#ed7953"
             ],
             [
              0.7777777777777778,
              "#fb9f3a"
             ],
             [
              0.8888888888888888,
              "#fdca26"
             ],
             [
              1,
              "#f0f921"
             ]
            ],
            "type": "heatmapgl"
           }
          ],
          "histogram": [
           {
            "marker": {
             "pattern": {
              "fillmode": "overlay",
              "size": 10,
              "solidity": 0.2
             }
            },
            "type": "histogram"
           }
          ],
          "histogram2d": [
           {
            "colorbar": {
             "outlinewidth": 0,
             "ticks": ""
            },
            "colorscale": [
             [
              0,
              "#0d0887"
             ],
             [
              0.1111111111111111,
              "#46039f"
             ],
             [
              0.2222222222222222,
              "#7201a8"
             ],
             [
              0.3333333333333333,
              "#9c179e"
             ],
             [
              0.4444444444444444,
              "#bd3786"
             ],
             [
              0.5555555555555556,
              "#d8576b"
             ],
             [
              0.6666666666666666,
              "#ed7953"
             ],
             [
              0.7777777777777778,
              "#fb9f3a"
             ],
             [
              0.8888888888888888,
              "#fdca26"
             ],
             [
              1,
              "#f0f921"
             ]
            ],
            "type": "histogram2d"
           }
          ],
          "histogram2dcontour": [
           {
            "colorbar": {
             "outlinewidth": 0,
             "ticks": ""
            },
            "colorscale": [
             [
              0,
              "#0d0887"
             ],
             [
              0.1111111111111111,
              "#46039f"
             ],
             [
              0.2222222222222222,
              "#7201a8"
             ],
             [
              0.3333333333333333,
              "#9c179e"
             ],
             [
              0.4444444444444444,
              "#bd3786"
             ],
             [
              0.5555555555555556,
              "#d8576b"
             ],
             [
              0.6666666666666666,
              "#ed7953"
             ],
             [
              0.7777777777777778,
              "#fb9f3a"
             ],
             [
              0.8888888888888888,
              "#fdca26"
             ],
             [
              1,
              "#f0f921"
             ]
            ],
            "type": "histogram2dcontour"
           }
          ],
          "mesh3d": [
           {
            "colorbar": {
             "outlinewidth": 0,
             "ticks": ""
            },
            "type": "mesh3d"
           }
          ],
          "parcoords": [
           {
            "line": {
             "colorbar": {
              "outlinewidth": 0,
              "ticks": ""
             }
            },
            "type": "parcoords"
           }
          ],
          "pie": [
           {
            "automargin": true,
            "type": "pie"
           }
          ],
          "scatter": [
           {
            "fillpattern": {
             "fillmode": "overlay",
             "size": 10,
             "solidity": 0.2
            },
            "type": "scatter"
           }
          ],
          "scatter3d": [
           {
            "line": {
             "colorbar": {
              "outlinewidth": 0,
              "ticks": ""
             }
            },
            "marker": {
             "colorbar": {
              "outlinewidth": 0,
              "ticks": ""
             }
            },
            "type": "scatter3d"
           }
          ],
          "scattercarpet": [
           {
            "marker": {
             "colorbar": {
              "outlinewidth": 0,
              "ticks": ""
             }
            },
            "type": "scattercarpet"
           }
          ],
          "scattergeo": [
           {
            "marker": {
             "colorbar": {
              "outlinewidth": 0,
              "ticks": ""
             }
            },
            "type": "scattergeo"
           }
          ],
          "scattergl": [
           {
            "marker": {
             "colorbar": {
              "outlinewidth": 0,
              "ticks": ""
             }
            },
            "type": "scattergl"
           }
          ],
          "scattermapbox": [
           {
            "marker": {
             "colorbar": {
              "outlinewidth": 0,
              "ticks": ""
             }
            },
            "type": "scattermapbox"
           }
          ],
          "scatterpolar": [
           {
            "marker": {
             "colorbar": {
              "outlinewidth": 0,
              "ticks": ""
             }
            },
            "type": "scatterpolar"
           }
          ],
          "scatterpolargl": [
           {
            "marker": {
             "colorbar": {
              "outlinewidth": 0,
              "ticks": ""
             }
            },
            "type": "scatterpolargl"
           }
          ],
          "scatterternary": [
           {
            "marker": {
             "colorbar": {
              "outlinewidth": 0,
              "ticks": ""
             }
            },
            "type": "scatterternary"
           }
          ],
          "surface": [
           {
            "colorbar": {
             "outlinewidth": 0,
             "ticks": ""
            },
            "colorscale": [
             [
              0,
              "#0d0887"
             ],
             [
              0.1111111111111111,
              "#46039f"
             ],
             [
              0.2222222222222222,
              "#7201a8"
             ],
             [
              0.3333333333333333,
              "#9c179e"
             ],
             [
              0.4444444444444444,
              "#bd3786"
             ],
             [
              0.5555555555555556,
              "#d8576b"
             ],
             [
              0.6666666666666666,
              "#ed7953"
             ],
             [
              0.7777777777777778,
              "#fb9f3a"
             ],
             [
              0.8888888888888888,
              "#fdca26"
             ],
             [
              1,
              "#f0f921"
             ]
            ],
            "type": "surface"
           }
          ],
          "table": [
           {
            "cells": {
             "fill": {
              "color": "#EBF0F8"
             },
             "line": {
              "color": "white"
             }
            },
            "header": {
             "fill": {
              "color": "#C8D4E3"
             },
             "line": {
              "color": "white"
             }
            },
            "type": "table"
           }
          ]
         },
         "layout": {
          "annotationdefaults": {
           "arrowcolor": "#2a3f5f",
           "arrowhead": 0,
           "arrowwidth": 1
          },
          "autotypenumbers": "strict",
          "coloraxis": {
           "colorbar": {
            "outlinewidth": 0,
            "ticks": ""
           }
          },
          "colorscale": {
           "diverging": [
            [
             0,
             "#8e0152"
            ],
            [
             0.1,
             "#c51b7d"
            ],
            [
             0.2,
             "#de77ae"
            ],
            [
             0.3,
             "#f1b6da"
            ],
            [
             0.4,
             "#fde0ef"
            ],
            [
             0.5,
             "#f7f7f7"
            ],
            [
             0.6,
             "#e6f5d0"
            ],
            [
             0.7,
             "#b8e186"
            ],
            [
             0.8,
             "#7fbc41"
            ],
            [
             0.9,
             "#4d9221"
            ],
            [
             1,
             "#276419"
            ]
           ],
           "sequential": [
            [
             0,
             "#0d0887"
            ],
            [
             0.1111111111111111,
             "#46039f"
            ],
            [
             0.2222222222222222,
             "#7201a8"
            ],
            [
             0.3333333333333333,
             "#9c179e"
            ],
            [
             0.4444444444444444,
             "#bd3786"
            ],
            [
             0.5555555555555556,
             "#d8576b"
            ],
            [
             0.6666666666666666,
             "#ed7953"
            ],
            [
             0.7777777777777778,
             "#fb9f3a"
            ],
            [
             0.8888888888888888,
             "#fdca26"
            ],
            [
             1,
             "#f0f921"
            ]
           ],
           "sequentialminus": [
            [
             0,
             "#0d0887"
            ],
            [
             0.1111111111111111,
             "#46039f"
            ],
            [
             0.2222222222222222,
             "#7201a8"
            ],
            [
             0.3333333333333333,
             "#9c179e"
            ],
            [
             0.4444444444444444,
             "#bd3786"
            ],
            [
             0.5555555555555556,
             "#d8576b"
            ],
            [
             0.6666666666666666,
             "#ed7953"
            ],
            [
             0.7777777777777778,
             "#fb9f3a"
            ],
            [
             0.8888888888888888,
             "#fdca26"
            ],
            [
             1,
             "#f0f921"
            ]
           ]
          },
          "colorway": [
           "#636efa",
           "#EF553B",
           "#00cc96",
           "#ab63fa",
           "#FFA15A",
           "#19d3f3",
           "#FF6692",
           "#B6E880",
           "#FF97FF",
           "#FECB52"
          ],
          "font": {
           "color": "#2a3f5f"
          },
          "geo": {
           "bgcolor": "white",
           "lakecolor": "white",
           "landcolor": "#E5ECF6",
           "showlakes": true,
           "showland": true,
           "subunitcolor": "white"
          },
          "hoverlabel": {
           "align": "left"
          },
          "hovermode": "closest",
          "mapbox": {
           "style": "light"
          },
          "paper_bgcolor": "white",
          "plot_bgcolor": "#E5ECF6",
          "polar": {
           "angularaxis": {
            "gridcolor": "white",
            "linecolor": "white",
            "ticks": ""
           },
           "bgcolor": "#E5ECF6",
           "radialaxis": {
            "gridcolor": "white",
            "linecolor": "white",
            "ticks": ""
           }
          },
          "scene": {
           "xaxis": {
            "backgroundcolor": "#E5ECF6",
            "gridcolor": "white",
            "gridwidth": 2,
            "linecolor": "white",
            "showbackground": true,
            "ticks": "",
            "zerolinecolor": "white"
           },
           "yaxis": {
            "backgroundcolor": "#E5ECF6",
            "gridcolor": "white",
            "gridwidth": 2,
            "linecolor": "white",
            "showbackground": true,
            "ticks": "",
            "zerolinecolor": "white"
           },
           "zaxis": {
            "backgroundcolor": "#E5ECF6",
            "gridcolor": "white",
            "gridwidth": 2,
            "linecolor": "white",
            "showbackground": true,
            "ticks": "",
            "zerolinecolor": "white"
           }
          },
          "shapedefaults": {
           "line": {
            "color": "#2a3f5f"
           }
          },
          "ternary": {
           "aaxis": {
            "gridcolor": "white",
            "linecolor": "white",
            "ticks": ""
           },
           "baxis": {
            "gridcolor": "white",
            "linecolor": "white",
            "ticks": ""
           },
           "bgcolor": "#E5ECF6",
           "caxis": {
            "gridcolor": "white",
            "linecolor": "white",
            "ticks": ""
           }
          },
          "title": {
           "x": 0.05
          },
          "xaxis": {
           "automargin": true,
           "gridcolor": "white",
           "linecolor": "white",
           "ticks": "",
           "title": {
            "standoff": 15
           },
           "zerolinecolor": "white",
           "zerolinewidth": 2
          },
          "yaxis": {
           "automargin": true,
           "gridcolor": "white",
           "linecolor": "white",
           "ticks": "",
           "title": {
            "standoff": 15
           },
           "zerolinecolor": "white",
           "zerolinewidth": 2
          }
         }
        },
        "title": {
         "text": "Relationship between BMI and Age"
        },
        "xaxis": {
         "anchor": "y",
         "autorange": true,
         "domain": [
          0,
          1
         ],
         "range": [
          18.055647110525157,
          69.44435288947484
         ],
         "title": {
          "text": "Age"
         },
         "type": "linear"
        },
        "yaxis": {
         "anchor": "x",
         "autorange": true,
         "domain": [
          0,
          1
         ],
         "range": [
          15.555097087378641,
          52.89490291262136
         ],
         "title": {
          "text": "BMI"
         },
         "type": "linear"
        }
       }
      },
      "text/html": [
       "<div>                            <div id=\"988aff3c-2ee5-4a92-b4ea-132352efa5b2\" class=\"plotly-graph-div\" style=\"height:525px; width:100%;\"></div>            <script type=\"text/javascript\">                require([\"plotly\"], function(Plotly) {                    window.PLOTLYENV=window.PLOTLYENV || {};                                    if (document.getElementById(\"988aff3c-2ee5-4a92-b4ea-132352efa5b2\")) {                    Plotly.newPlot(                        \"988aff3c-2ee5-4a92-b4ea-132352efa5b2\",                        [{\"hovertemplate\":\"Age=%{x}\\u003cbr\\u003eBMI=%{y}\\u003cbr\\u003eOutcome=%{marker.color}\\u003cextra\\u003e\\u003c\\u002fextra\\u003e\",\"legendgroup\":\"\",\"marker\":{\"color\":[1,0,1,0,1,0,1,0,1,1,0,1,0,1,1,1,1,1,0,1,0,0,1,1,1,1,1,0,0,0,0,1,0,0,0,0,0,1,1,1,0,0,0,1,0,1,0,0,1,0,0,0,0,1,0,0,1,0,0,0,0,1,0,0,1,0,1,0,0,0,1,0,1,0,0,0,0,0,1,0,0,0,0,0,1,0,0,0,1,0,0,0,0,1,0,0,0,0,0,1,1,0,0,0,0,0,0,0,0,1,1,1,0,0,1,1,1,0,0,0,1,0,0,0,1,1,0,0,1,1,1,1,1,0,0,0,0,0,0,0,0,0,0,1,0,0,0,0,0,0,0,0,1,0,1,1,0,0,0,1,0,0,0,0,1,1,0,0,0,0,1,1,0,0,0,1,0,1,0,1,0,0,0,0,0,1,1,1,1,1,0,0,1,1,0,1,0,1,1,1,0,0,0,0,0,0,1,1,0,1,0,0,0,1,1,1,1,0,1,1,1,1,0,0,0,0,0,1,0,0,1,1,0,0,0,1,1,1,1,0,0,0,1,1,0,1,0,0,0,0,0,0,0,0,1,1,0,0,0,1,0,1,0,0,1,0,1,0,0,1,1,0,0,0,0,0,1,0,0,0,1,0,0,1,1,0,0,1,0,0,0,1,1,1,0,0,1,0,1,0,1,1,0,1,0,0,1,0,1,1,0,0,1,0,1,0,0,1,0,1,0,1,1,1,0,0,1,0,1,0,0,0,1,0,0,0,0,1,1,1,0,0,0,0,0,0,0,0,0,1,0,0,0,0,0,1,1,1,0,1,1,0,0,1,0,0,1,0,0,1,1,0,0,0,0,1,0,0,1,0,0,0,0,0,0,0,1,1,1,0,0,1,0,0,1,0,0,1,0,1,1,0,1,0,1,0,1,0,1,1,0,0,0,0,1,1,0,1,0,1,0,0,0,0,1,1,0,1,0,1,0,0,0,0,0,1,0,0,0,0,1,0,0,1,1,1,0,0,1,0,0,1,0,0,0,1,0,0,1,0,0,0,0,0,0,0,0,0,1,0,0,0,0,0,0,0,1,0,0,0,1,0,0,0,1,1,0,0,0,0,0,0,0,1,0,0,0,0,1,0,0,0,1,0,0,0,1,0,0,0,1,0,0,0,0,1,1,0,0,0,0,0,0,1,0,0,0,0,0,0,0,0,0,0,0,1,0,0,0,1,1,1,1,0,0,1,1,0,0,0,0,0,0,0,0,0,0,0,0,0,1,1,0,0,0,0,0,0,0,1,0,0,0,0,0,0,0,1,0,1,1,0,0,0,1,0,1,0,1,0,1,0,1,0,0,1,0,0,1,0,0,0,0,1,1,0,1,0,0,0,0,1,1,0,1,0,0,0,1,1,0,0,0,0,0,0,0,0,0,0,1,0,0,0,0,1,0,0,1,0,0,0,1,0,0,0,1,1,1,0,0,0,0,0,0,1,0,0,0,1,0,1,1,1,1,0,1,1,0,0,0,0,0,0,0,1,1,0,1,0,0,1,0,1,0,0,0,0,0,1,0,1,0,1,0,1,1,0,0,0,0,1,1,0,0,0,1,0,1,1,0,0,1,0,0,1,1,0,0,1,0,0,1,0,0,0,0,0,0,0,1,1,1,0,0,0,0,0,0,1,1,0,0,1,0,0,1,0,1,1,1,0,0,1,1,1,0,1,0,1,0,1,0,0,0,0,1,0],\"coloraxis\":\"coloraxis\",\"symbol\":\"circle\"},\"mode\":\"markers\",\"name\":\"\",\"orientation\":\"v\",\"showlegend\":false,\"x\":[50.0,31.0,32.0,21.0,33.0,30.0,26.0,29.0,53.0,54.0,30.0,34.0,57.0,59.0,51.0,32.0,31.0,31.0,33.0,32.0,27.0,50.0,41.0,29.0,51.0,41.0,43.0,22.0,57.0,38.0,60.0,28.0,22.0,28.0,45.0,33.0,35.0,46.0,27.0,56.0,26.0,37.0,48.0,54.0,40.0,25.0,29.0,22.0,31.0,24.0,22.0,26.0,30.0,58.0,42.0,21.0,41.0,31.0,44.0,22.0,21.0,39.0,36.0,24.0,42.0,32.0,38.0,54.0,25.0,27.0,28.0,26.0,42.0,23.0,22.0,22.0,41.0,27.0,26.0,24.0,22.0,22.0,36.0,22.0,37.0,27.0,45.0,26.0,43.0,24.0,21.0,34.0,42.0,60.0,21.0,40.0,24.0,22.0,23.0,31.0,33.0,22.0,21.0,24.0,27.0,21.0,27.0,37.0,25.0,24.0,24.0,46.0,23.0,25.0,39.0,61.0,38.0,25.0,22.0,21.0,25.0,24.0,23.0,66.5,23.0,26.0,30.0,23.0,40.0,62.0,33.0,33.0,30.0,39.0,26.0,31.0,21.0,22.0,29.0,28.0,55.0,38.0,22.0,42.0,23.0,21.0,41.0,34.0,65.0,22.0,24.0,37.0,42.0,23.0,43.0,36.0,21.0,23.0,22.0,47.0,36.0,45.0,27.0,21.0,32.0,41.0,22.0,34.0,29.0,29.0,36.0,29.0,25.0,23.0,33.0,36.0,42.0,26.0,47.0,37.0,32.0,23.0,21.0,27.0,40.0,41.0,60.0,33.0,31.0,25.0,21.0,40.0,36.0,40.0,42.0,29.0,21.0,23.0,26.0,29.0,21.0,28.0,32.0,27.0,55.0,27.0,57.0,52.0,21.0,41.0,25.0,24.0,60.0,24.0,36.0,38.0,25.0,32.0,32.0,41.0,21.0,66.0,37.0,61.0,26.0,22.0,26.0,24.0,31.0,24.0,22.0,46.0,22.0,29.0,23.0,26.0,51.0,23.0,32.0,27.0,21.0,22.0,22.0,33.0,29.0,49.0,41.0,23.0,34.0,23.0,42.0,27.0,24.0,25.0,44.0,21.0,30.0,25.0,24.0,51.0,34.0,27.0,24.0,63.0,35.0,43.0,25.0,24.0,21.0,28.0,38.0,21.0,40.0,21.0,52.0,25.0,29.0,23.0,57.0,22.0,28.0,39.0,37.0,47.0,52.0,51.0,34.0,29.0,26.0,33.0,21.0,25.0,31.0,24.0,65.0,28.0,29.0,24.0,46.0,58.0,30.0,25.0,35.0,28.0,37.0,29.0,47.0,21.0,25.0,30.0,41.0,22.0,27.0,25.0,43.0,26.0,30.0,29.0,28.0,59.0,31.0,25.0,36.0,43.0,21.0,24.0,30.0,37.0,23.0,37.0,46.0,25.0,41.0,44.0,22.0,26.0,44.0,44.0,33.0,41.0,22.0,36.0,22.0,33.0,57.0,49.0,22.0,23.0,26.0,37.0,29.0,30.0,46.0,24.0,21.0,49.0,28.0,44.0,48.0,29.0,29.0,63.0,65.0,66.5,30.0,30.0,29.0,21.0,22.0,45.0,25.0,21.0,21.0,25.0,28.0,58.0,22.0,22.0,32.0,35.0,24.0,22.0,21.0,25.0,25.0,24.0,35.0,45.0,58.0,28.0,42.0,27.0,21.0,37.0,31.0,25.0,39.0,22.0,25.0,25.0,31.0,55.0,35.0,38.0,41.0,26.0,46.0,25.0,39.0,28.0,28.0,25.0,22.0,21.0,21.0,22.0,22.0,37.0,27.0,28.0,26.0,21.0,21.0,21.0,36.0,31.0,25.0,38.0,26.0,43.0,23.0,38.0,22.0,29.0,36.0,29.0,41.0,28.0,21.0,31.0,41.0,22.0,24.0,33.0,30.0,25.0,28.0,26.0,22.0,26.0,23.0,23.0,25.0,66.5,24.0,38.0,62.0,24.0,51.0,66.5,48.0,26.0,39.0,37.0,34.0,21.0,22.0,25.0,38.0,27.0,28.0,22.0,22.0,50.0,24.0,59.0,29.0,31.0,39.0,63.0,35.0,29.0,28.0,23.0,31.0,24.0,21.0,58.0,28.0,66.5,24.0,42.0,33.0,45.0,22.0,66.0,30.0,25.0,55.0,39.0,21.0,28.0,41.0,41.0,40.0,38.0,35.0,21.0,21.0,64.0,46.0,21.0,58.0,22.0,24.0,28.0,53.0,51.0,41.0,60.0,25.0,26.0,26.0,45.0,24.0,21.0,21.0,24.0,22.0,31.0,22.0,24.0,29.0,31.0,24.0,23.0,46.0,66.5,23.0,32.0,43.0,27.0,56.0,25.0,29.0,37.0,53.0,28.0,50.0,37.0,21.0,25.0,66.0,23.0,28.0,37.0,30.0,58.0,42.0,35.0,54.0,28.0,24.0,32.0,27.0,22.0,21.0,46.0,37.0,33.0,39.0,21.0,22.0,22.0,23.0,25.0,35.0,21.0,36.0,62.0,21.0,27.0,62.0,42.0,52.0,22.0,41.0,29.0,52.0,25.0,45.0,24.0,44.0,25.0,34.0,22.0,46.0,21.0,38.0,26.0,24.0,28.0,30.0,54.0,36.0,21.0,22.0,25.0,27.0,23.0,24.0,36.0,40.0,26.0,50.0,27.0,30.0,23.0,50.0,24.0,28.0,28.0,45.0,21.0,21.0,29.0,21.0,21.0,45.0,21.0,34.0,24.0,23.0,22.0,31.0,38.0,48.0,23.0,32.0,28.0,27.0,24.0,50.0,31.0,27.0,30.0,33.0,22.0,42.0,23.0,23.0,27.0,28.0,27.0,22.0,25.0,22.0,41.0,51.0,27.0,54.0,22.0,43.0,40.0,40.0,24.0,66.5,40.0,43.0,45.0,49.0,21.0,47.0,22.0,66.5,31.0,53.0,25.0,25.0,23.0,22.0,26.0,22.0,27.0,66.5,25.0,22.0,29.0,23.0,46.0,34.0,44.0,23.0,43.0,25.0,43.0,31.0,22.0,28.0,26.0,26.0,49.0,52.0,41.0,27.0,28.0,30.0,22.0,45.0,23.0,24.0,40.0,38.0,21.0,32.0,34.0,31.0,56.0,24.0,52.0,34.0,21.0,42.0,42.0,45.0,38.0,25.0,22.0,22.0,22.0,34.0,22.0,24.0,22.0,53.0,28.0,21.0,42.0,21.0,42.0,48.0,26.0,22.0,45.0,39.0,46.0,27.0,32.0,36.0,50.0,22.0,28.0,25.0,26.0,45.0,37.0,39.0,52.0,26.0,66.0,22.0,43.0,33.0,63.0,27.0,30.0,47.0,23.0],\"xaxis\":\"x\",\"y\":[33.6,26.6,23.3,28.1,43.1,25.6,31.0,35.3,30.5,34.3,37.6,38.0,27.1,30.1,25.8,30.0,45.8,29.6,43.3,34.6,39.3,35.4,39.8,29.0,36.6,31.1,39.4,23.2,22.2,34.1,36.0,31.6,24.8,19.9,27.6,24.0,33.2,32.9,38.2,37.1,34.0,40.2,22.7,45.4,27.4,42.0,29.7,28.0,39.1,30.1,19.4,24.2,24.4,33.7,34.7,23.0,37.7,46.8,40.5,41.5,30.1,32.9,25.0,25.4,32.8,29.0,32.5,42.7,19.6,28.9,32.9,28.6,43.4,35.1,32.0,24.7,32.6,37.7,43.2,25.0,22.4,30.1,29.3,24.6,48.8,32.4,36.6,38.5,37.1,26.5,19.1,32.0,46.7,23.8,24.7,33.9,31.6,20.4,28.7,49.7,39.0,26.1,22.5,26.6,39.6,28.7,22.4,29.5,34.3,37.4,33.3,34.0,31.2,34.0,30.5,31.2,34.0,33.7,28.2,23.2,50.25,34.2,33.6,26.8,33.3,50.25,42.9,33.3,34.5,27.9,29.7,33.3,34.5,38.3,21.1,33.8,30.8,28.7,31.2,36.9,21.1,39.5,32.5,32.4,32.8,30.1,32.8,30.5,33.7,27.3,37.4,21.9,34.3,40.6,47.9,50.0,24.6,25.2,29.0,40.9,29.7,37.2,44.2,29.7,31.6,29.9,32.5,29.6,31.9,28.4,30.8,35.4,28.9,43.5,29.7,32.7,31.2,50.25,45.0,39.1,23.2,34.9,27.7,26.8,27.6,35.9,30.1,32.0,27.9,31.6,22.6,33.1,30.4,50.25,24.4,39.4,24.3,22.9,34.8,30.9,31.0,40.1,27.3,20.4,37.7,23.9,37.5,37.7,33.2,35.5,27.7,42.8,34.2,42.6,34.2,41.8,35.8,30.0,29.0,37.8,34.6,31.6,25.2,28.8,23.6,34.6,35.7,37.2,36.7,45.2,44.0,46.2,25.4,35.0,29.7,43.6,35.9,44.1,30.8,18.4,29.2,33.1,25.6,27.1,38.2,30.0,31.2,50.25,35.4,30.1,31.2,28.0,24.4,35.8,27.6,33.6,30.1,28.7,25.9,33.3,30.9,30.0,32.1,32.4,32.0,33.6,36.3,40.0,25.1,27.5,45.6,25.2,23.0,33.2,34.2,40.5,26.5,27.8,24.9,25.3,37.9,35.9,32.4,30.4,27.0,26.0,38.7,45.6,20.8,36.1,36.9,36.6,43.3,40.5,21.9,35.5,28.0,30.7,36.6,23.6,32.3,31.6,35.8,50.25,21.0,39.7,25.5,24.8,30.5,32.9,26.2,39.4,26.6,29.5,35.9,34.1,19.3,30.5,38.1,23.5,27.5,31.6,27.4,26.8,35.7,25.6,35.1,35.1,45.5,30.8,23.1,32.7,43.3,23.6,23.9,47.9,33.8,31.2,34.2,39.9,25.9,25.9,32.0,34.7,36.8,38.5,28.7,23.5,21.8,41.0,42.2,31.2,34.4,27.2,42.7,30.4,33.3,39.9,35.3,36.5,31.2,29.8,39.2,38.5,34.9,34.0,27.6,21.0,27.5,32.8,38.4,30.1,35.8,34.9,36.2,39.2,25.2,37.2,48.3,43.4,30.8,20.0,25.4,25.1,24.3,22.3,32.3,43.3,32.0,31.6,32.0,45.7,23.7,22.1,32.9,27.7,24.7,34.3,21.1,34.9,32.0,24.2,35.0,31.6,32.9,42.1,28.9,21.9,25.9,42.4,35.7,34.4,42.4,26.2,34.6,35.7,27.2,38.5,18.2,26.4,45.3,26.0,40.6,30.8,42.9,37.0,30.1,34.1,40.6,35.0,22.2,30.4,30.0,25.6,24.5,42.4,37.4,29.9,18.2,36.8,34.3,32.2,33.2,30.5,29.7,50.25,25.3,36.5,33.6,30.5,21.2,28.9,39.9,19.6,37.8,33.6,26.7,30.2,37.6,25.9,20.8,21.8,35.3,27.6,24.0,21.8,27.8,36.8,30.0,46.1,41.3,33.2,38.8,29.9,28.9,27.3,33.7,23.8,25.9,28.0,35.5,35.2,27.8,38.2,44.2,42.3,40.7,46.5,25.6,26.1,36.8,33.5,32.8,28.9,30.1,26.6,26.0,30.1,25.1,29.3,25.2,37.2,39.0,33.3,37.3,33.3,36.5,28.6,30.4,25.0,29.7,22.1,24.2,27.3,25.6,31.6,30.3,37.6,32.8,19.6,25.0,33.2,30.1,34.2,31.6,21.8,18.2,26.3,30.8,24.6,29.8,45.3,41.3,29.8,33.3,32.9,29.6,21.7,36.3,36.4,39.4,32.4,34.9,39.5,32.0,34.5,43.6,33.1,32.8,28.5,27.4,31.9,27.8,29.9,36.9,25.5,38.1,27.8,46.2,30.1,33.8,41.3,37.6,26.9,32.4,26.1,38.6,32.0,31.3,34.3,32.5,22.6,29.5,34.7,30.1,35.5,24.0,42.9,27.0,34.7,42.1,25.0,26.5,38.7,28.7,22.5,34.9,24.3,33.3,21.1,46.8,39.4,34.4,28.5,33.6,32.0,45.3,27.8,36.8,23.1,27.1,23.7,27.8,35.2,28.4,35.8,40.0,19.5,41.5,24.0,30.9,32.9,38.2,32.5,36.1,25.8,28.7,20.1,28.2,32.4,38.4,24.2,40.8,43.5,30.8,37.7,24.7,32.4,34.6,24.7,27.4,34.5,26.2,27.5,25.9,31.2,28.8,31.6,40.9,19.5,29.3,34.3,29.5,28.0,27.6,39.4,23.4,37.8,28.3,26.4,25.2,33.8,34.1,26.8,34.2,38.7,21.8,38.9,39.0,34.2,27.7,42.9,37.6,37.9,33.7,34.8,32.5,27.5,34.0,30.9,33.6,25.4,35.5,50.25,35.6,30.9,24.8,35.3,36.0,24.2,24.2,49.6,44.6,32.3,30.1,33.2,23.1,28.3,24.1,46.1,24.6,42.3,39.1,38.5,23.5,30.4,29.9,25.0,34.5,44.5,35.9,27.6,35.0,38.5,28.4,39.8,34.3,34.4,32.8,38.0,31.2,29.6,41.2,26.4,29.5,33.9,33.8,23.1,35.5,35.6,29.3,38.1,29.3,39.1,32.8,39.4,36.1,32.4,22.9,30.1,28.4,28.4,44.5,29.0,23.3,35.4,27.4,32.0,36.6,39.5,42.3,30.8,28.5,32.7,40.6,30.0,49.3,46.3,36.4,24.3,31.2,39.0,26.0,43.3,32.4,36.5,32.0,36.3,37.5,35.5,28.4,44.0,22.5,32.9,36.8,26.2,30.1,30.4],\"yaxis\":\"y\",\"type\":\"scatter\"}],                        {\"template\":{\"data\":{\"histogram2dcontour\":[{\"type\":\"histogram2dcontour\",\"colorbar\":{\"outlinewidth\":0,\"ticks\":\"\"},\"colorscale\":[[0.0,\"#0d0887\"],[0.1111111111111111,\"#46039f\"],[0.2222222222222222,\"#7201a8\"],[0.3333333333333333,\"#9c179e\"],[0.4444444444444444,\"#bd3786\"],[0.5555555555555556,\"#d8576b\"],[0.6666666666666666,\"#ed7953\"],[0.7777777777777778,\"#fb9f3a\"],[0.8888888888888888,\"#fdca26\"],[1.0,\"#f0f921\"]]}],\"choropleth\":[{\"type\":\"choropleth\",\"colorbar\":{\"outlinewidth\":0,\"ticks\":\"\"}}],\"histogram2d\":[{\"type\":\"histogram2d\",\"colorbar\":{\"outlinewidth\":0,\"ticks\":\"\"},\"colorscale\":[[0.0,\"#0d0887\"],[0.1111111111111111,\"#46039f\"],[0.2222222222222222,\"#7201a8\"],[0.3333333333333333,\"#9c179e\"],[0.4444444444444444,\"#bd3786\"],[0.5555555555555556,\"#d8576b\"],[0.6666666666666666,\"#ed7953\"],[0.7777777777777778,\"#fb9f3a\"],[0.8888888888888888,\"#fdca26\"],[1.0,\"#f0f921\"]]}],\"heatmap\":[{\"type\":\"heatmap\",\"colorbar\":{\"outlinewidth\":0,\"ticks\":\"\"},\"colorscale\":[[0.0,\"#0d0887\"],[0.1111111111111111,\"#46039f\"],[0.2222222222222222,\"#7201a8\"],[0.3333333333333333,\"#9c179e\"],[0.4444444444444444,\"#bd3786\"],[0.5555555555555556,\"#d8576b\"],[0.6666666666666666,\"#ed7953\"],[0.7777777777777778,\"#fb9f3a\"],[0.8888888888888888,\"#fdca26\"],[1.0,\"#f0f921\"]]}],\"heatmapgl\":[{\"type\":\"heatmapgl\",\"colorbar\":{\"outlinewidth\":0,\"ticks\":\"\"},\"colorscale\":[[0.0,\"#0d0887\"],[0.1111111111111111,\"#46039f\"],[0.2222222222222222,\"#7201a8\"],[0.3333333333333333,\"#9c179e\"],[0.4444444444444444,\"#bd3786\"],[0.5555555555555556,\"#d8576b\"],[0.6666666666666666,\"#ed7953\"],[0.7777777777777778,\"#fb9f3a\"],[0.8888888888888888,\"#fdca26\"],[1.0,\"#f0f921\"]]}],\"contourcarpet\":[{\"type\":\"contourcarpet\",\"colorbar\":{\"outlinewidth\":0,\"ticks\":\"\"}}],\"contour\":[{\"type\":\"contour\",\"colorbar\":{\"outlinewidth\":0,\"ticks\":\"\"},\"colorscale\":[[0.0,\"#0d0887\"],[0.1111111111111111,\"#46039f\"],[0.2222222222222222,\"#7201a8\"],[0.3333333333333333,\"#9c179e\"],[0.4444444444444444,\"#bd3786\"],[0.5555555555555556,\"#d8576b\"],[0.6666666666666666,\"#ed7953\"],[0.7777777777777778,\"#fb9f3a\"],[0.8888888888888888,\"#fdca26\"],[1.0,\"#f0f921\"]]}],\"surface\":[{\"type\":\"surface\",\"colorbar\":{\"outlinewidth\":0,\"ticks\":\"\"},\"colorscale\":[[0.0,\"#0d0887\"],[0.1111111111111111,\"#46039f\"],[0.2222222222222222,\"#7201a8\"],[0.3333333333333333,\"#9c179e\"],[0.4444444444444444,\"#bd3786\"],[0.5555555555555556,\"#d8576b\"],[0.6666666666666666,\"#ed7953\"],[0.7777777777777778,\"#fb9f3a\"],[0.8888888888888888,\"#fdca26\"],[1.0,\"#f0f921\"]]}],\"mesh3d\":[{\"type\":\"mesh3d\",\"colorbar\":{\"outlinewidth\":0,\"ticks\":\"\"}}],\"scatter\":[{\"fillpattern\":{\"fillmode\":\"overlay\",\"size\":10,\"solidity\":0.2},\"type\":\"scatter\"}],\"parcoords\":[{\"type\":\"parcoords\",\"line\":{\"colorbar\":{\"outlinewidth\":0,\"ticks\":\"\"}}}],\"scatterpolargl\":[{\"type\":\"scatterpolargl\",\"marker\":{\"colorbar\":{\"outlinewidth\":0,\"ticks\":\"\"}}}],\"bar\":[{\"error_x\":{\"color\":\"#2a3f5f\"},\"error_y\":{\"color\":\"#2a3f5f\"},\"marker\":{\"line\":{\"color\":\"#E5ECF6\",\"width\":0.5},\"pattern\":{\"fillmode\":\"overlay\",\"size\":10,\"solidity\":0.2}},\"type\":\"bar\"}],\"scattergeo\":[{\"type\":\"scattergeo\",\"marker\":{\"colorbar\":{\"outlinewidth\":0,\"ticks\":\"\"}}}],\"scatterpolar\":[{\"type\":\"scatterpolar\",\"marker\":{\"colorbar\":{\"outlinewidth\":0,\"ticks\":\"\"}}}],\"histogram\":[{\"marker\":{\"pattern\":{\"fillmode\":\"overlay\",\"size\":10,\"solidity\":0.2}},\"type\":\"histogram\"}],\"scattergl\":[{\"type\":\"scattergl\",\"marker\":{\"colorbar\":{\"outlinewidth\":0,\"ticks\":\"\"}}}],\"scatter3d\":[{\"type\":\"scatter3d\",\"line\":{\"colorbar\":{\"outlinewidth\":0,\"ticks\":\"\"}},\"marker\":{\"colorbar\":{\"outlinewidth\":0,\"ticks\":\"\"}}}],\"scattermapbox\":[{\"type\":\"scattermapbox\",\"marker\":{\"colorbar\":{\"outlinewidth\":0,\"ticks\":\"\"}}}],\"scatterternary\":[{\"type\":\"scatterternary\",\"marker\":{\"colorbar\":{\"outlinewidth\":0,\"ticks\":\"\"}}}],\"scattercarpet\":[{\"type\":\"scattercarpet\",\"marker\":{\"colorbar\":{\"outlinewidth\":0,\"ticks\":\"\"}}}],\"carpet\":[{\"aaxis\":{\"endlinecolor\":\"#2a3f5f\",\"gridcolor\":\"white\",\"linecolor\":\"white\",\"minorgridcolor\":\"white\",\"startlinecolor\":\"#2a3f5f\"},\"baxis\":{\"endlinecolor\":\"#2a3f5f\",\"gridcolor\":\"white\",\"linecolor\":\"white\",\"minorgridcolor\":\"white\",\"startlinecolor\":\"#2a3f5f\"},\"type\":\"carpet\"}],\"table\":[{\"cells\":{\"fill\":{\"color\":\"#EBF0F8\"},\"line\":{\"color\":\"white\"}},\"header\":{\"fill\":{\"color\":\"#C8D4E3\"},\"line\":{\"color\":\"white\"}},\"type\":\"table\"}],\"barpolar\":[{\"marker\":{\"line\":{\"color\":\"#E5ECF6\",\"width\":0.5},\"pattern\":{\"fillmode\":\"overlay\",\"size\":10,\"solidity\":0.2}},\"type\":\"barpolar\"}],\"pie\":[{\"automargin\":true,\"type\":\"pie\"}]},\"layout\":{\"autotypenumbers\":\"strict\",\"colorway\":[\"#636efa\",\"#EF553B\",\"#00cc96\",\"#ab63fa\",\"#FFA15A\",\"#19d3f3\",\"#FF6692\",\"#B6E880\",\"#FF97FF\",\"#FECB52\"],\"font\":{\"color\":\"#2a3f5f\"},\"hovermode\":\"closest\",\"hoverlabel\":{\"align\":\"left\"},\"paper_bgcolor\":\"white\",\"plot_bgcolor\":\"#E5ECF6\",\"polar\":{\"bgcolor\":\"#E5ECF6\",\"angularaxis\":{\"gridcolor\":\"white\",\"linecolor\":\"white\",\"ticks\":\"\"},\"radialaxis\":{\"gridcolor\":\"white\",\"linecolor\":\"white\",\"ticks\":\"\"}},\"ternary\":{\"bgcolor\":\"#E5ECF6\",\"aaxis\":{\"gridcolor\":\"white\",\"linecolor\":\"white\",\"ticks\":\"\"},\"baxis\":{\"gridcolor\":\"white\",\"linecolor\":\"white\",\"ticks\":\"\"},\"caxis\":{\"gridcolor\":\"white\",\"linecolor\":\"white\",\"ticks\":\"\"}},\"coloraxis\":{\"colorbar\":{\"outlinewidth\":0,\"ticks\":\"\"}},\"colorscale\":{\"sequential\":[[0.0,\"#0d0887\"],[0.1111111111111111,\"#46039f\"],[0.2222222222222222,\"#7201a8\"],[0.3333333333333333,\"#9c179e\"],[0.4444444444444444,\"#bd3786\"],[0.5555555555555556,\"#d8576b\"],[0.6666666666666666,\"#ed7953\"],[0.7777777777777778,\"#fb9f3a\"],[0.8888888888888888,\"#fdca26\"],[1.0,\"#f0f921\"]],\"sequentialminus\":[[0.0,\"#0d0887\"],[0.1111111111111111,\"#46039f\"],[0.2222222222222222,\"#7201a8\"],[0.3333333333333333,\"#9c179e\"],[0.4444444444444444,\"#bd3786\"],[0.5555555555555556,\"#d8576b\"],[0.6666666666666666,\"#ed7953\"],[0.7777777777777778,\"#fb9f3a\"],[0.8888888888888888,\"#fdca26\"],[1.0,\"#f0f921\"]],\"diverging\":[[0,\"#8e0152\"],[0.1,\"#c51b7d\"],[0.2,\"#de77ae\"],[0.3,\"#f1b6da\"],[0.4,\"#fde0ef\"],[0.5,\"#f7f7f7\"],[0.6,\"#e6f5d0\"],[0.7,\"#b8e186\"],[0.8,\"#7fbc41\"],[0.9,\"#4d9221\"],[1,\"#276419\"]]},\"xaxis\":{\"gridcolor\":\"white\",\"linecolor\":\"white\",\"ticks\":\"\",\"title\":{\"standoff\":15},\"zerolinecolor\":\"white\",\"automargin\":true,\"zerolinewidth\":2},\"yaxis\":{\"gridcolor\":\"white\",\"linecolor\":\"white\",\"ticks\":\"\",\"title\":{\"standoff\":15},\"zerolinecolor\":\"white\",\"automargin\":true,\"zerolinewidth\":2},\"scene\":{\"xaxis\":{\"backgroundcolor\":\"#E5ECF6\",\"gridcolor\":\"white\",\"linecolor\":\"white\",\"showbackground\":true,\"ticks\":\"\",\"zerolinecolor\":\"white\",\"gridwidth\":2},\"yaxis\":{\"backgroundcolor\":\"#E5ECF6\",\"gridcolor\":\"white\",\"linecolor\":\"white\",\"showbackground\":true,\"ticks\":\"\",\"zerolinecolor\":\"white\",\"gridwidth\":2},\"zaxis\":{\"backgroundcolor\":\"#E5ECF6\",\"gridcolor\":\"white\",\"linecolor\":\"white\",\"showbackground\":true,\"ticks\":\"\",\"zerolinecolor\":\"white\",\"gridwidth\":2}},\"shapedefaults\":{\"line\":{\"color\":\"#2a3f5f\"}},\"annotationdefaults\":{\"arrowcolor\":\"#2a3f5f\",\"arrowhead\":0,\"arrowwidth\":1},\"geo\":{\"bgcolor\":\"white\",\"landcolor\":\"#E5ECF6\",\"subunitcolor\":\"white\",\"showland\":true,\"showlakes\":true,\"lakecolor\":\"white\"},\"title\":{\"x\":0.05},\"mapbox\":{\"style\":\"light\"}}},\"xaxis\":{\"anchor\":\"y\",\"domain\":[0.0,1.0],\"title\":{\"text\":\"Age\"}},\"yaxis\":{\"anchor\":\"x\",\"domain\":[0.0,1.0],\"title\":{\"text\":\"BMI\"}},\"coloraxis\":{\"colorbar\":{\"title\":{\"text\":\"Outcome\"}},\"colorscale\":[[0.0,\"#0d0887\"],[0.1111111111111111,\"#46039f\"],[0.2222222222222222,\"#7201a8\"],[0.3333333333333333,\"#9c179e\"],[0.4444444444444444,\"#bd3786\"],[0.5555555555555556,\"#d8576b\"],[0.6666666666666666,\"#ed7953\"],[0.7777777777777778,\"#fb9f3a\"],[0.8888888888888888,\"#fdca26\"],[1.0,\"#f0f921\"]]},\"legend\":{\"tracegroupgap\":0},\"title\":{\"text\":\"Relationship between BMI and Age\"}},                        {\"responsive\": true}                    ).then(function(){\n",
       "                            \n",
       "var gd = document.getElementById('988aff3c-2ee5-4a92-b4ea-132352efa5b2');\n",
       "var x = new MutationObserver(function (mutations, observer) {{\n",
       "        var display = window.getComputedStyle(gd).display;\n",
       "        if (!display || display === 'none') {{\n",
       "            console.log([gd, 'removed!']);\n",
       "            Plotly.purge(gd);\n",
       "            observer.disconnect();\n",
       "        }}\n",
       "}});\n",
       "\n",
       "// Listen for the removal of the full notebook cells\n",
       "var notebookContainer = gd.closest('#notebook-container');\n",
       "if (notebookContainer) {{\n",
       "    x.observe(notebookContainer, {childList: true});\n",
       "}}\n",
       "\n",
       "// Listen for the clearing of the current output cell\n",
       "var outputEl = gd.closest('.output');\n",
       "if (outputEl) {{\n",
       "    x.observe(outputEl, {childList: true});\n",
       "}}\n",
       "\n",
       "                        })                };                });            </script>        </div>"
      ]
     },
     "metadata": {},
     "output_type": "display_data"
    }
   ],
   "source": [
    "fig2 = px.scatter(df, x='Age', y='BMI',color='Outcome', title='Relationship between BMI and Age')\n",
    "fig2.show()"
   ]
  },
  {
   "cell_type": "markdown",
   "id": "7524285a-e853-4dbc-9872-ec73d15e3886",
   "metadata": {},
   "source": [
    "This plot suggests that higher BMI values, especially in middle-aged individuals, are associated with a positive outcome\n",
    "\n",
    "Higher BMI levels, particularly among individuals aged 30-60, tend to show more positive outcomes (yellow points), which might indicate a correlation between higher BMI and the outcome.\n",
    "\n",
    "For younger individuals (below 30), there is a concentration of negative outcomes (dark blue points) even at higher BMI levels"
   ]
  },
  {
   "cell_type": "markdown",
   "id": "f5ae125a-d15d-4589-b559-b464ec82f89b",
   "metadata": {},
   "source": [
    "# Relation between BMI vs Glucose by Outcome Using Facet Grid"
   ]
  },
  {
   "cell_type": "code",
   "execution_count": 67,
   "id": "55cdc00d-8867-480e-8b8f-0e9024c88fae",
   "metadata": {},
   "outputs": [
    {
     "data": {
      "application/vnd.plotly.v1+json": {
       "config": {
        "plotlyServerURL": "https://plot.ly"
       },
       "data": [
        {
         "hovertemplate": "Outcome=%{marker.color}<br>Glucose=%{x}<br>BMI=%{y}<extra></extra>",
         "legendgroup": "",
         "marker": {
          "color": [
           1,
           1,
           1,
           1,
           1,
           1,
           1,
           1,
           1,
           1,
           1,
           1,
           1,
           1,
           1,
           1,
           1,
           1,
           1,
           1,
           1,
           1,
           1,
           1,
           1,
           1,
           1,
           1,
           1,
           1,
           1,
           1,
           1,
           1,
           1,
           1,
           1,
           1,
           1,
           1,
           1,
           1,
           1,
           1,
           1,
           1,
           1,
           1,
           1,
           1,
           1,
           1,
           1,
           1,
           1,
           1,
           1,
           1,
           1,
           1,
           1,
           1,
           1,
           1,
           1,
           1,
           1,
           1,
           1,
           1,
           1,
           1,
           1,
           1,
           1,
           1,
           1,
           1,
           1,
           1,
           1,
           1,
           1,
           1,
           1,
           1,
           1,
           1,
           1,
           1,
           1,
           1,
           1,
           1,
           1,
           1,
           1,
           1,
           1,
           1,
           1,
           1,
           1,
           1,
           1,
           1,
           1,
           1,
           1,
           1,
           1,
           1,
           1,
           1,
           1,
           1,
           1,
           1,
           1,
           1,
           1,
           1,
           1,
           1,
           1,
           1,
           1,
           1,
           1,
           1,
           1,
           1,
           1,
           1,
           1,
           1,
           1,
           1,
           1,
           1,
           1,
           1,
           1,
           1,
           1,
           1,
           1,
           1,
           1,
           1,
           1,
           1,
           1,
           1,
           1,
           1,
           1,
           1,
           1,
           1,
           1,
           1,
           1,
           1,
           1,
           1,
           1,
           1,
           1,
           1,
           1,
           1,
           1,
           1,
           1,
           1,
           1,
           1,
           1,
           1,
           1,
           1,
           1,
           1,
           1,
           1,
           1,
           1,
           1,
           1,
           1,
           1,
           1,
           1,
           1,
           1,
           1,
           1,
           1,
           1,
           1,
           1,
           1,
           1,
           1,
           1,
           1,
           1,
           1,
           1,
           1,
           1,
           1,
           1,
           1,
           1,
           1,
           1,
           1,
           1,
           1,
           1,
           1,
           1,
           1,
           1,
           1,
           1,
           1,
           1,
           1,
           1,
           1,
           1,
           1,
           1,
           1,
           1,
           1,
           1,
           1,
           1,
           1,
           1,
           1,
           1,
           1,
           1,
           1,
           1,
           1,
           1,
           1,
           1,
           1,
           1,
           1,
           1,
           1,
           1,
           1,
           1,
           1,
           1,
           1,
           1,
           1,
           1
          ],
          "coloraxis": "coloraxis",
          "symbol": "circle"
         },
         "mode": "markers",
         "name": "",
         "orientation": "v",
         "showlegend": false,
         "type": "scatter",
         "x": [
          148,
          183,
          137,
          78,
          197,
          125,
          168,
          189,
          166,
          100,
          118,
          107,
          115,
          196,
          119,
          143,
          125,
          147,
          158,
          102,
          90,
          111,
          171,
          180,
          103,
          176,
          187,
          133,
          114,
          109,
          100,
          126,
          131,
          137,
          136,
          134,
          122,
          163,
          95,
          171,
          155,
          160,
          146,
          124,
          162,
          113,
          88,
          117,
          105,
          173,
          122,
          170,
          108,
          156,
          188,
          152,
          163,
          131,
          104,
          102,
          134,
          179,
          129,
          130,
          194,
          181,
          128,
          109,
          139,
          159,
          135,
          158,
          107,
          109,
          148,
          196,
          162,
          184,
          140,
          112,
          151,
          109,
          85,
          112,
          177,
          158,
          162,
          142,
          134,
          171,
          181,
          179,
          164,
          139,
          119,
          184,
          92,
          113,
          155,
          141,
          123,
          138,
          146,
          101,
          106,
          146,
          161,
          108,
          119,
          107,
          128,
          128,
          146,
          100,
          167,
          144,
          115,
          161,
          128,
          124,
          155,
          109,
          182,
          194,
          112,
          124,
          152,
          122,
          102,
          180,
          115,
          152,
          178,
          140,
          165,
          125,
          129,
          196,
          189,
          146,
          124,
          133,
          173,
          140,
          156,
          116,
          105,
          144,
          166,
          158,
          131,
          193,
          95,
          136,
          168,
          115,
          197,
          172,
          138,
          173,
          144,
          129,
          151,
          184,
          181,
          95,
          141,
          189,
          108,
          117,
          180,
          104,
          134,
          175,
          148,
          120,
          105,
          158,
          145,
          135,
          125,
          195,
          140,
          180,
          84,
          163,
          145,
          130,
          132,
          129,
          100,
          128,
          90,
          186,
          187,
          125,
          198,
          121,
          118,
          197,
          151,
          124,
          143,
          176,
          111,
          132,
          188,
          173,
          150,
          183,
          181,
          174,
          168,
          138,
          112,
          119,
          114,
          104,
          97,
          147,
          167,
          179,
          136,
          155,
          80,
          199,
          167,
          145,
          115,
          145,
          111,
          195,
          156,
          121,
          162,
          125,
          144,
          158,
          129,
          142,
          169,
          125,
          168,
          115,
          164,
          93,
          129,
          187,
          173,
          97,
          149,
          130,
          120,
          174,
          102,
          120,
          140,
          147,
          187,
          162,
          136,
          181,
          154,
          128,
          123,
          190,
          170,
          126
         ],
         "xaxis": "x",
         "y": [
          33.6,
          23.3,
          43.1,
          31,
          30.5,
          34.3,
          38,
          30.1,
          25.8,
          30,
          45.8,
          29.6,
          34.6,
          39.8,
          29,
          36.6,
          31.1,
          39.4,
          31.6,
          32.9,
          38.2,
          37.1,
          45.4,
          42,
          39.1,
          33.7,
          37.7,
          32.9,
          32.8,
          32.5,
          32.9,
          43.4,
          43.2,
          48.8,
          37.1,
          23.8,
          49.7,
          39,
          37.4,
          33.3,
          34,
          30.5,
          31.2,
          34,
          50.25,
          33.3,
          50.25,
          34.5,
          27.9,
          29.7,
          33.3,
          34.5,
          32.4,
          34.3,
          47.9,
          50,
          40.9,
          31.6,
          29.9,
          30.8,
          35.4,
          32.7,
          50.25,
          39.1,
          35.9,
          30.1,
          32,
          27.9,
          31.6,
          30.4,
          50.25,
          39.4,
          22.9,
          34.8,
          30.9,
          37.5,
          37.7,
          35.5,
          42.6,
          34.2,
          41.8,
          35.8,
          29,
          37.8,
          34.6,
          31.6,
          37.2,
          44,
          46.2,
          43.6,
          35.9,
          44.1,
          30.8,
          25.6,
          27.1,
          30,
          27.6,
          33.6,
          33.3,
          30,
          32,
          36.3,
          27.5,
          45.6,
          26.5,
          37.9,
          30.4,
          27,
          45.6,
          36.6,
          43.3,
          40.5,
          28,
          36.6,
          32.3,
          31.6,
          50.25,
          25.5,
          30.5,
          32.9,
          26.6,
          35.9,
          30.5,
          23.5,
          31.6,
          27.4,
          26.8,
          35.1,
          45.5,
          43.3,
          31.2,
          34.2,
          39.9,
          41,
          30.4,
          33.3,
          39.9,
          36.5,
          31.2,
          38.5,
          27.6,
          32.8,
          38.4,
          39.2,
          48.3,
          32.3,
          43.3,
          32,
          45.7,
          32.9,
          34.3,
          34.9,
          32,
          35,
          32.9,
          28.9,
          25.9,
          42.4,
          34.6,
          35.7,
          38.5,
          26.4,
          42.9,
          37,
          34.1,
          35,
          42.4,
          34.3,
          30.5,
          29.7,
          50.25,
          33.6,
          28.9,
          33.6,
          37.6,
          30,
          33.7,
          35.5,
          44.2,
          42.3,
          28.9,
          25.1,
          39,
          36.5,
          29.7,
          31.6,
          30.3,
          34.2,
          32.9,
          36.4,
          39.4,
          32.4,
          34.9,
          34.5,
          43.6,
          33.8,
          41.3,
          34.3,
          42.9,
          34.7,
          42.1,
          28.7,
          34.9,
          33.3,
          46.8,
          34.4,
          32,
          36.8,
          35.2,
          28.4,
          40,
          32.9,
          38.2,
          36.1,
          28.2,
          32.4,
          27.4,
          31.2,
          40.9,
          29.5,
          23.4,
          37.8,
          28.3,
          38.7,
          34.2,
          42.9,
          37.6,
          37.9,
          33.7,
          32.5,
          27.5,
          30.9,
          24.8,
          36,
          49.6,
          32.3,
          46.1,
          42.3,
          38.5,
          30.4,
          29.9,
          27.6,
          35,
          34.3,
          32.8,
          38,
          41.2,
          33.9,
          33.8,
          35.6,
          29.3,
          28.4,
          28.4,
          44.5,
          39.5,
          42.3,
          32.7,
          49.3,
          36.4,
          24.3,
          31.2,
          43.3,
          32.4,
          36.5,
          36.3,
          35.5,
          44,
          30.1
         ],
         "yaxis": "y"
        },
        {
         "hovertemplate": "Outcome=%{marker.color}<br>Glucose=%{x}<br>BMI=%{y}<extra></extra>",
         "legendgroup": "",
         "marker": {
          "color": [
           0,
           0,
           0,
           0,
           0,
           0,
           0,
           0,
           0,
           0,
           0,
           0,
           0,
           0,
           0,
           0,
           0,
           0,
           0,
           0,
           0,
           0,
           0,
           0,
           0,
           0,
           0,
           0,
           0,
           0,
           0,
           0,
           0,
           0,
           0,
           0,
           0,
           0,
           0,
           0,
           0,
           0,
           0,
           0,
           0,
           0,
           0,
           0,
           0,
           0,
           0,
           0,
           0,
           0,
           0,
           0,
           0,
           0,
           0,
           0,
           0,
           0,
           0,
           0,
           0,
           0,
           0,
           0,
           0,
           0,
           0,
           0,
           0,
           0,
           0,
           0,
           0,
           0,
           0,
           0,
           0,
           0,
           0,
           0,
           0,
           0,
           0,
           0,
           0,
           0,
           0,
           0,
           0,
           0,
           0,
           0,
           0,
           0,
           0,
           0,
           0,
           0,
           0,
           0,
           0,
           0,
           0,
           0,
           0,
           0,
           0,
           0,
           0,
           0,
           0,
           0,
           0,
           0,
           0,
           0,
           0,
           0,
           0,
           0,
           0,
           0,
           0,
           0,
           0,
           0,
           0,
           0,
           0,
           0,
           0,
           0,
           0,
           0,
           0,
           0,
           0,
           0,
           0,
           0,
           0,
           0,
           0,
           0,
           0,
           0,
           0,
           0,
           0,
           0,
           0,
           0,
           0,
           0,
           0,
           0,
           0,
           0,
           0,
           0,
           0,
           0,
           0,
           0,
           0,
           0,
           0,
           0,
           0,
           0,
           0,
           0,
           0,
           0,
           0,
           0,
           0,
           0,
           0,
           0,
           0,
           0,
           0,
           0,
           0,
           0,
           0,
           0,
           0,
           0,
           0,
           0,
           0,
           0,
           0,
           0,
           0,
           0,
           0,
           0,
           0,
           0,
           0,
           0,
           0,
           0,
           0,
           0,
           0,
           0,
           0,
           0,
           0,
           0,
           0,
           0,
           0,
           0,
           0,
           0,
           0,
           0,
           0,
           0,
           0,
           0,
           0,
           0,
           0,
           0,
           0,
           0,
           0,
           0,
           0,
           0,
           0,
           0,
           0,
           0,
           0,
           0,
           0,
           0,
           0,
           0,
           0,
           0,
           0,
           0,
           0,
           0,
           0,
           0,
           0,
           0,
           0,
           0,
           0,
           0,
           0,
           0,
           0,
           0,
           0,
           0,
           0,
           0,
           0,
           0,
           0,
           0,
           0,
           0,
           0,
           0,
           0,
           0,
           0,
           0,
           0,
           0,
           0,
           0,
           0,
           0,
           0,
           0,
           0,
           0,
           0,
           0,
           0,
           0,
           0,
           0,
           0,
           0,
           0,
           0,
           0,
           0,
           0,
           0,
           0,
           0,
           0,
           0,
           0,
           0,
           0,
           0,
           0,
           0,
           0,
           0,
           0,
           0,
           0,
           0,
           0,
           0,
           0,
           0,
           0,
           0,
           0,
           0,
           0,
           0,
           0,
           0,
           0,
           0,
           0,
           0,
           0,
           0,
           0,
           0,
           0,
           0,
           0,
           0,
           0,
           0,
           0,
           0,
           0,
           0,
           0,
           0,
           0,
           0,
           0,
           0,
           0,
           0,
           0,
           0,
           0,
           0,
           0,
           0,
           0,
           0,
           0,
           0,
           0,
           0,
           0,
           0,
           0,
           0,
           0,
           0,
           0,
           0,
           0,
           0,
           0,
           0,
           0,
           0,
           0,
           0,
           0,
           0,
           0,
           0,
           0,
           0,
           0,
           0,
           0,
           0,
           0,
           0,
           0,
           0,
           0,
           0,
           0,
           0,
           0,
           0,
           0,
           0,
           0,
           0,
           0,
           0,
           0,
           0,
           0,
           0,
           0,
           0,
           0,
           0,
           0,
           0,
           0,
           0,
           0,
           0,
           0,
           0,
           0,
           0,
           0,
           0,
           0,
           0,
           0,
           0,
           0,
           0,
           0,
           0,
           0,
           0,
           0,
           0,
           0,
           0,
           0,
           0,
           0,
           0,
           0,
           0,
           0,
           0,
           0,
           0,
           0,
           0,
           0,
           0,
           0,
           0,
           0,
           0,
           0,
           0,
           0,
           0,
           0,
           0,
           0,
           0,
           0,
           0,
           0,
           0,
           0,
           0,
           0,
           0,
           0,
           0,
           0,
           0,
           0,
           0,
           0,
           0,
           0,
           0,
           0,
           0,
           0,
           0,
           0,
           0
          ],
          "coloraxis": "coloraxis",
          "symbol": "circle"
         },
         "mode": "markers",
         "name": "",
         "orientation": "v",
         "showlegend": false,
         "type": "scatter",
         "x": [
          85,
          89,
          116,
          115,
          110,
          139,
          103,
          126,
          99,
          97,
          145,
          117,
          109,
          88,
          92,
          122,
          103,
          138,
          180,
          133,
          106,
          159,
          146,
          71,
          105,
          103,
          101,
          88,
          150,
          73,
          100,
          146,
          105,
          84,
          44,
          141,
          99,
          109,
          95,
          146,
          139,
          129,
          79,
          107,
          62,
          95,
          112,
          113,
          74,
          83,
          101,
          110,
          106,
          100,
          107,
          80,
          123,
          81,
          142,
          144,
          92,
          71,
          93,
          151,
          125,
          81,
          85,
          126,
          96,
          144,
          83,
          89,
          76,
          78,
          97,
          99,
          111,
          107,
          132,
          120,
          118,
          84,
          96,
          125,
          100,
          93,
          129,
          105,
          128,
          106,
          108,
          154,
          102,
          57,
          106,
          147,
          90,
          136,
          114,
          153,
          99,
          109,
          88,
          151,
          102,
          114,
          100,
          148,
          120,
          110,
          111,
          87,
          79,
          75,
          85,
          143,
          87,
          119,
          107,
          73,
          141,
          111,
          123,
          85,
          105,
          113,
          138,
          108,
          99,
          103,
          111,
          96,
          81,
          147,
          179,
          125,
          119,
          142,
          100,
          87,
          101,
          197,
          117,
          79,
          122,
          74,
          104,
          91,
          91,
          146,
          122,
          165,
          124,
          111,
          106,
          129,
          90,
          86,
          111,
          114,
          193,
          191,
          95,
          142,
          96,
          128,
          102,
          108,
          122,
          71,
          106,
          100,
          104,
          114,
          108,
          129,
          133,
          136,
          155,
          96,
          108,
          78,
          161,
          151,
          126,
          112,
          77,
          150,
          120,
          137,
          80,
          106,
          113,
          112,
          99,
          115,
          129,
          112,
          157,
          179,
          105,
          118,
          87,
          106,
          95,
          165,
          117,
          130,
          95,
          107,
          122,
          95,
          126,
          139,
          116,
          99,
          92,
          137,
          61,
          90,
          90,
          88,
          158,
          103,
          147,
          99,
          101,
          81,
          118,
          84,
          105,
          122,
          98,
          87,
          93,
          107,
          105,
          109,
          90,
          125,
          119,
          100,
          100,
          131,
          116,
          127,
          96,
          82,
          137,
          72,
          123,
          101,
          102,
          112,
          143,
          143,
          97,
          83,
          119,
          94,
          102,
          115,
          94,
          135,
          99,
          89,
          80,
          139,
          90,
          140,
          147,
          97,
          107,
          83,
          117,
          100,
          95,
          120,
          82,
          91,
          119,
          100,
          135,
          86,
          134,
          120,
          71,
          74,
          88,
          115,
          124,
          74,
          97,
          154,
          144,
          137,
          119,
          136,
          114,
          137,
          114,
          126,
          132,
          123,
          85,
          84,
          139,
          173,
          99,
          194,
          83,
          89,
          99,
          80,
          166,
          110,
          81,
          154,
          117,
          84,
          94,
          96,
          75,
          130,
          84,
          120,
          139,
          91,
          91,
          99,
          125,
          76,
          129,
          68,
          124,
          114,
          125,
          87,
          97,
          116,
          117,
          111,
          122,
          107,
          86,
          91,
          77,
          105,
          57,
          127,
          84,
          88,
          131,
          164,
          189,
          116,
          84,
          114,
          88,
          84,
          124,
          97,
          110,
          103,
          85,
          87,
          99,
          91,
          95,
          99,
          92,
          154,
          78,
          130,
          111,
          98,
          143,
          119,
          108,
          133,
          109,
          121,
          100,
          93,
          103,
          73,
          112,
          82,
          123,
          67,
          89,
          109,
          108,
          96,
          124,
          124,
          92,
          152,
          111,
          106,
          105,
          106,
          117,
          68,
          112,
          92,
          183,
          94,
          108,
          90,
          125,
          132,
          128,
          94,
          102,
          111,
          128,
          92,
          104,
          94,
          100,
          102,
          128,
          90,
          103,
          157,
          107,
          91,
          117,
          123,
          120,
          106,
          101,
          120,
          127,
          162,
          112,
          98,
          154,
          165,
          99,
          68,
          123,
          91,
          93,
          101,
          56,
          95,
          136,
          129,
          130,
          107,
          140,
          107,
          121,
          90,
          99,
          127,
          118,
          122,
          129,
          110,
          80,
          127,
          158,
          126,
          134,
          102,
          94,
          108,
          83,
          114,
          117,
          111,
          112,
          116,
          141,
          175,
          92,
          106,
          105,
          95,
          126,
          65,
          99,
          102,
          109,
          153,
          100,
          81,
          121,
          108,
          137,
          106,
          88,
          89,
          101,
          122,
          121,
          93
         ],
         "xaxis": "x2",
         "y": [
          26.6,
          28.1,
          25.6,
          35.3,
          37.6,
          27.1,
          43.3,
          39.3,
          35.4,
          23.2,
          22.2,
          34.1,
          36,
          24.8,
          19.9,
          27.6,
          24,
          33.2,
          34,
          40.2,
          22.7,
          27.4,
          29.7,
          28,
          30.1,
          19.4,
          24.2,
          24.4,
          34.7,
          23,
          46.8,
          40.5,
          41.5,
          30.1,
          25,
          25.4,
          29,
          42.7,
          19.6,
          28.9,
          28.6,
          35.1,
          32,
          24.7,
          32.6,
          37.7,
          25,
          22.4,
          30.1,
          29.3,
          24.6,
          32.4,
          36.6,
          38.5,
          26.5,
          19.1,
          32,
          46.7,
          24.7,
          33.9,
          31.6,
          20.4,
          28.7,
          26.1,
          22.5,
          26.6,
          39.6,
          28.7,
          22.4,
          29.5,
          34.3,
          31.2,
          34,
          33.7,
          28.2,
          23.2,
          34.2,
          33.6,
          26.8,
          42.9,
          33.3,
          38.3,
          21.1,
          33.8,
          30.8,
          28.7,
          31.2,
          36.9,
          21.1,
          39.5,
          32.5,
          32.8,
          30.1,
          32.8,
          30.5,
          33.7,
          27.3,
          37.4,
          21.9,
          40.6,
          24.6,
          25.2,
          29,
          29.7,
          37.2,
          44.2,
          29.7,
          32.5,
          29.6,
          31.9,
          28.4,
          28.9,
          43.5,
          29.7,
          31.2,
          45,
          23.2,
          34.9,
          27.7,
          26.8,
          27.6,
          22.6,
          33.1,
          24.4,
          24.3,
          31,
          40.1,
          27.3,
          20.4,
          37.7,
          23.9,
          33.2,
          27.7,
          42.8,
          34.2,
          30,
          25.2,
          28.8,
          23.6,
          34.6,
          35.7,
          36.7,
          45.2,
          25.4,
          35,
          29.7,
          18.4,
          29.2,
          33.1,
          38.2,
          31.2,
          50.25,
          35.4,
          30.1,
          31.2,
          28,
          24.4,
          35.8,
          30.1,
          28.7,
          25.9,
          30.9,
          32.1,
          32.4,
          33.6,
          40,
          25.1,
          25.2,
          23,
          33.2,
          34.2,
          40.5,
          27.8,
          24.9,
          25.3,
          35.9,
          32.4,
          26,
          38.7,
          20.8,
          36.1,
          36.9,
          21.9,
          35.5,
          30.7,
          23.6,
          35.8,
          21,
          39.7,
          24.8,
          26.2,
          39.4,
          29.5,
          34.1,
          19.3,
          38.1,
          27.5,
          35.7,
          25.6,
          35.1,
          30.8,
          23.1,
          32.7,
          23.6,
          23.9,
          47.9,
          33.8,
          25.9,
          25.9,
          32,
          34.7,
          36.8,
          38.5,
          28.7,
          23.5,
          21.8,
          42.2,
          31.2,
          34.4,
          27.2,
          42.7,
          35.3,
          29.8,
          39.2,
          34.9,
          34,
          21,
          27.5,
          30.1,
          35.8,
          34.9,
          36.2,
          25.2,
          37.2,
          43.4,
          30.8,
          20,
          25.4,
          25.1,
          24.3,
          22.3,
          31.6,
          32,
          23.7,
          22.1,
          27.7,
          24.7,
          21.1,
          24.2,
          31.6,
          42.1,
          21.9,
          35.7,
          34.4,
          42.4,
          26.2,
          27.2,
          18.2,
          45.3,
          26,
          40.6,
          30.8,
          30.1,
          40.6,
          22.2,
          30.4,
          30,
          25.6,
          24.5,
          37.4,
          29.9,
          18.2,
          36.8,
          32.2,
          33.2,
          25.3,
          36.5,
          30.5,
          21.2,
          39.9,
          19.6,
          37.8,
          26.7,
          30.2,
          25.9,
          20.8,
          21.8,
          35.3,
          27.6,
          24,
          21.8,
          27.8,
          36.8,
          46.1,
          41.3,
          33.2,
          38.8,
          29.9,
          28.9,
          27.3,
          23.8,
          25.9,
          28,
          35.2,
          27.8,
          38.2,
          40.7,
          46.5,
          25.6,
          26.1,
          36.8,
          33.5,
          32.8,
          30.1,
          26.6,
          26,
          30.1,
          29.3,
          25.2,
          37.2,
          33.3,
          37.3,
          33.3,
          28.6,
          30.4,
          25,
          22.1,
          24.2,
          27.3,
          25.6,
          37.6,
          32.8,
          19.6,
          25,
          33.2,
          30.1,
          31.6,
          21.8,
          18.2,
          26.3,
          30.8,
          24.6,
          29.8,
          45.3,
          41.3,
          29.8,
          33.3,
          29.6,
          21.7,
          36.3,
          39.5,
          32,
          33.1,
          32.8,
          28.5,
          27.4,
          31.9,
          27.8,
          29.9,
          36.9,
          25.5,
          38.1,
          27.8,
          46.2,
          30.1,
          37.6,
          26.9,
          32.4,
          26.1,
          38.6,
          32,
          31.3,
          32.5,
          22.6,
          29.5,
          34.7,
          30.1,
          35.5,
          24,
          27,
          25,
          26.5,
          38.7,
          22.5,
          24.3,
          21.1,
          39.4,
          28.5,
          33.6,
          45.3,
          27.8,
          23.1,
          27.1,
          23.7,
          27.8,
          35.8,
          19.5,
          41.5,
          24,
          30.9,
          32.5,
          25.8,
          28.7,
          20.1,
          38.4,
          24.2,
          40.8,
          43.5,
          30.8,
          37.7,
          24.7,
          32.4,
          34.6,
          24.7,
          34.5,
          26.2,
          27.5,
          25.9,
          28.8,
          31.6,
          19.5,
          29.3,
          34.3,
          28,
          27.6,
          39.4,
          26.4,
          25.2,
          33.8,
          34.1,
          26.8,
          34.2,
          21.8,
          38.9,
          39,
          27.7,
          34.8,
          34,
          30.9,
          33.6,
          25.4,
          35.5,
          50.25,
          35.6,
          35.3,
          24.2,
          24.2,
          44.6,
          30.1,
          33.2,
          23.1,
          28.3,
          24.1,
          24.6,
          39.1,
          23.5,
          25,
          34.5,
          44.5,
          35.9,
          38.5,
          28.4,
          39.8,
          34.4,
          31.2,
          29.6,
          26.4,
          29.5,
          23.1,
          35.5,
          29.3,
          38.1,
          39.1,
          32.8,
          39.4,
          36.1,
          32.4,
          22.9,
          30.1,
          29,
          23.3,
          35.4,
          27.4,
          32,
          36.6,
          30.8,
          28.5,
          40.6,
          30,
          46.3,
          39,
          26,
          32,
          37.5,
          28.4,
          22.5,
          32.9,
          36.8,
          26.2,
          30.4
         ],
         "yaxis": "y2"
        }
       ],
       "layout": {
        "annotations": [
         {
          "font": {},
          "showarrow": false,
          "text": "Outcome=1",
          "x": 0.245,
          "xanchor": "center",
          "xref": "paper",
          "y": 1,
          "yanchor": "bottom",
          "yref": "paper"
         },
         {
          "font": {},
          "showarrow": false,
          "text": "Outcome=0",
          "x": 0.755,
          "xanchor": "center",
          "xref": "paper",
          "y": 1,
          "yanchor": "bottom",
          "yref": "paper"
         }
        ],
        "autosize": true,
        "coloraxis": {
         "colorbar": {
          "title": {
           "text": "Outcome"
          }
         },
         "colorscale": [
          [
           0,
           "#0d0887"
          ],
          [
           0.1111111111111111,
           "#46039f"
          ],
          [
           0.2222222222222222,
           "#7201a8"
          ],
          [
           0.3333333333333333,
           "#9c179e"
          ],
          [
           0.4444444444444444,
           "#bd3786"
          ],
          [
           0.5555555555555556,
           "#d8576b"
          ],
          [
           0.6666666666666666,
           "#ed7953"
          ],
          [
           0.7777777777777778,
           "#fb9f3a"
          ],
          [
           0.8888888888888888,
           "#fdca26"
          ],
          [
           1,
           "#f0f921"
          ]
         ]
        },
        "legend": {
         "tracegroupgap": 0
        },
        "template": {
         "data": {
          "bar": [
           {
            "error_x": {
             "color": "#2a3f5f"
            },
            "error_y": {
             "color": "#2a3f5f"
            },
            "marker": {
             "line": {
              "color": "#E5ECF6",
              "width": 0.5
             },
             "pattern": {
              "fillmode": "overlay",
              "size": 10,
              "solidity": 0.2
             }
            },
            "type": "bar"
           }
          ],
          "barpolar": [
           {
            "marker": {
             "line": {
              "color": "#E5ECF6",
              "width": 0.5
             },
             "pattern": {
              "fillmode": "overlay",
              "size": 10,
              "solidity": 0.2
             }
            },
            "type": "barpolar"
           }
          ],
          "carpet": [
           {
            "aaxis": {
             "endlinecolor": "#2a3f5f",
             "gridcolor": "white",
             "linecolor": "white",
             "minorgridcolor": "white",
             "startlinecolor": "#2a3f5f"
            },
            "baxis": {
             "endlinecolor": "#2a3f5f",
             "gridcolor": "white",
             "linecolor": "white",
             "minorgridcolor": "white",
             "startlinecolor": "#2a3f5f"
            },
            "type": "carpet"
           }
          ],
          "choropleth": [
           {
            "colorbar": {
             "outlinewidth": 0,
             "ticks": ""
            },
            "type": "choropleth"
           }
          ],
          "contour": [
           {
            "colorbar": {
             "outlinewidth": 0,
             "ticks": ""
            },
            "colorscale": [
             [
              0,
              "#0d0887"
             ],
             [
              0.1111111111111111,
              "#46039f"
             ],
             [
              0.2222222222222222,
              "#7201a8"
             ],
             [
              0.3333333333333333,
              "#9c179e"
             ],
             [
              0.4444444444444444,
              "#bd3786"
             ],
             [
              0.5555555555555556,
              "#d8576b"
             ],
             [
              0.6666666666666666,
              "#ed7953"
             ],
             [
              0.7777777777777778,
              "#fb9f3a"
             ],
             [
              0.8888888888888888,
              "#fdca26"
             ],
             [
              1,
              "#f0f921"
             ]
            ],
            "type": "contour"
           }
          ],
          "contourcarpet": [
           {
            "colorbar": {
             "outlinewidth": 0,
             "ticks": ""
            },
            "type": "contourcarpet"
           }
          ],
          "heatmap": [
           {
            "colorbar": {
             "outlinewidth": 0,
             "ticks": ""
            },
            "colorscale": [
             [
              0,
              "#0d0887"
             ],
             [
              0.1111111111111111,
              "#46039f"
             ],
             [
              0.2222222222222222,
              "#7201a8"
             ],
             [
              0.3333333333333333,
              "#9c179e"
             ],
             [
              0.4444444444444444,
              "#bd3786"
             ],
             [
              0.5555555555555556,
              "#d8576b"
             ],
             [
              0.6666666666666666,
              "#ed7953"
             ],
             [
              0.7777777777777778,
              "#fb9f3a"
             ],
             [
              0.8888888888888888,
              "#fdca26"
             ],
             [
              1,
              "#f0f921"
             ]
            ],
            "type": "heatmap"
           }
          ],
          "heatmapgl": [
           {
            "colorbar": {
             "outlinewidth": 0,
             "ticks": ""
            },
            "colorscale": [
             [
              0,
              "#0d0887"
             ],
             [
              0.1111111111111111,
              "#46039f"
             ],
             [
              0.2222222222222222,
              "#7201a8"
             ],
             [
              0.3333333333333333,
              "#9c179e"
             ],
             [
              0.4444444444444444,
              "#bd3786"
             ],
             [
              0.5555555555555556,
              "#d8576b"
             ],
             [
              0.6666666666666666,
              "#ed7953"
             ],
             [
              0.7777777777777778,
              "#fb9f3a"
             ],
             [
              0.8888888888888888,
              "#fdca26"
             ],
             [
              1,
              "#f0f921"
             ]
            ],
            "type": "heatmapgl"
           }
          ],
          "histogram": [
           {
            "marker": {
             "pattern": {
              "fillmode": "overlay",
              "size": 10,
              "solidity": 0.2
             }
            },
            "type": "histogram"
           }
          ],
          "histogram2d": [
           {
            "colorbar": {
             "outlinewidth": 0,
             "ticks": ""
            },
            "colorscale": [
             [
              0,
              "#0d0887"
             ],
             [
              0.1111111111111111,
              "#46039f"
             ],
             [
              0.2222222222222222,
              "#7201a8"
             ],
             [
              0.3333333333333333,
              "#9c179e"
             ],
             [
              0.4444444444444444,
              "#bd3786"
             ],
             [
              0.5555555555555556,
              "#d8576b"
             ],
             [
              0.6666666666666666,
              "#ed7953"
             ],
             [
              0.7777777777777778,
              "#fb9f3a"
             ],
             [
              0.8888888888888888,
              "#fdca26"
             ],
             [
              1,
              "#f0f921"
             ]
            ],
            "type": "histogram2d"
           }
          ],
          "histogram2dcontour": [
           {
            "colorbar": {
             "outlinewidth": 0,
             "ticks": ""
            },
            "colorscale": [
             [
              0,
              "#0d0887"
             ],
             [
              0.1111111111111111,
              "#46039f"
             ],
             [
              0.2222222222222222,
              "#7201a8"
             ],
             [
              0.3333333333333333,
              "#9c179e"
             ],
             [
              0.4444444444444444,
              "#bd3786"
             ],
             [
              0.5555555555555556,
              "#d8576b"
             ],
             [
              0.6666666666666666,
              "#ed7953"
             ],
             [
              0.7777777777777778,
              "#fb9f3a"
             ],
             [
              0.8888888888888888,
              "#fdca26"
             ],
             [
              1,
              "#f0f921"
             ]
            ],
            "type": "histogram2dcontour"
           }
          ],
          "mesh3d": [
           {
            "colorbar": {
             "outlinewidth": 0,
             "ticks": ""
            },
            "type": "mesh3d"
           }
          ],
          "parcoords": [
           {
            "line": {
             "colorbar": {
              "outlinewidth": 0,
              "ticks": ""
             }
            },
            "type": "parcoords"
           }
          ],
          "pie": [
           {
            "automargin": true,
            "type": "pie"
           }
          ],
          "scatter": [
           {
            "fillpattern": {
             "fillmode": "overlay",
             "size": 10,
             "solidity": 0.2
            },
            "type": "scatter"
           }
          ],
          "scatter3d": [
           {
            "line": {
             "colorbar": {
              "outlinewidth": 0,
              "ticks": ""
             }
            },
            "marker": {
             "colorbar": {
              "outlinewidth": 0,
              "ticks": ""
             }
            },
            "type": "scatter3d"
           }
          ],
          "scattercarpet": [
           {
            "marker": {
             "colorbar": {
              "outlinewidth": 0,
              "ticks": ""
             }
            },
            "type": "scattercarpet"
           }
          ],
          "scattergeo": [
           {
            "marker": {
             "colorbar": {
              "outlinewidth": 0,
              "ticks": ""
             }
            },
            "type": "scattergeo"
           }
          ],
          "scattergl": [
           {
            "marker": {
             "colorbar": {
              "outlinewidth": 0,
              "ticks": ""
             }
            },
            "type": "scattergl"
           }
          ],
          "scattermapbox": [
           {
            "marker": {
             "colorbar": {
              "outlinewidth": 0,
              "ticks": ""
             }
            },
            "type": "scattermapbox"
           }
          ],
          "scatterpolar": [
           {
            "marker": {
             "colorbar": {
              "outlinewidth": 0,
              "ticks": ""
             }
            },
            "type": "scatterpolar"
           }
          ],
          "scatterpolargl": [
           {
            "marker": {
             "colorbar": {
              "outlinewidth": 0,
              "ticks": ""
             }
            },
            "type": "scatterpolargl"
           }
          ],
          "scatterternary": [
           {
            "marker": {
             "colorbar": {
              "outlinewidth": 0,
              "ticks": ""
             }
            },
            "type": "scatterternary"
           }
          ],
          "surface": [
           {
            "colorbar": {
             "outlinewidth": 0,
             "ticks": ""
            },
            "colorscale": [
             [
              0,
              "#0d0887"
             ],
             [
              0.1111111111111111,
              "#46039f"
             ],
             [
              0.2222222222222222,
              "#7201a8"
             ],
             [
              0.3333333333333333,
              "#9c179e"
             ],
             [
              0.4444444444444444,
              "#bd3786"
             ],
             [
              0.5555555555555556,
              "#d8576b"
             ],
             [
              0.6666666666666666,
              "#ed7953"
             ],
             [
              0.7777777777777778,
              "#fb9f3a"
             ],
             [
              0.8888888888888888,
              "#fdca26"
             ],
             [
              1,
              "#f0f921"
             ]
            ],
            "type": "surface"
           }
          ],
          "table": [
           {
            "cells": {
             "fill": {
              "color": "#EBF0F8"
             },
             "line": {
              "color": "white"
             }
            },
            "header": {
             "fill": {
              "color": "#C8D4E3"
             },
             "line": {
              "color": "white"
             }
            },
            "type": "table"
           }
          ]
         },
         "layout": {
          "annotationdefaults": {
           "arrowcolor": "#2a3f5f",
           "arrowhead": 0,
           "arrowwidth": 1
          },
          "autotypenumbers": "strict",
          "coloraxis": {
           "colorbar": {
            "outlinewidth": 0,
            "ticks": ""
           }
          },
          "colorscale": {
           "diverging": [
            [
             0,
             "#8e0152"
            ],
            [
             0.1,
             "#c51b7d"
            ],
            [
             0.2,
             "#de77ae"
            ],
            [
             0.3,
             "#f1b6da"
            ],
            [
             0.4,
             "#fde0ef"
            ],
            [
             0.5,
             "#f7f7f7"
            ],
            [
             0.6,
             "#e6f5d0"
            ],
            [
             0.7,
             "#b8e186"
            ],
            [
             0.8,
             "#7fbc41"
            ],
            [
             0.9,
             "#4d9221"
            ],
            [
             1,
             "#276419"
            ]
           ],
           "sequential": [
            [
             0,
             "#0d0887"
            ],
            [
             0.1111111111111111,
             "#46039f"
            ],
            [
             0.2222222222222222,
             "#7201a8"
            ],
            [
             0.3333333333333333,
             "#9c179e"
            ],
            [
             0.4444444444444444,
             "#bd3786"
            ],
            [
             0.5555555555555556,
             "#d8576b"
            ],
            [
             0.6666666666666666,
             "#ed7953"
            ],
            [
             0.7777777777777778,
             "#fb9f3a"
            ],
            [
             0.8888888888888888,
             "#fdca26"
            ],
            [
             1,
             "#f0f921"
            ]
           ],
           "sequentialminus": [
            [
             0,
             "#0d0887"
            ],
            [
             0.1111111111111111,
             "#46039f"
            ],
            [
             0.2222222222222222,
             "#7201a8"
            ],
            [
             0.3333333333333333,
             "#9c179e"
            ],
            [
             0.4444444444444444,
             "#bd3786"
            ],
            [
             0.5555555555555556,
             "#d8576b"
            ],
            [
             0.6666666666666666,
             "#ed7953"
            ],
            [
             0.7777777777777778,
             "#fb9f3a"
            ],
            [
             0.8888888888888888,
             "#fdca26"
            ],
            [
             1,
             "#f0f921"
            ]
           ]
          },
          "colorway": [
           "#636efa",
           "#EF553B",
           "#00cc96",
           "#ab63fa",
           "#FFA15A",
           "#19d3f3",
           "#FF6692",
           "#B6E880",
           "#FF97FF",
           "#FECB52"
          ],
          "font": {
           "color": "#2a3f5f"
          },
          "geo": {
           "bgcolor": "white",
           "lakecolor": "white",
           "landcolor": "#E5ECF6",
           "showlakes": true,
           "showland": true,
           "subunitcolor": "white"
          },
          "hoverlabel": {
           "align": "left"
          },
          "hovermode": "closest",
          "mapbox": {
           "style": "light"
          },
          "paper_bgcolor": "white",
          "plot_bgcolor": "#E5ECF6",
          "polar": {
           "angularaxis": {
            "gridcolor": "white",
            "linecolor": "white",
            "ticks": ""
           },
           "bgcolor": "#E5ECF6",
           "radialaxis": {
            "gridcolor": "white",
            "linecolor": "white",
            "ticks": ""
           }
          },
          "scene": {
           "xaxis": {
            "backgroundcolor": "#E5ECF6",
            "gridcolor": "white",
            "gridwidth": 2,
            "linecolor": "white",
            "showbackground": true,
            "ticks": "",
            "zerolinecolor": "white"
           },
           "yaxis": {
            "backgroundcolor": "#E5ECF6",
            "gridcolor": "white",
            "gridwidth": 2,
            "linecolor": "white",
            "showbackground": true,
            "ticks": "",
            "zerolinecolor": "white"
           },
           "zaxis": {
            "backgroundcolor": "#E5ECF6",
            "gridcolor": "white",
            "gridwidth": 2,
            "linecolor": "white",
            "showbackground": true,
            "ticks": "",
            "zerolinecolor": "white"
           }
          },
          "shapedefaults": {
           "line": {
            "color": "#2a3f5f"
           }
          },
          "ternary": {
           "aaxis": {
            "gridcolor": "white",
            "linecolor": "white",
            "ticks": ""
           },
           "baxis": {
            "gridcolor": "white",
            "linecolor": "white",
            "ticks": ""
           },
           "bgcolor": "#E5ECF6",
           "caxis": {
            "gridcolor": "white",
            "linecolor": "white",
            "ticks": ""
           }
          },
          "title": {
           "x": 0.05
          },
          "xaxis": {
           "automargin": true,
           "gridcolor": "white",
           "linecolor": "white",
           "ticks": "",
           "title": {
            "standoff": 15
           },
           "zerolinecolor": "white",
           "zerolinewidth": 2
          },
          "yaxis": {
           "automargin": true,
           "gridcolor": "white",
           "linecolor": "white",
           "ticks": "",
           "title": {
            "standoff": 15
           },
           "zerolinecolor": "white",
           "zerolinewidth": 2
          }
         }
        },
        "title": {
         "text": "Facet Grid of Glucose vs. BMI by Diabetes Outcome"
        },
        "xaxis": {
         "anchor": "y",
         "autorange": true,
         "domain": [
          0,
          0.49
         ],
         "range": [
          32.44221942383677,
          210.55778057616322
         ],
         "title": {
          "text": "Glucose"
         },
         "type": "linear"
        },
        "xaxis2": {
         "anchor": "y2",
         "autorange": true,
         "domain": [
          0.51,
          1
         ],
         "matches": "x",
         "range": [
          32.44221942383677,
          210.55778057616322
         ],
         "title": {
          "text": "Glucose"
         },
         "type": "linear"
        },
        "yaxis": {
         "anchor": "x",
         "autorange": true,
         "domain": [
          0,
          1
         ],
         "range": [
          15.555097087378641,
          52.89490291262136
         ],
         "title": {
          "text": "BMI"
         },
         "type": "linear"
        },
        "yaxis2": {
         "anchor": "x2",
         "autorange": true,
         "domain": [
          0,
          1
         ],
         "matches": "y",
         "range": [
          15.555097087378641,
          52.89490291262136
         ],
         "showticklabels": false,
         "type": "linear"
        }
       }
      },
      "text/html": [
       "<div>                            <div id=\"3ff54219-d844-460d-8750-3a8a4a333be7\" class=\"plotly-graph-div\" style=\"height:525px; width:100%;\"></div>            <script type=\"text/javascript\">                require([\"plotly\"], function(Plotly) {                    window.PLOTLYENV=window.PLOTLYENV || {};                                    if (document.getElementById(\"3ff54219-d844-460d-8750-3a8a4a333be7\")) {                    Plotly.newPlot(                        \"3ff54219-d844-460d-8750-3a8a4a333be7\",                        [{\"hovertemplate\":\"Outcome=%{marker.color}\\u003cbr\\u003eGlucose=%{x}\\u003cbr\\u003eBMI=%{y}\\u003cextra\\u003e\\u003c\\u002fextra\\u003e\",\"legendgroup\":\"\",\"marker\":{\"color\":[1,1,1,1,1,1,1,1,1,1,1,1,1,1,1,1,1,1,1,1,1,1,1,1,1,1,1,1,1,1,1,1,1,1,1,1,1,1,1,1,1,1,1,1,1,1,1,1,1,1,1,1,1,1,1,1,1,1,1,1,1,1,1,1,1,1,1,1,1,1,1,1,1,1,1,1,1,1,1,1,1,1,1,1,1,1,1,1,1,1,1,1,1,1,1,1,1,1,1,1,1,1,1,1,1,1,1,1,1,1,1,1,1,1,1,1,1,1,1,1,1,1,1,1,1,1,1,1,1,1,1,1,1,1,1,1,1,1,1,1,1,1,1,1,1,1,1,1,1,1,1,1,1,1,1,1,1,1,1,1,1,1,1,1,1,1,1,1,1,1,1,1,1,1,1,1,1,1,1,1,1,1,1,1,1,1,1,1,1,1,1,1,1,1,1,1,1,1,1,1,1,1,1,1,1,1,1,1,1,1,1,1,1,1,1,1,1,1,1,1,1,1,1,1,1,1,1,1,1,1,1,1,1,1,1,1,1,1,1,1,1,1,1,1,1,1,1,1,1,1,1,1,1,1,1,1,1,1,1,1,1,1,1,1,1,1,1,1],\"coloraxis\":\"coloraxis\",\"symbol\":\"circle\"},\"mode\":\"markers\",\"name\":\"\",\"orientation\":\"v\",\"showlegend\":false,\"x\":[148.0,183.0,137.0,78.0,197.0,125.0,168.0,189.0,166.0,100.0,118.0,107.0,115.0,196.0,119.0,143.0,125.0,147.0,158.0,102.0,90.0,111.0,171.0,180.0,103.0,176.0,187.0,133.0,114.0,109.0,100.0,126.0,131.0,137.0,136.0,134.0,122.0,163.0,95.0,171.0,155.0,160.0,146.0,124.0,162.0,113.0,88.0,117.0,105.0,173.0,122.0,170.0,108.0,156.0,188.0,152.0,163.0,131.0,104.0,102.0,134.0,179.0,129.0,130.0,194.0,181.0,128.0,109.0,139.0,159.0,135.0,158.0,107.0,109.0,148.0,196.0,162.0,184.0,140.0,112.0,151.0,109.0,85.0,112.0,177.0,158.0,162.0,142.0,134.0,171.0,181.0,179.0,164.0,139.0,119.0,184.0,92.0,113.0,155.0,141.0,123.0,138.0,146.0,101.0,106.0,146.0,161.0,108.0,119.0,107.0,128.0,128.0,146.0,100.0,167.0,144.0,115.0,161.0,128.0,124.0,155.0,109.0,182.0,194.0,112.0,124.0,152.0,122.0,102.0,180.0,115.0,152.0,178.0,140.0,165.0,125.0,129.0,196.0,189.0,146.0,124.0,133.0,173.0,140.0,156.0,116.0,105.0,144.0,166.0,158.0,131.0,193.0,95.0,136.0,168.0,115.0,197.0,172.0,138.0,173.0,144.0,129.0,151.0,184.0,181.0,95.0,141.0,189.0,108.0,117.0,180.0,104.0,134.0,175.0,148.0,120.0,105.0,158.0,145.0,135.0,125.0,195.0,140.0,180.0,84.0,163.0,145.0,130.0,132.0,129.0,100.0,128.0,90.0,186.0,187.0,125.0,198.0,121.0,118.0,197.0,151.0,124.0,143.0,176.0,111.0,132.0,188.0,173.0,150.0,183.0,181.0,174.0,168.0,138.0,112.0,119.0,114.0,104.0,97.0,147.0,167.0,179.0,136.0,155.0,80.0,199.0,167.0,145.0,115.0,145.0,111.0,195.0,156.0,121.0,162.0,125.0,144.0,158.0,129.0,142.0,169.0,125.0,168.0,115.0,164.0,93.0,129.0,187.0,173.0,97.0,149.0,130.0,120.0,174.0,102.0,120.0,140.0,147.0,187.0,162.0,136.0,181.0,154.0,128.0,123.0,190.0,170.0,126.0],\"xaxis\":\"x\",\"y\":[33.6,23.3,43.1,31.0,30.5,34.3,38.0,30.1,25.8,30.0,45.8,29.6,34.6,39.8,29.0,36.6,31.1,39.4,31.6,32.9,38.2,37.1,45.4,42.0,39.1,33.7,37.7,32.9,32.8,32.5,32.9,43.4,43.2,48.8,37.1,23.8,49.7,39.0,37.4,33.3,34.0,30.5,31.2,34.0,50.25,33.3,50.25,34.5,27.9,29.7,33.3,34.5,32.4,34.3,47.9,50.0,40.9,31.6,29.9,30.8,35.4,32.7,50.25,39.1,35.9,30.1,32.0,27.9,31.6,30.4,50.25,39.4,22.9,34.8,30.9,37.5,37.7,35.5,42.6,34.2,41.8,35.8,29.0,37.8,34.6,31.6,37.2,44.0,46.2,43.6,35.9,44.1,30.8,25.6,27.1,30.0,27.6,33.6,33.3,30.0,32.0,36.3,27.5,45.6,26.5,37.9,30.4,27.0,45.6,36.6,43.3,40.5,28.0,36.6,32.3,31.6,50.25,25.5,30.5,32.9,26.6,35.9,30.5,23.5,31.6,27.4,26.8,35.1,45.5,43.3,31.2,34.2,39.9,41.0,30.4,33.3,39.9,36.5,31.2,38.5,27.6,32.8,38.4,39.2,48.3,32.3,43.3,32.0,45.7,32.9,34.3,34.9,32.0,35.0,32.9,28.9,25.9,42.4,34.6,35.7,38.5,26.4,42.9,37.0,34.1,35.0,42.4,34.3,30.5,29.7,50.25,33.6,28.9,33.6,37.6,30.0,33.7,35.5,44.2,42.3,28.9,25.1,39.0,36.5,29.7,31.6,30.3,34.2,32.9,36.4,39.4,32.4,34.9,34.5,43.6,33.8,41.3,34.3,42.9,34.7,42.1,28.7,34.9,33.3,46.8,34.4,32.0,36.8,35.2,28.4,40.0,32.9,38.2,36.1,28.2,32.4,27.4,31.2,40.9,29.5,23.4,37.8,28.3,38.7,34.2,42.9,37.6,37.9,33.7,32.5,27.5,30.9,24.8,36.0,49.6,32.3,46.1,42.3,38.5,30.4,29.9,27.6,35.0,34.3,32.8,38.0,41.2,33.9,33.8,35.6,29.3,28.4,28.4,44.5,39.5,42.3,32.7,49.3,36.4,24.3,31.2,43.3,32.4,36.5,36.3,35.5,44.0,30.1],\"yaxis\":\"y\",\"type\":\"scatter\"},{\"hovertemplate\":\"Outcome=%{marker.color}\\u003cbr\\u003eGlucose=%{x}\\u003cbr\\u003eBMI=%{y}\\u003cextra\\u003e\\u003c\\u002fextra\\u003e\",\"legendgroup\":\"\",\"marker\":{\"color\":[0,0,0,0,0,0,0,0,0,0,0,0,0,0,0,0,0,0,0,0,0,0,0,0,0,0,0,0,0,0,0,0,0,0,0,0,0,0,0,0,0,0,0,0,0,0,0,0,0,0,0,0,0,0,0,0,0,0,0,0,0,0,0,0,0,0,0,0,0,0,0,0,0,0,0,0,0,0,0,0,0,0,0,0,0,0,0,0,0,0,0,0,0,0,0,0,0,0,0,0,0,0,0,0,0,0,0,0,0,0,0,0,0,0,0,0,0,0,0,0,0,0,0,0,0,0,0,0,0,0,0,0,0,0,0,0,0,0,0,0,0,0,0,0,0,0,0,0,0,0,0,0,0,0,0,0,0,0,0,0,0,0,0,0,0,0,0,0,0,0,0,0,0,0,0,0,0,0,0,0,0,0,0,0,0,0,0,0,0,0,0,0,0,0,0,0,0,0,0,0,0,0,0,0,0,0,0,0,0,0,0,0,0,0,0,0,0,0,0,0,0,0,0,0,0,0,0,0,0,0,0,0,0,0,0,0,0,0,0,0,0,0,0,0,0,0,0,0,0,0,0,0,0,0,0,0,0,0,0,0,0,0,0,0,0,0,0,0,0,0,0,0,0,0,0,0,0,0,0,0,0,0,0,0,0,0,0,0,0,0,0,0,0,0,0,0,0,0,0,0,0,0,0,0,0,0,0,0,0,0,0,0,0,0,0,0,0,0,0,0,0,0,0,0,0,0,0,0,0,0,0,0,0,0,0,0,0,0,0,0,0,0,0,0,0,0,0,0,0,0,0,0,0,0,0,0,0,0,0,0,0,0,0,0,0,0,0,0,0,0,0,0,0,0,0,0,0,0,0,0,0,0,0,0,0,0,0,0,0,0,0,0,0,0,0,0,0,0,0,0,0,0,0,0,0,0,0,0,0,0,0,0,0,0,0,0,0,0,0,0,0,0,0,0,0,0,0,0,0,0,0,0,0,0,0,0,0,0,0,0,0,0,0,0,0,0,0,0,0,0,0,0,0,0,0,0,0,0,0,0,0,0,0,0,0,0,0,0,0,0,0,0,0,0,0,0,0,0,0,0,0,0,0,0,0,0,0,0,0,0,0,0,0,0,0,0,0,0,0,0],\"coloraxis\":\"coloraxis\",\"symbol\":\"circle\"},\"mode\":\"markers\",\"name\":\"\",\"orientation\":\"v\",\"showlegend\":false,\"x\":[85.0,89.0,116.0,115.0,110.0,139.0,103.0,126.0,99.0,97.0,145.0,117.0,109.0,88.0,92.0,122.0,103.0,138.0,180.0,133.0,106.0,159.0,146.0,71.0,105.0,103.0,101.0,88.0,150.0,73.0,100.0,146.0,105.0,84.0,44.0,141.0,99.0,109.0,95.0,146.0,139.0,129.0,79.0,107.0,62.0,95.0,112.0,113.0,74.0,83.0,101.0,110.0,106.0,100.0,107.0,80.0,123.0,81.0,142.0,144.0,92.0,71.0,93.0,151.0,125.0,81.0,85.0,126.0,96.0,144.0,83.0,89.0,76.0,78.0,97.0,99.0,111.0,107.0,132.0,120.0,118.0,84.0,96.0,125.0,100.0,93.0,129.0,105.0,128.0,106.0,108.0,154.0,102.0,57.0,106.0,147.0,90.0,136.0,114.0,153.0,99.0,109.0,88.0,151.0,102.0,114.0,100.0,148.0,120.0,110.0,111.0,87.0,79.0,75.0,85.0,143.0,87.0,119.0,107.0,73.0,141.0,111.0,123.0,85.0,105.0,113.0,138.0,108.0,99.0,103.0,111.0,96.0,81.0,147.0,179.0,125.0,119.0,142.0,100.0,87.0,101.0,197.0,117.0,79.0,122.0,74.0,104.0,91.0,91.0,146.0,122.0,165.0,124.0,111.0,106.0,129.0,90.0,86.0,111.0,114.0,193.0,191.0,95.0,142.0,96.0,128.0,102.0,108.0,122.0,71.0,106.0,100.0,104.0,114.0,108.0,129.0,133.0,136.0,155.0,96.0,108.0,78.0,161.0,151.0,126.0,112.0,77.0,150.0,120.0,137.0,80.0,106.0,113.0,112.0,99.0,115.0,129.0,112.0,157.0,179.0,105.0,118.0,87.0,106.0,95.0,165.0,117.0,130.0,95.0,107.0,122.0,95.0,126.0,139.0,116.0,99.0,92.0,137.0,61.0,90.0,90.0,88.0,158.0,103.0,147.0,99.0,101.0,81.0,118.0,84.0,105.0,122.0,98.0,87.0,93.0,107.0,105.0,109.0,90.0,125.0,119.0,100.0,100.0,131.0,116.0,127.0,96.0,82.0,137.0,72.0,123.0,101.0,102.0,112.0,143.0,143.0,97.0,83.0,119.0,94.0,102.0,115.0,94.0,135.0,99.0,89.0,80.0,139.0,90.0,140.0,147.0,97.0,107.0,83.0,117.0,100.0,95.0,120.0,82.0,91.0,119.0,100.0,135.0,86.0,134.0,120.0,71.0,74.0,88.0,115.0,124.0,74.0,97.0,154.0,144.0,137.0,119.0,136.0,114.0,137.0,114.0,126.0,132.0,123.0,85.0,84.0,139.0,173.0,99.0,194.0,83.0,89.0,99.0,80.0,166.0,110.0,81.0,154.0,117.0,84.0,94.0,96.0,75.0,130.0,84.0,120.0,139.0,91.0,91.0,99.0,125.0,76.0,129.0,68.0,124.0,114.0,125.0,87.0,97.0,116.0,117.0,111.0,122.0,107.0,86.0,91.0,77.0,105.0,57.0,127.0,84.0,88.0,131.0,164.0,189.0,116.0,84.0,114.0,88.0,84.0,124.0,97.0,110.0,103.0,85.0,87.0,99.0,91.0,95.0,99.0,92.0,154.0,78.0,130.0,111.0,98.0,143.0,119.0,108.0,133.0,109.0,121.0,100.0,93.0,103.0,73.0,112.0,82.0,123.0,67.0,89.0,109.0,108.0,96.0,124.0,124.0,92.0,152.0,111.0,106.0,105.0,106.0,117.0,68.0,112.0,92.0,183.0,94.0,108.0,90.0,125.0,132.0,128.0,94.0,102.0,111.0,128.0,92.0,104.0,94.0,100.0,102.0,128.0,90.0,103.0,157.0,107.0,91.0,117.0,123.0,120.0,106.0,101.0,120.0,127.0,162.0,112.0,98.0,154.0,165.0,99.0,68.0,123.0,91.0,93.0,101.0,56.0,95.0,136.0,129.0,130.0,107.0,140.0,107.0,121.0,90.0,99.0,127.0,118.0,122.0,129.0,110.0,80.0,127.0,158.0,126.0,134.0,102.0,94.0,108.0,83.0,114.0,117.0,111.0,112.0,116.0,141.0,175.0,92.0,106.0,105.0,95.0,126.0,65.0,99.0,102.0,109.0,153.0,100.0,81.0,121.0,108.0,137.0,106.0,88.0,89.0,101.0,122.0,121.0,93.0],\"xaxis\":\"x2\",\"y\":[26.6,28.1,25.6,35.3,37.6,27.1,43.3,39.3,35.4,23.2,22.2,34.1,36.0,24.8,19.9,27.6,24.0,33.2,34.0,40.2,22.7,27.4,29.7,28.0,30.1,19.4,24.2,24.4,34.7,23.0,46.8,40.5,41.5,30.1,25.0,25.4,29.0,42.7,19.6,28.9,28.6,35.1,32.0,24.7,32.6,37.7,25.0,22.4,30.1,29.3,24.6,32.4,36.6,38.5,26.5,19.1,32.0,46.7,24.7,33.9,31.6,20.4,28.7,26.1,22.5,26.6,39.6,28.7,22.4,29.5,34.3,31.2,34.0,33.7,28.2,23.2,34.2,33.6,26.8,42.9,33.3,38.3,21.1,33.8,30.8,28.7,31.2,36.9,21.1,39.5,32.5,32.8,30.1,32.8,30.5,33.7,27.3,37.4,21.9,40.6,24.6,25.2,29.0,29.7,37.2,44.2,29.7,32.5,29.6,31.9,28.4,28.9,43.5,29.7,31.2,45.0,23.2,34.9,27.7,26.8,27.6,22.6,33.1,24.4,24.3,31.0,40.1,27.3,20.4,37.7,23.9,33.2,27.7,42.8,34.2,30.0,25.2,28.8,23.6,34.6,35.7,36.7,45.2,25.4,35.0,29.7,18.4,29.2,33.1,38.2,31.2,50.25,35.4,30.1,31.2,28.0,24.4,35.8,30.1,28.7,25.9,30.9,32.1,32.4,33.6,40.0,25.1,25.2,23.0,33.2,34.2,40.5,27.8,24.9,25.3,35.9,32.4,26.0,38.7,20.8,36.1,36.9,21.9,35.5,30.7,23.6,35.8,21.0,39.7,24.8,26.2,39.4,29.5,34.1,19.3,38.1,27.5,35.7,25.6,35.1,30.8,23.1,32.7,23.6,23.9,47.9,33.8,25.9,25.9,32.0,34.7,36.8,38.5,28.7,23.5,21.8,42.2,31.2,34.4,27.2,42.7,35.3,29.8,39.2,34.9,34.0,21.0,27.5,30.1,35.8,34.9,36.2,25.2,37.2,43.4,30.8,20.0,25.4,25.1,24.3,22.3,31.6,32.0,23.7,22.1,27.7,24.7,21.1,24.2,31.6,42.1,21.9,35.7,34.4,42.4,26.2,27.2,18.2,45.3,26.0,40.6,30.8,30.1,40.6,22.2,30.4,30.0,25.6,24.5,37.4,29.9,18.2,36.8,32.2,33.2,25.3,36.5,30.5,21.2,39.9,19.6,37.8,26.7,30.2,25.9,20.8,21.8,35.3,27.6,24.0,21.8,27.8,36.8,46.1,41.3,33.2,38.8,29.9,28.9,27.3,23.8,25.9,28.0,35.2,27.8,38.2,40.7,46.5,25.6,26.1,36.8,33.5,32.8,30.1,26.6,26.0,30.1,29.3,25.2,37.2,33.3,37.3,33.3,28.6,30.4,25.0,22.1,24.2,27.3,25.6,37.6,32.8,19.6,25.0,33.2,30.1,31.6,21.8,18.2,26.3,30.8,24.6,29.8,45.3,41.3,29.8,33.3,29.6,21.7,36.3,39.5,32.0,33.1,32.8,28.5,27.4,31.9,27.8,29.9,36.9,25.5,38.1,27.8,46.2,30.1,37.6,26.9,32.4,26.1,38.6,32.0,31.3,32.5,22.6,29.5,34.7,30.1,35.5,24.0,27.0,25.0,26.5,38.7,22.5,24.3,21.1,39.4,28.5,33.6,45.3,27.8,23.1,27.1,23.7,27.8,35.8,19.5,41.5,24.0,30.9,32.5,25.8,28.7,20.1,38.4,24.2,40.8,43.5,30.8,37.7,24.7,32.4,34.6,24.7,34.5,26.2,27.5,25.9,28.8,31.6,19.5,29.3,34.3,28.0,27.6,39.4,26.4,25.2,33.8,34.1,26.8,34.2,21.8,38.9,39.0,27.7,34.8,34.0,30.9,33.6,25.4,35.5,50.25,35.6,35.3,24.2,24.2,44.6,30.1,33.2,23.1,28.3,24.1,24.6,39.1,23.5,25.0,34.5,44.5,35.9,38.5,28.4,39.8,34.4,31.2,29.6,26.4,29.5,23.1,35.5,29.3,38.1,39.1,32.8,39.4,36.1,32.4,22.9,30.1,29.0,23.3,35.4,27.4,32.0,36.6,30.8,28.5,40.6,30.0,46.3,39.0,26.0,32.0,37.5,28.4,22.5,32.9,36.8,26.2,30.4],\"yaxis\":\"y2\",\"type\":\"scatter\"}],                        {\"template\":{\"data\":{\"histogram2dcontour\":[{\"type\":\"histogram2dcontour\",\"colorbar\":{\"outlinewidth\":0,\"ticks\":\"\"},\"colorscale\":[[0.0,\"#0d0887\"],[0.1111111111111111,\"#46039f\"],[0.2222222222222222,\"#7201a8\"],[0.3333333333333333,\"#9c179e\"],[0.4444444444444444,\"#bd3786\"],[0.5555555555555556,\"#d8576b\"],[0.6666666666666666,\"#ed7953\"],[0.7777777777777778,\"#fb9f3a\"],[0.8888888888888888,\"#fdca26\"],[1.0,\"#f0f921\"]]}],\"choropleth\":[{\"type\":\"choropleth\",\"colorbar\":{\"outlinewidth\":0,\"ticks\":\"\"}}],\"histogram2d\":[{\"type\":\"histogram2d\",\"colorbar\":{\"outlinewidth\":0,\"ticks\":\"\"},\"colorscale\":[[0.0,\"#0d0887\"],[0.1111111111111111,\"#46039f\"],[0.2222222222222222,\"#7201a8\"],[0.3333333333333333,\"#9c179e\"],[0.4444444444444444,\"#bd3786\"],[0.5555555555555556,\"#d8576b\"],[0.6666666666666666,\"#ed7953\"],[0.7777777777777778,\"#fb9f3a\"],[0.8888888888888888,\"#fdca26\"],[1.0,\"#f0f921\"]]}],\"heatmap\":[{\"type\":\"heatmap\",\"colorbar\":{\"outlinewidth\":0,\"ticks\":\"\"},\"colorscale\":[[0.0,\"#0d0887\"],[0.1111111111111111,\"#46039f\"],[0.2222222222222222,\"#7201a8\"],[0.3333333333333333,\"#9c179e\"],[0.4444444444444444,\"#bd3786\"],[0.5555555555555556,\"#d8576b\"],[0.6666666666666666,\"#ed7953\"],[0.7777777777777778,\"#fb9f3a\"],[0.8888888888888888,\"#fdca26\"],[1.0,\"#f0f921\"]]}],\"heatmapgl\":[{\"type\":\"heatmapgl\",\"colorbar\":{\"outlinewidth\":0,\"ticks\":\"\"},\"colorscale\":[[0.0,\"#0d0887\"],[0.1111111111111111,\"#46039f\"],[0.2222222222222222,\"#7201a8\"],[0.3333333333333333,\"#9c179e\"],[0.4444444444444444,\"#bd3786\"],[0.5555555555555556,\"#d8576b\"],[0.6666666666666666,\"#ed7953\"],[0.7777777777777778,\"#fb9f3a\"],[0.8888888888888888,\"#fdca26\"],[1.0,\"#f0f921\"]]}],\"contourcarpet\":[{\"type\":\"contourcarpet\",\"colorbar\":{\"outlinewidth\":0,\"ticks\":\"\"}}],\"contour\":[{\"type\":\"contour\",\"colorbar\":{\"outlinewidth\":0,\"ticks\":\"\"},\"colorscale\":[[0.0,\"#0d0887\"],[0.1111111111111111,\"#46039f\"],[0.2222222222222222,\"#7201a8\"],[0.3333333333333333,\"#9c179e\"],[0.4444444444444444,\"#bd3786\"],[0.5555555555555556,\"#d8576b\"],[0.6666666666666666,\"#ed7953\"],[0.7777777777777778,\"#fb9f3a\"],[0.8888888888888888,\"#fdca26\"],[1.0,\"#f0f921\"]]}],\"surface\":[{\"type\":\"surface\",\"colorbar\":{\"outlinewidth\":0,\"ticks\":\"\"},\"colorscale\":[[0.0,\"#0d0887\"],[0.1111111111111111,\"#46039f\"],[0.2222222222222222,\"#7201a8\"],[0.3333333333333333,\"#9c179e\"],[0.4444444444444444,\"#bd3786\"],[0.5555555555555556,\"#d8576b\"],[0.6666666666666666,\"#ed7953\"],[0.7777777777777778,\"#fb9f3a\"],[0.8888888888888888,\"#fdca26\"],[1.0,\"#f0f921\"]]}],\"mesh3d\":[{\"type\":\"mesh3d\",\"colorbar\":{\"outlinewidth\":0,\"ticks\":\"\"}}],\"scatter\":[{\"fillpattern\":{\"fillmode\":\"overlay\",\"size\":10,\"solidity\":0.2},\"type\":\"scatter\"}],\"parcoords\":[{\"type\":\"parcoords\",\"line\":{\"colorbar\":{\"outlinewidth\":0,\"ticks\":\"\"}}}],\"scatterpolargl\":[{\"type\":\"scatterpolargl\",\"marker\":{\"colorbar\":{\"outlinewidth\":0,\"ticks\":\"\"}}}],\"bar\":[{\"error_x\":{\"color\":\"#2a3f5f\"},\"error_y\":{\"color\":\"#2a3f5f\"},\"marker\":{\"line\":{\"color\":\"#E5ECF6\",\"width\":0.5},\"pattern\":{\"fillmode\":\"overlay\",\"size\":10,\"solidity\":0.2}},\"type\":\"bar\"}],\"scattergeo\":[{\"type\":\"scattergeo\",\"marker\":{\"colorbar\":{\"outlinewidth\":0,\"ticks\":\"\"}}}],\"scatterpolar\":[{\"type\":\"scatterpolar\",\"marker\":{\"colorbar\":{\"outlinewidth\":0,\"ticks\":\"\"}}}],\"histogram\":[{\"marker\":{\"pattern\":{\"fillmode\":\"overlay\",\"size\":10,\"solidity\":0.2}},\"type\":\"histogram\"}],\"scattergl\":[{\"type\":\"scattergl\",\"marker\":{\"colorbar\":{\"outlinewidth\":0,\"ticks\":\"\"}}}],\"scatter3d\":[{\"type\":\"scatter3d\",\"line\":{\"colorbar\":{\"outlinewidth\":0,\"ticks\":\"\"}},\"marker\":{\"colorbar\":{\"outlinewidth\":0,\"ticks\":\"\"}}}],\"scattermapbox\":[{\"type\":\"scattermapbox\",\"marker\":{\"colorbar\":{\"outlinewidth\":0,\"ticks\":\"\"}}}],\"scatterternary\":[{\"type\":\"scatterternary\",\"marker\":{\"colorbar\":{\"outlinewidth\":0,\"ticks\":\"\"}}}],\"scattercarpet\":[{\"type\":\"scattercarpet\",\"marker\":{\"colorbar\":{\"outlinewidth\":0,\"ticks\":\"\"}}}],\"carpet\":[{\"aaxis\":{\"endlinecolor\":\"#2a3f5f\",\"gridcolor\":\"white\",\"linecolor\":\"white\",\"minorgridcolor\":\"white\",\"startlinecolor\":\"#2a3f5f\"},\"baxis\":{\"endlinecolor\":\"#2a3f5f\",\"gridcolor\":\"white\",\"linecolor\":\"white\",\"minorgridcolor\":\"white\",\"startlinecolor\":\"#2a3f5f\"},\"type\":\"carpet\"}],\"table\":[{\"cells\":{\"fill\":{\"color\":\"#EBF0F8\"},\"line\":{\"color\":\"white\"}},\"header\":{\"fill\":{\"color\":\"#C8D4E3\"},\"line\":{\"color\":\"white\"}},\"type\":\"table\"}],\"barpolar\":[{\"marker\":{\"line\":{\"color\":\"#E5ECF6\",\"width\":0.5},\"pattern\":{\"fillmode\":\"overlay\",\"size\":10,\"solidity\":0.2}},\"type\":\"barpolar\"}],\"pie\":[{\"automargin\":true,\"type\":\"pie\"}]},\"layout\":{\"autotypenumbers\":\"strict\",\"colorway\":[\"#636efa\",\"#EF553B\",\"#00cc96\",\"#ab63fa\",\"#FFA15A\",\"#19d3f3\",\"#FF6692\",\"#B6E880\",\"#FF97FF\",\"#FECB52\"],\"font\":{\"color\":\"#2a3f5f\"},\"hovermode\":\"closest\",\"hoverlabel\":{\"align\":\"left\"},\"paper_bgcolor\":\"white\",\"plot_bgcolor\":\"#E5ECF6\",\"polar\":{\"bgcolor\":\"#E5ECF6\",\"angularaxis\":{\"gridcolor\":\"white\",\"linecolor\":\"white\",\"ticks\":\"\"},\"radialaxis\":{\"gridcolor\":\"white\",\"linecolor\":\"white\",\"ticks\":\"\"}},\"ternary\":{\"bgcolor\":\"#E5ECF6\",\"aaxis\":{\"gridcolor\":\"white\",\"linecolor\":\"white\",\"ticks\":\"\"},\"baxis\":{\"gridcolor\":\"white\",\"linecolor\":\"white\",\"ticks\":\"\"},\"caxis\":{\"gridcolor\":\"white\",\"linecolor\":\"white\",\"ticks\":\"\"}},\"coloraxis\":{\"colorbar\":{\"outlinewidth\":0,\"ticks\":\"\"}},\"colorscale\":{\"sequential\":[[0.0,\"#0d0887\"],[0.1111111111111111,\"#46039f\"],[0.2222222222222222,\"#7201a8\"],[0.3333333333333333,\"#9c179e\"],[0.4444444444444444,\"#bd3786\"],[0.5555555555555556,\"#d8576b\"],[0.6666666666666666,\"#ed7953\"],[0.7777777777777778,\"#fb9f3a\"],[0.8888888888888888,\"#fdca26\"],[1.0,\"#f0f921\"]],\"sequentialminus\":[[0.0,\"#0d0887\"],[0.1111111111111111,\"#46039f\"],[0.2222222222222222,\"#7201a8\"],[0.3333333333333333,\"#9c179e\"],[0.4444444444444444,\"#bd3786\"],[0.5555555555555556,\"#d8576b\"],[0.6666666666666666,\"#ed7953\"],[0.7777777777777778,\"#fb9f3a\"],[0.8888888888888888,\"#fdca26\"],[1.0,\"#f0f921\"]],\"diverging\":[[0,\"#8e0152\"],[0.1,\"#c51b7d\"],[0.2,\"#de77ae\"],[0.3,\"#f1b6da\"],[0.4,\"#fde0ef\"],[0.5,\"#f7f7f7\"],[0.6,\"#e6f5d0\"],[0.7,\"#b8e186\"],[0.8,\"#7fbc41\"],[0.9,\"#4d9221\"],[1,\"#276419\"]]},\"xaxis\":{\"gridcolor\":\"white\",\"linecolor\":\"white\",\"ticks\":\"\",\"title\":{\"standoff\":15},\"zerolinecolor\":\"white\",\"automargin\":true,\"zerolinewidth\":2},\"yaxis\":{\"gridcolor\":\"white\",\"linecolor\":\"white\",\"ticks\":\"\",\"title\":{\"standoff\":15},\"zerolinecolor\":\"white\",\"automargin\":true,\"zerolinewidth\":2},\"scene\":{\"xaxis\":{\"backgroundcolor\":\"#E5ECF6\",\"gridcolor\":\"white\",\"linecolor\":\"white\",\"showbackground\":true,\"ticks\":\"\",\"zerolinecolor\":\"white\",\"gridwidth\":2},\"yaxis\":{\"backgroundcolor\":\"#E5ECF6\",\"gridcolor\":\"white\",\"linecolor\":\"white\",\"showbackground\":true,\"ticks\":\"\",\"zerolinecolor\":\"white\",\"gridwidth\":2},\"zaxis\":{\"backgroundcolor\":\"#E5ECF6\",\"gridcolor\":\"white\",\"linecolor\":\"white\",\"showbackground\":true,\"ticks\":\"\",\"zerolinecolor\":\"white\",\"gridwidth\":2}},\"shapedefaults\":{\"line\":{\"color\":\"#2a3f5f\"}},\"annotationdefaults\":{\"arrowcolor\":\"#2a3f5f\",\"arrowhead\":0,\"arrowwidth\":1},\"geo\":{\"bgcolor\":\"white\",\"landcolor\":\"#E5ECF6\",\"subunitcolor\":\"white\",\"showland\":true,\"showlakes\":true,\"lakecolor\":\"white\"},\"title\":{\"x\":0.05},\"mapbox\":{\"style\":\"light\"}}},\"xaxis\":{\"anchor\":\"y\",\"domain\":[0.0,0.49],\"title\":{\"text\":\"Glucose\"}},\"yaxis\":{\"anchor\":\"x\",\"domain\":[0.0,1.0],\"title\":{\"text\":\"BMI\"}},\"xaxis2\":{\"anchor\":\"y2\",\"domain\":[0.51,1.0],\"matches\":\"x\",\"title\":{\"text\":\"Glucose\"}},\"yaxis2\":{\"anchor\":\"x2\",\"domain\":[0.0,1.0],\"matches\":\"y\",\"showticklabels\":false},\"annotations\":[{\"font\":{},\"showarrow\":false,\"text\":\"Outcome=1\",\"x\":0.245,\"xanchor\":\"center\",\"xref\":\"paper\",\"y\":1.0,\"yanchor\":\"bottom\",\"yref\":\"paper\"},{\"font\":{},\"showarrow\":false,\"text\":\"Outcome=0\",\"x\":0.755,\"xanchor\":\"center\",\"xref\":\"paper\",\"y\":1.0,\"yanchor\":\"bottom\",\"yref\":\"paper\"}],\"coloraxis\":{\"colorbar\":{\"title\":{\"text\":\"Outcome\"}},\"colorscale\":[[0.0,\"#0d0887\"],[0.1111111111111111,\"#46039f\"],[0.2222222222222222,\"#7201a8\"],[0.3333333333333333,\"#9c179e\"],[0.4444444444444444,\"#bd3786\"],[0.5555555555555556,\"#d8576b\"],[0.6666666666666666,\"#ed7953\"],[0.7777777777777778,\"#fb9f3a\"],[0.8888888888888888,\"#fdca26\"],[1.0,\"#f0f921\"]]},\"legend\":{\"tracegroupgap\":0},\"title\":{\"text\":\"Facet Grid of Glucose vs. BMI by Diabetes Outcome\"}},                        {\"responsive\": true}                    ).then(function(){\n",
       "                            \n",
       "var gd = document.getElementById('3ff54219-d844-460d-8750-3a8a4a333be7');\n",
       "var x = new MutationObserver(function (mutations, observer) {{\n",
       "        var display = window.getComputedStyle(gd).display;\n",
       "        if (!display || display === 'none') {{\n",
       "            console.log([gd, 'removed!']);\n",
       "            Plotly.purge(gd);\n",
       "            observer.disconnect();\n",
       "        }}\n",
       "}});\n",
       "\n",
       "// Listen for the removal of the full notebook cells\n",
       "var notebookContainer = gd.closest('#notebook-container');\n",
       "if (notebookContainer) {{\n",
       "    x.observe(notebookContainer, {childList: true});\n",
       "}}\n",
       "\n",
       "// Listen for the clearing of the current output cell\n",
       "var outputEl = gd.closest('.output');\n",
       "if (outputEl) {{\n",
       "    x.observe(outputEl, {childList: true});\n",
       "}}\n",
       "\n",
       "                        })                };                });            </script>        </div>"
      ]
     },
     "metadata": {},
     "output_type": "display_data"
    }
   ],
   "source": [
    "fig4 = px.scatter(df, \n",
    "                  x='Glucose', \n",
    "                  y='BMI', \n",
    "                  facet_col='Outcome', \n",
    "                  color='Outcome', \n",
    "                  title='Facet Grid of Glucose vs. BMI by Diabetes Outcome')\n",
    "fig4.show()"
   ]
  },
  {
   "cell_type": "markdown",
   "id": "8f7a177c-5042-46ea-840d-f0514880068d",
   "metadata": {},
   "source": [
    "Individuals with diabetes (Outcome = 1) tend to have higher glucose levels and often higher BMIs compared to those without diabetes\n",
    "\n",
    "The spread in the left panel suggests that glucose levels are a strong indicator of diabetes, as people without diabetes predominantly have lower glucose levels"
   ]
  },
  {
   "cell_type": "markdown",
   "id": "58588cc2-0f61-4fe6-8981-a096680f1053",
   "metadata": {},
   "source": [
    "# Confidence Interval and Null Hypothesis Testing"
   ]
  },
  {
   "cell_type": "code",
   "execution_count": 68,
   "id": "8f08a45b-3c99-4b5a-8d6a-ca7abc5f0d43",
   "metadata": {},
   "outputs": [
    {
     "name": "stdout",
     "output_type": "stream",
     "text": [
      "Null Hypothesis states that Glucose levels of all Patients is 0\n",
      "Mean Glucose Level: 121.67708333333333\n",
      "95% Confidence Interval for Mean Glucose Level: (119.51912746819406, 123.8350391984726)\n",
      "t-statistic: 110.68790939889051\n",
      "p-value: 0.0\n",
      "The null hypothesis is rejected. The mean Glucose level is significantly different from zero.\n"
     ]
    }
   ],
   "source": [
    "from scipy import stats\n",
    "\n",
    "insulin_values = df['Glucose'][df['Glucose'] > 0]\n",
    "\n",
    "mean_insulin = insulin_values.mean()\n",
    "std_insulin = insulin_values.std(ddof=1)\n",
    "n = len(insulin_values)\n",
    "standard_error = std_insulin / np.sqrt(n)\n",
    "\n",
    "confidence_level = 0.95 # or 0.95\n",
    "confidence_interval = stats.t.interval(confidence_level, n - 1, loc=mean_insulin, scale=standard_error)\n",
    "\n",
    "hypothesized_mean = 0\n",
    "t_statistic, p_value = stats.ttest_1samp(insulin_values, hypothesized_mean)\n",
    "\n",
    "print(\"Null Hypothesis states that Glucose levels of all Patients is 0\")\n",
    "print(\"Mean Glucose Level:\", mean_insulin)\n",
    "print(\"95% Confidence Interval for Mean Glucose Level:\", confidence_interval)\n",
    "print(\"t-statistic:\", t_statistic)\n",
    "print(\"p-value:\", p_value)\n",
    "\n",
    "if p_value < 0.05:\n",
    "    print(\"The null hypothesis is rejected. The mean Glucose level is significantly different from zero.\")\n",
    "else:\n",
    "    print(\"The null hypothesis is not rejected. There is no significant difference from zero.\")\n"
   ]
  },
  {
   "cell_type": "code",
   "execution_count": 69,
   "id": "f58b0f9e-bb0c-4d5f-9370-d5926a3a8d42",
   "metadata": {},
   "outputs": [
    {
     "data": {
      "image/png": "[encoded data removed]",
      "text/plain": [
       "<Figure size 1000x600 with 1 Axes>"
      ]
     },
     "metadata": {},
     "output_type": "display_data"
    }
   ],
   "source": [
    "plt.figure(figsize=(10, 6))\n",
    "plt.hist(insulin_values, bins=15, alpha=0.6, color='skyblue', edgecolor='black')\n",
    "plt.axvline(mean_insulin, color='red', linestyle='dashed', linewidth=1, label='Mean Glucose Level')\n",
    "plt.axvspan(confidence_interval[0], confidence_interval[1], color='yellow', alpha=0.3, label='95% CI')\n",
    "plt.title('Distribution of Glucose Levels with 95% Confidence Interval')\n",
    "plt.xlabel('Glucose Level')\n",
    "plt.ylabel('Frequency')\n",
    "plt.legend()\n",
    "plt.show()"
   ]
  }
 ],
 "metadata": {
  "kernelspec": {
   "display_name": "Python 3 (ipykernel)",
   "language": "python",
   "name": "python3"
  },
  "language_info": {
   "codemirror_mode": {
    "name": "ipython",
    "version": 3
   },
   "file_extension": ".py",
   "mimetype": "text/x-python",
   "name": "python",
   "nbconvert_exporter": "python",
   "pygments_lexer": "ipython3",
   "version": "3.12.7"
  }
 },
 "nbformat": 4,
 "nbformat_minor": 5
}
